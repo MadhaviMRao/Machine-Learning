{
  "nbformat": 4,
  "nbformat_minor": 0,
  "metadata": {
    "colab": {
      "name": "BERT.ipynb",
      "provenance": [],
      "collapsed_sections": [],
      "include_colab_link": true
    },
    "kernelspec": {
      "name": "python3",
      "display_name": "Python 3"
    },
    "accelerator": "GPU"
  },
  "cells": [
    {
      "cell_type": "markdown",
      "metadata": {
        "id": "view-in-github",
        "colab_type": "text"
      },
      "source": [
        "<a href=\"https://colab.research.google.com/github/MadhaviMRao/Machine-Learning/blob/master/BERT.ipynb\" target=\"_parent\"><img src=\"https://colab.research.google.com/assets/colab-badge.svg\" alt=\"Open In Colab\"/></a>"
      ]
    },
    {
      "cell_type": "code",
      "metadata": {
        "id": "t9EoSMIsEbk9",
        "colab_type": "code",
        "outputId": "223a7cca-047c-40ea-95b4-4d426a4a7906",
        "colab": {
          "base_uri": "https://localhost:8080/",
          "height": 403
        }
      },
      "source": [
        "!wget https://storage.googleapis.com/bert_models/2018_10_18/uncased_L-12_H-768_A-12.zip\n",
        "!unzip uncased_L-12_H-768_A-12.zip\n",
        "!pip install bert-serving-server --no-deps"
      ],
      "execution_count": 0,
      "outputs": [
        {
          "output_type": "stream",
          "text": [
            "--2019-11-29 09:12:14--  https://storage.googleapis.com/bert_models/2018_10_18/uncased_L-12_H-768_A-12.zip\n",
            "Resolving storage.googleapis.com (storage.googleapis.com)... 108.177.15.128, 2a00:1450:400c:c04::80\n",
            "Connecting to storage.googleapis.com (storage.googleapis.com)|108.177.15.128|:443... connected.\n",
            "HTTP request sent, awaiting response... 200 OK\n",
            "Length: 407727028 (389M) [application/zip]\n",
            "Saving to: ‘uncased_L-12_H-768_A-12.zip’\n",
            "\n",
            "uncased_L-12_H-768_ 100%[===================>] 388.84M   240MB/s    in 1.6s    \n",
            "\n",
            "2019-11-29 09:12:21 (240 MB/s) - ‘uncased_L-12_H-768_A-12.zip’ saved [407727028/407727028]\n",
            "\n",
            "Archive:  uncased_L-12_H-768_A-12.zip\n",
            "   creating: uncased_L-12_H-768_A-12/\n",
            "  inflating: uncased_L-12_H-768_A-12/bert_model.ckpt.meta  \n",
            "  inflating: uncased_L-12_H-768_A-12/bert_model.ckpt.data-00000-of-00001  \n",
            "  inflating: uncased_L-12_H-768_A-12/vocab.txt  \n",
            "  inflating: uncased_L-12_H-768_A-12/bert_model.ckpt.index  \n",
            "  inflating: uncased_L-12_H-768_A-12/bert_config.json  \n",
            "Collecting bert-serving-server\n",
            "\u001b[?25l  Downloading https://files.pythonhosted.org/packages/b5/22/99cf4b56deca479fcb6e564afee1aa6f9356c3a947129a6371e7a252ef7a/bert_serving_server-1.9.9-py3-none-any.whl (61kB)\n",
            "\u001b[K     |████████████████████████████████| 71kB 4.2MB/s \n",
            "\u001b[?25hInstalling collected packages: bert-serving-server\n",
            "Successfully installed bert-serving-server-1.9.9\n"
          ],
          "name": "stdout"
        }
      ]
    },
    {
      "cell_type": "code",
      "metadata": {
        "id": "9wgqgXGcMe9d",
        "colab_type": "code",
        "outputId": "dfaef765-baab-4d1f-acdc-ee3f711d6b53",
        "colab": {
          "base_uri": "https://localhost:8080/",
          "height": 301
        }
      },
      "source": [
        "import os\n",
        "import tensorflow as tf\n",
        "sesh = tf.InteractiveSession()\n",
        "\n",
        "from bert_serving.server.graph import optimize_graph\n",
        "from bert_serving.server.helper import get_args_parser\n",
        "\n",
        "# input dir\n",
        "MODEL_DIR = '/content/uncased_L-12_H-768_A-12' #@param {type:\"string\"}\n",
        "# output dir\n",
        "GRAPH_DIR = '/content/graph/' #@param {type:\"string\"}\n",
        "# output filename\n",
        "GRAPH_OUT = 'extractor.pbtxt' #@param {type:\"string\"}\n",
        "\n",
        "POOL_STRAT = 'REDUCE_MEAN' #@param ['REDUCE_MEAN', 'REDUCE_MAX', \"NONE\"]\n",
        "POOL_LAYER = '-2' #@param {type:\"string\"}\n",
        "SEQ_LEN = '256' #@param {type:\"string\"}\n",
        "\n",
        "tf.gfile.MkDir(GRAPH_DIR)\n",
        "\n",
        "\n",
        "parser = get_args_parser()\n",
        "carg = parser.parse_args(args=['-model_dir', MODEL_DIR,\n",
        "                               '-graph_tmp_dir', GRAPH_DIR,\n",
        "                               '-max_seq_len', str(SEQ_LEN),\n",
        "                               '-pooling_layer', str(POOL_LAYER),\n",
        "                               '-pooling_strategy', POOL_STRAT])\n",
        "\n",
        "tmp_name, config = optimize_graph(carg)\n",
        "graph_fout = os.path.join(GRAPH_DIR, GRAPH_OUT)\n",
        "\n",
        "tf.gfile.Rename(\n",
        "    tmp_name,\n",
        "    graph_fout,\n",
        "    overwrite=True\n",
        ")\n",
        "print(\"\\nSerialized graph to {}\".format(graph_fout))"
      ],
      "execution_count": 0,
      "outputs": [
        {
          "output_type": "display_data",
          "data": {
            "text/html": [
              "<p style=\"color: red;\">\n",
              "The default version of TensorFlow in Colab will soon switch to TensorFlow 2.x.<br>\n",
              "We recommend you <a href=\"https://www.tensorflow.org/guide/migrate\" target=\"_blank\">upgrade</a> now \n",
              "or ensure your notebook will continue to use TensorFlow 1.x via the <code>%tensorflow_version 1.x</code> magic:\n",
              "<a href=\"https://colab.research.google.com/notebooks/tensorflow_version.ipynb\" target=\"_blank\">more info</a>.</p>\n"
            ],
            "text/plain": [
              "<IPython.core.display.HTML object>"
            ]
          },
          "metadata": {
            "tags": []
          }
        },
        {
          "output_type": "stream",
          "text": [
            "WARNING:tensorflow:From /usr/local/lib/python3.6/dist-packages/bert_serving/server/helper.py:186: The name tf.logging.set_verbosity is deprecated. Please use tf.compat.v1.logging.set_verbosity instead.\n",
            "\n",
            "WARNING:tensorflow:From /usr/local/lib/python3.6/dist-packages/bert_serving/server/helper.py:186: The name tf.logging.ERROR is deprecated. Please use tf.compat.v1.logging.ERROR instead.\n",
            "\n"
          ],
          "name": "stdout"
        },
        {
          "output_type": "stream",
          "text": [
            "I:\u001b[36mGRAPHOPT\u001b[0m:[gra:opt: 52]:model config: /content/uncased_L-12_H-768_A-12/bert_config.json\n",
            "I:\u001b[36mGRAPHOPT\u001b[0m:[gra:opt: 55]:checkpoint: /content/uncased_L-12_H-768_A-12/bert_model.ckpt\n",
            "I:\u001b[36mGRAPHOPT\u001b[0m:[gra:opt: 59]:build graph...\n",
            "I:\u001b[36mGRAPHOPT\u001b[0m:[gra:opt:129]:load parameters from checkpoint...\n",
            "I:\u001b[36mGRAPHOPT\u001b[0m:[gra:opt:133]:optimize...\n",
            "I:\u001b[36mGRAPHOPT\u001b[0m:[gra:opt:141]:freeze...\n",
            "I:\u001b[36mGRAPHOPT\u001b[0m:[gra:opt:146]:write graph to a tmp file: /content/graph/tmp5f9ew5ko\n"
          ],
          "name": "stderr"
        },
        {
          "output_type": "stream",
          "text": [
            "\n",
            "Serialized graph to /content/graph/extractor.pbtxt\n"
          ],
          "name": "stdout"
        }
      ]
    },
    {
      "cell_type": "code",
      "metadata": {
        "id": "VhqElEzg98wQ",
        "colab_type": "code",
        "colab": {}
      },
      "source": [
        "import logging\n",
        "import numpy as np\n",
        "\n",
        "from tensorflow.python.estimator.estimator import Estimator\n",
        "from tensorflow.python.estimator.run_config import RunConfig\n",
        "from tensorflow.python.estimator.model_fn import EstimatorSpec\n",
        "from tensorflow.keras.utils import Progbar\n",
        "\n",
        "from bert_serving.server.bert.tokenization import FullTokenizer\n",
        "from bert_serving.server.bert.extract_features import convert_lst_to_features\n",
        "\n",
        "\n",
        "log = logging.getLogger('tensorflow')\n",
        "log.setLevel(logging.INFO)\n",
        "log.handlers = []"
      ],
      "execution_count": 0,
      "outputs": []
    },
    {
      "cell_type": "code",
      "metadata": {
        "id": "4efQbvvS-AWO",
        "colab_type": "code",
        "colab": {}
      },
      "source": [
        "GRAPH_PATH = \"/content/graph/extractor.pbtxt\" #@param {type:\"string\"}\n",
        "VOCAB_PATH = \"/content/uncased_L-12_H-768_A-12/vocab.txt\" #@param {type:\"string\"}\n",
        "\n",
        "SEQ_LEN = 256 #@param {type:\"integer\"}"
      ],
      "execution_count": 0,
      "outputs": []
    },
    {
      "cell_type": "code",
      "metadata": {
        "id": "6u4wa850-DIl",
        "colab_type": "code",
        "colab": {}
      },
      "source": [
        "INPUT_NAMES = ['input_ids', 'input_mask', 'input_type_ids']\n",
        "bert_tokenizer = FullTokenizer(VOCAB_PATH)\n",
        "\n",
        "def build_feed_dict(texts):\n",
        "    \n",
        "    text_features = list(convert_lst_to_features(\n",
        "        texts, SEQ_LEN, SEQ_LEN, \n",
        "        bert_tokenizer, log, False, False))\n",
        "\n",
        "    target_shape = (len(texts), -1)\n",
        "\n",
        "    feed_dict = {}\n",
        "    for iname in INPUT_NAMES:\n",
        "        features_i = np.array([getattr(f, iname) for f in text_features])\n",
        "        features_i = features_i.reshape(target_shape).astype(\"int32\")\n",
        "        feed_dict[iname] = features_i\n",
        "\n",
        "    return feed_dict"
      ],
      "execution_count": 0,
      "outputs": []
    },
    {
      "cell_type": "code",
      "metadata": {
        "id": "NIguYhim-JKH",
        "colab_type": "code",
        "colab": {}
      },
      "source": [
        "def build_input_fn(container):\n",
        "    \n",
        "    def gen():\n",
        "        while True:\n",
        "          try:\n",
        "            yield build_feed_dict(container.get())\n",
        "          except:\n",
        "            yield build_feed_dict(container.get())\n",
        "\n",
        "    def input_fn():\n",
        "        return tf.data.Dataset.from_generator(\n",
        "            gen,\n",
        "            output_types={iname: tf.int32 for iname in INPUT_NAMES},\n",
        "            output_shapes={iname: (None, None) for iname in INPUT_NAMES})\n",
        "    return input_fn\n",
        "\n",
        "class DataContainer:\n",
        "  def __init__(self):\n",
        "    self._texts = None\n",
        "  \n",
        "  def set(self, texts):\n",
        "    if type(texts) is str:\n",
        "      texts = [texts]\n",
        "    self._texts = texts\n",
        "    \n",
        "  def get(self):\n",
        "    return self._texts"
      ],
      "execution_count": 0,
      "outputs": []
    },
    {
      "cell_type": "code",
      "metadata": {
        "id": "QZEp1993-OEp",
        "colab_type": "code",
        "outputId": "716715de-24bc-4601-8038-8994e75cfee6",
        "colab": {
          "base_uri": "https://localhost:8080/",
          "height": 34
        }
      },
      "source": [
        "def model_fn(features, mode):\n",
        "    with tf.gfile.GFile(GRAPH_PATH, 'rb') as f:\n",
        "        graph_def = tf.GraphDef()\n",
        "        graph_def.ParseFromString(f.read())\n",
        "        \n",
        "    output = tf.import_graph_def(graph_def,\n",
        "                                 input_map={k + ':0': features[k] for k in INPUT_NAMES},\n",
        "                                 return_elements=['final_encodes:0'])\n",
        "\n",
        "    return EstimatorSpec(mode=mode, predictions={'output': output[0]})\n",
        "  \n",
        "estimator = Estimator(model_fn=model_fn)"
      ],
      "execution_count": 0,
      "outputs": [
        {
          "output_type": "stream",
          "text": [
            "Using temporary folder as model directory: /tmp/tmpf8ame43x\n"
          ],
          "name": "stderr"
        }
      ]
    },
    {
      "cell_type": "code",
      "metadata": {
        "id": "8lxJmiYV-Vch",
        "colab_type": "code",
        "colab": {}
      },
      "source": [
        "def batch(iterable, n=1):\n",
        "    l = len(iterable)\n",
        "    for ndx in range(0, l, n):\n",
        "        yield iterable[ndx:min(ndx + n, l)]\n",
        "\n",
        "def build_vectorizer(_estimator, _input_fn_builder, batch_size=128):\n",
        "  container = DataContainer()\n",
        "  predict_fn = _estimator.predict(_input_fn_builder(container), yield_single_examples=False)\n",
        "  \n",
        "  def vectorize(text, verbose=False):\n",
        "    x = []\n",
        "    bar = Progbar(len(text))\n",
        "    for text_batch in batch(text, batch_size):\n",
        "      container.set(text_batch)\n",
        "      x.append(next(predict_fn)['output'])\n",
        "      if verbose:\n",
        "        bar.add(len(text_batch))\n",
        "      \n",
        "    r = np.vstack(x)\n",
        "    return r\n",
        "  \n",
        "  return vectorize"
      ],
      "execution_count": 0,
      "outputs": []
    },
    {
      "cell_type": "code",
      "metadata": {
        "id": "KLNs_jG6-YSA",
        "colab_type": "code",
        "colab": {}
      },
      "source": [
        "bert_vectorizer = build_vectorizer(estimator, build_input_fn)"
      ],
      "execution_count": 0,
      "outputs": []
    },
    {
      "cell_type": "code",
      "metadata": {
        "id": "IvV_kCDa-ZaR",
        "colab_type": "code",
        "outputId": "74e35323-bfe0-4bad-c8f9-2ee6c96af46e",
        "colab": {
          "base_uri": "https://localhost:8080/",
          "height": 34
        }
      },
      "source": [
        "bert_vectorizer"
      ],
      "execution_count": 0,
      "outputs": [
        {
          "output_type": "execute_result",
          "data": {
            "text/plain": [
              "<function __main__.build_vectorizer.<locals>.vectorize>"
            ]
          },
          "metadata": {
            "tags": []
          },
          "execution_count": 71
        }
      ]
    },
    {
      "cell_type": "markdown",
      "metadata": {
        "id": "l9xyaENJ-pB1",
        "colab_type": "text"
      },
      "source": [
        "building a nearest neighbour search engine"
      ]
    },
    {
      "cell_type": "code",
      "metadata": {
        "id": "JMxMkLB1-nBD",
        "colab_type": "code",
        "colab": {}
      },
      "source": [
        "class L2Retriever:\n",
        "    def __init__(self, dim, top_k=3, use_norm=False, use_gpu=True):\n",
        "        print(\"l2 0.1----\")\n",
        "        self.dim = dim\n",
        "        self.top_k = top_k\n",
        "        self.use_norm = use_norm\n",
        "        config = tf.ConfigProto(\n",
        "            device_count={'GPU': (1 if use_gpu else 0)}\n",
        "        )\n",
        "        self.session = tf.Session(config=config)\n",
        "        print(\"l2 0.2----\")\n",
        "        self.norm = None\n",
        "        print(\"l2 0.3----\")\n",
        "        self.query = tf.placeholder(\"float\", [self.dim])\n",
        "        print(\"l2 0.4----\")\n",
        "        self.kbase = tf.placeholder(\"float\", [None, self.dim])\n",
        "        print(\"l2 1----\")\n",
        "        self.build_graph()\n",
        "        print(\"l2 2----\")\n",
        "\n",
        "    def build_graph(self):\n",
        "        print(\"l2 3----\")\n",
        "\n",
        "      \n",
        "        if self.use_norm:\n",
        "            self.norm = tf.placeholder(\"float\", [None, 1])\n",
        "        print(\"l2 4----\")\n",
        "\n",
        "        distance = dot_l2_distances(self.kbase, self.query, self.norm)\n",
        "        top_neg_dists, top_indices = tf.math.top_k(tf.negative(distance), k=self.top_k)\n",
        "        top_dists = tf.negative(top_neg_dists)\n",
        "\n",
        "        self.top_distances = top_dists\n",
        "        self.top_indices = top_indices\n",
        "\n",
        "    def predict(self, kbase, query, norm=None):\n",
        "        print(\"l2 5----\")  \n",
        "        query = np.squeeze(query)\n",
        "        feed_dict = {self.query: query, self.kbase: kbase}\n",
        "        if self.use_norm:\n",
        "          feed_dict[self.norm] = norm\n",
        "        \n",
        "        I, D = self.session.run([self.top_indices, self.top_distances],\n",
        "                                feed_dict=feed_dict)\n",
        "        \n",
        "        return I, D\n",
        "      \n",
        "def dot_l2_distances(kbase, query, norm=None):\n",
        "    query = tf.reshape(query, (1, -1))\n",
        "    \n",
        "    if norm is None:\n",
        "      XX = tf.keras.backend.batch_dot(kbase, kbase, axes=1)\n",
        "    else:\n",
        "      XX = norm\n",
        "    YY = tf.matmul(query, tf.transpose(query))\n",
        "    XY = tf.matmul(kbase, tf.transpose(query))\n",
        "    \n",
        "    distance = XX - 2 * XY + YY\n",
        "    distance = tf.sqrt(tf.reshape(distance, (-1,)))\n",
        "    \n",
        "    return distance"
      ],
      "execution_count": 0,
      "outputs": []
    },
    {
      "cell_type": "code",
      "metadata": {
        "id": "ztla0YxoEzqB",
        "colab_type": "code",
        "colab": {}
      },
      "source": [
        "from google.colab import files\n",
        "import io\n",
        "\n",
        "#uploaded = files.upload()"
      ],
      "execution_count": 0,
      "outputs": []
    },
    {
      "cell_type": "code",
      "metadata": {
        "id": "rRXtal5BTeDd",
        "colab_type": "code",
        "colab": {}
      },
      "source": [
        "#for fn in uploaded.keys():\n",
        " # print('User uploaded file \"{name}\" with length {length} bytes'.format(name=fn, length=len(uploaded[fn])))"
      ],
      "execution_count": 0,
      "outputs": []
    },
    {
      "cell_type": "code",
      "metadata": {
        "id": "xZW-xBzwVcKU",
        "colab_type": "code",
        "colab": {}
      },
      "source": [
        "#print(uploaded.keys())"
      ],
      "execution_count": 0,
      "outputs": []
    },
    {
      "cell_type": "code",
      "metadata": {
        "id": "b2ujb_foZ497",
        "colab_type": "code",
        "outputId": "05187f36-a5e3-4449-e031-d1157eccabe6",
        "colab": {
          "base_uri": "https://localhost:8080/",
          "height": 121
        }
      },
      "source": [
        "from google.colab import drive\n",
        "drive.mount('/content/gdrive')"
      ],
      "execution_count": 0,
      "outputs": [
        {
          "output_type": "stream",
          "text": [
            "Go to this URL in a browser: https://accounts.google.com/o/oauth2/auth?client_id=947318989803-6bn6qk8qdgf4n4g3pfee6491hc0brc4i.apps.googleusercontent.com&redirect_uri=urn%3aietf%3awg%3aoauth%3a2.0%3aoob&response_type=code&scope=email%20https%3a%2f%2fwww.googleapis.com%2fauth%2fdocs.test%20https%3a%2f%2fwww.googleapis.com%2fauth%2fdrive%20https%3a%2f%2fwww.googleapis.com%2fauth%2fdrive.photos.readonly%20https%3a%2f%2fwww.googleapis.com%2fauth%2fpeopleapi.readonly\n",
            "\n",
            "Enter your authorization code:\n",
            "··········\n",
            "Mounted at /content/gdrive\n"
          ],
          "name": "stdout"
        }
      ]
    },
    {
      "cell_type": "markdown",
      "metadata": {
        "id": "5niarvj2a1AH",
        "colab_type": "text"
      },
      "source": [
        "# New Section"
      ]
    },
    {
      "cell_type": "code",
      "metadata": {
        "id": "KZ7CjmnjaK4A",
        "colab_type": "code",
        "colab": {}
      },
      "source": [
        "f= open('/content/gdrive/My Drive/Colab Notebooks/txt1.txt','r')\n",
        "txt1=f.readlines()\n",
        "f= open('/content/gdrive/My Drive/Colab Notebooks/txt2.txt','r')\n",
        "txt2=f.readlines()\n",
        "f= open('/content/gdrive/My Drive/Colab Notebooks/txt3.txt','r')\n",
        "txt3=f.readlines()\n",
        "f= open('/content/gdrive/My Drive/Colab Notebooks/txt4.txt','r')\n",
        "txt4=f.readlines()\n",
        "f= open('/content/gdrive/My Drive/Colab Notebooks/txt5.txt','r')\n",
        "txt5=f.readlines()\n",
        "f= open('/content/gdrive/My Drive/Colab Notebooks/txt6.txt','r')\n",
        "txt6=f.readlines()\n",
        "f= open('/content/gdrive/My Drive/Colab Notebooks/physics.txt','r')\n",
        "txt7=f.readlines()\n",
        "#/content/gdrive/My Drive/Colab Notebooks/txt1.txt\n",
        "\n"
      ],
      "execution_count": 0,
      "outputs": []
    },
    {
      "cell_type": "code",
      "metadata": {
        "id": "ssJAByraeJOl",
        "colab_type": "code",
        "outputId": "fc5f4a11-1434-43c7-ca4f-17edf7bf1ec2",
        "colab": {
          "base_uri": "https://localhost:8080/",
          "height": 222
        }
      },
      "source": [
        "txt6"
      ],
      "execution_count": 0,
      "outputs": [
        {
          "output_type": "execute_result",
          "data": {
            "text/plain": [
              "['A typical AI analyzes its environment and takes actions that maximize its chance of success.[1] An AI\\'s intended utility function (or goal) can be simple (\"1 if the AI wins a game of Go, 0 otherwise\") or complex (\"Do mathematically similar actions to the ones succeeded in the past\"). Goals can be explicitly defined, or induced. If the AI is programmed for \"reinforcement learning\", goals can be implicitly induced by rewarding some types of behavior or punishing others.[a] Alternatively, an evolutionary system can induce goals by using a \"fitness function\" to mutate and preferentially replicate high-scoring AI systems, similarly to how animals evolved to innately desire certain goals such as finding food.[59] Some AI systems, such as nearest-neighbor, instead of reason by analogy, these systems are not generally given goals, except to the degree that goals are implicit in their training data.[60] Such systems can still be benchmarked if the non-goal system is framed as a system whose \"goal\" is to successfully accomplish its narrow classification task.[61]\\n',\n",
              " '\\n',\n",
              " 'AI often revolves around the use of algorithms. An algorithm is a set of unambiguous instructions that a mechanical computer can execute.[b] A complex algorithm is often built on top of other, simpler, algorithms. A simple example of an algorithm is the following (optimal for first player) recipe for play at tic-tac-toe:[62]\\n',\n",
              " '\\n',\n",
              " 'If someone has a \"threat\" (that is, two in a row), take the remaining square. Otherwise,\\n',\n",
              " 'if a move \"forks\" to create two threats at once, play that move. Otherwise,\\n',\n",
              " 'take the center square if it is free. Otherwise,\\n',\n",
              " 'if your opponent has played in a corner, take the opposite corner. Otherwise,\\n',\n",
              " 'take an empty corner if one exists. Otherwise,\\n',\n",
              " 'take any empty square.\\n',\n",
              " 'Many AI algorithms are capable of learning from data; they can enhance themselves by learning new heuristics (strategies, or \"rules of thumb\", that have worked well in the past), or can themselves write other algorithms. Some of the \"learners\" described below, including Bayesian networks, decision trees, and nearest-neighbor, could theoretically, (given infinite data, time, and memory) learn to approximate any function, including which combination of mathematical functions would best describe the world[citation needed]. These learners could therefore, derive all possible knowledge, by considering every possible hypothesis and matching them against the data. In practice, it is almost never possible to consider every possibility, because of the phenomenon of \"combinatorial explosion\", where the amount of time needed to solve a problem grows exponentially. Much of AI research involves figuring out how to identify and avoid considering broad range of possibilities that are unlikely to be beneficial.[63][64] For example, when viewing a map and looking for the shortest driving route from Denver to New York in the East, one can in most cases skip looking at any path through San Francisco or other areas far to the West; thus, an AI wielding a pathfinding algorithm like A* can avoid the combinatorial explosion that would ensue if every possible route had to be ponderously considered in turn.[65]']"
            ]
          },
          "metadata": {
            "tags": []
          },
          "execution_count": 43
        }
      ]
    },
    {
      "cell_type": "code",
      "metadata": {
        "id": "6UN1p5e5eTf8",
        "colab_type": "code",
        "colab": {}
      },
      "source": [
        ""
      ],
      "execution_count": 0,
      "outputs": []
    },
    {
      "cell_type": "code",
      "metadata": {
        "id": "qXtCJtOFeiOU",
        "colab_type": "code",
        "outputId": "c66a3444-bae9-4b4b-c9e9-0686cf9388cd",
        "colab": {
          "base_uri": "https://localhost:8080/",
          "height": 121
        }
      },
      "source": [
        "X=[]\n",
        "title=[]\n",
        "text=[]\n",
        "\n",
        "\n",
        "list_txt=[txt1,txt2,txt3,txt4,txt5,txt6,txt7]\n",
        "\n",
        "print(list_txt)\n",
        "for doc in list_txt:\n",
        "  tx=\"\"\n",
        "  t=\"\"\n",
        "  c=True\n",
        "  for line in doc:\n",
        "    if line.startswith('--'):\n",
        "      if c==False:\n",
        "        continue\n",
        "      c=False\n",
        "      t=line.split('--')[1].replace('\\n','')\n",
        "    else:\n",
        "      tx=tx+line.replace('\\n','').strip()\n",
        "  title.append(t)\n",
        "  text.append(t+\". \"+tx)\n",
        "\n",
        "print(\"title ------\",len(title))\n",
        "print(\"text ---------\", len(text))\n",
        "print(\"title is---------\", title)\n",
        "print(\"text is---------\", text)\n",
        "\n"
      ],
      "execution_count": 0,
      "outputs": [
        {
          "output_type": "stream",
          "text": [
            "[[\"-- ECB's Liikanen says global economy more uncertain\\n\", '-- \\n', '-- Tue Aug 16, 2011 4:07am EDT\\n', '-- http://www.reuters.com/article/2011/08/16/us-ecb-liikanen-idUSTRE77F1CB20110816\\n', '\\n', ' \\n', '\\n', ' TURKU, Finland  (Reuters) - The global economy has moved in an alarming and uncertain direction in recent weeks, ECB Governing Council member Erkki Liikanen said on Tuesday. \\n', '\\n', ' \"The situation in the international economy has again moved in an alarming direction in last weeks. There is more uncertainty about economic growth than before,\" he said in a speech at a seminar in Turku, Finland. Liikanen said the European Central Bank has taken decisive measures to ensure the transmission of monetary policy. \"However, monetary policy can\\'t alone solve tension in the financial markets as the background is excessive debt in public finances. It requires action by governments and parliaments,\" he said. (Reporting by  Jussi Rosendahl )'], ['-- Exclusive: ECB mulls ultra-long loans to help banks\\n', \"-- By  John O'Donnell\\n\", '-- Thu Nov 24, 2011 7:04am EST\\n', '-- http://www.reuters.com/article/2011/11/24/us-ecb-liquidity-idUSTRE7AN0PF20111124\\n', '\\n', ' \\n', '\\n', \" BRUSSELS  (Reuters) - The European Central Bank is looking at extending the term of loans it offers banks to 2 or even 3 years to try to prevent the euro zone crisis precipitating a credit crunch that chokes the bloc's economy, people familiar with the matter say. \\n\", ' The ECB is examining this unprecedented possibility as intensifying fears about the euro zone succumbing to its debt crisis hurt the interbank money market, with banks scaling down the list of peers to which they are ready to lend. The central bank is looking into offering banks liquidity over a 2-year or even 3-year horizon, the sources said, aiming to free up the increasingly blocked interbank money market and give banks more leeway to buy and hold sovereign bonds. To date, the longest term it has offered funds is one year. As the sovereign debt crisis has worsened, the ECB has been coming under increasing pressure to intervene on a larger scale by buying state bonds but is reluctant to make such a commitment. It does, however, have the freedom to lend banks trillions of euros and could use this firepower to indirectly support governments trying to issue debt. The ECB has flagged the possibility of longer-term loans to banks, sources familiar with the matter told Reuters, in a move that could be aimed at gauging their interest ahead of a launch. The possibility of lending over a longer time horizon was raised at a meeting last week between the ECB and a group of banks including Goldman Sachs, Barclays Capital and Morgan Stanley, according to one person familiar with the matter. \"What was said was that they would be prepared to offer two or three years LTRO (lending operations),\" that person said. \"The question (for the ECB) is whether banks would be interested in it. It could be seen as a stigma if a bank was using 2 or 3-year financing with the ECB. It might not get enough take-up to make a difference.\" Another source said the ECB was looking at the possibility of providing liquidity over a similar time horizon but by giving a series of shorter-term loans with the pledge to keep this line of credit open for up to three years. A third official familiar with the matter said: \"It\\'s being discussed ... But there is no decision yet.\" The ECB first introduced extra-long 12-month liquidity tenders in June 2009. Last month, it rewewed offers to lend banks one-year funding in two operations this year -- a 12-month longer-term refinancing operation (LTRO) in October and a 13-month operation in December. There has, however, only been lukewarm interest, suggesting that more ECB cash may not be the answer to a creeping credit freeze. Interbank markets remain tight, with banks worried about the health of their peers and also holding back cash as they face the prospect of having to set aside funds to cover potential losses on their sovereign debt holdings. International demands that they raise their capital base have exacerbated the problem. This nervousness was highlighted on Tuesday when euro zone banks\\' demand for ECB funding surged to a two-year high, as fast spreading sovereign debt worries left lending markets virtually frozen and the ECB as the only source of funding for many institutions. ECB Governing Council member Luc Coene said earlier this week regulators must ensure banks take account of the riskiness of government bonds they own, adding to pressure on banks to set aside more capital to cover such losses. By offering banks liquidity for an ultra-long period of two or three years, the ECB could help to reinforce confidence in banks and also do the same for rocky sovereign debt markets. \"To the extent that you are improving the situation for banks, you are improving the situation for a major potential purchaser for sovereign debt,\" said one banker. \"They will know that they can refinance with the bank (ECB).\" One senior executive from a European bank, speaking anonymously, said he favored an extension of the terms under which the ECB lends to banks. \"Now, it\\'s 13 months and if we could go to 24 months, that would be better. Thirty six months would be better still but then we are at the point of medium-term financing.\" (Editing by Mike Peacock)'], ['-- Euro banks borrow less than expected from ECB\\n', '-- \\n', '-- Wed Jun 30, 2010 8:04am EDT\\n', '-- http://www.reuters.com/article/2010/06/30/us-ecb-liquidity-idUSTRE65T2ES20100630\\n', '\\n', ' \\n', '\\n', ' FRANKFURT  (Reuters) - Banks borrowed less than expected from the European Central Bank in a key funding operation on Wednesday, easing fears about how they would cope with repaying close to half a trillion euros in emergency loans on Thursday. \\n', '\\n', ' The relatively low take-up helps to ease concerns about bank finances which have rocked stock and debt markets this week, but also raises the risk of market interest rates ticking higher as liquidity supplies may recede. The ECB said 171 banks borrowed 131.9 billion euros ($161.4 billion) over three months, below expectations in a Reuters poll for demand of 210 billion euros. The amount is still the highest ever borrowed in a three-month operation but pales beside the 442 billion euros of one-year money which 1,121 banks must repay to the ECB on Thursday as the ECB\\'s first-ever one-year loans expire. European shares gained on the news while the euro rose across the board and yield spreads for Spanish and Italian government bonds eased. \"All in all it is a positive signal for the European banking system,\" said UniCredit fixed income strategist Kornelius Purps. \"This is, in my view, why we see the reaction in the market ... some of the fear is being priced out of the fixed income universe.\" Investors are watching the euro zone money market closely for signs of the sort of problems in bank to bank lending which broadened the financial crisis in 2008. It is also vital that the market functions well to generate affordable loans for consumers and businesses, needed to spur economic growth. Deutsche Bank economist Gilles Moec said the low take-up blunted concerns about an unhealthy dependency on ECB funds, which have focused on Spanish, Greek and Portuguese banks. \"It\\'s definitely a good sign and means there is still some interbank lending occurring within the European money market, and that\\'s it\\'s not just a vertical relationship between banks and the ECB,\" he said. LIQUIDITY SQUEEZE? The roll-over accounts for less than a third of the 12-month money which the ECB has flushed through the financial system since the height of the financial crisis, pushing interbank rates to record lows. Banks, though, will still have the chance to borrow unlimited six-day funds at another operation on Thursday. Market participants said the results of this operation would also be fundamental to gauging the extent of bank funding stress and the likely impact on interest rates. \"We still have the six-days to be filled, it\\'s about the total,\" one euro zone money market trader said, predicting demand of about 180 billion euros. \"In my opinion there will be enough over-liquidity to keep rates around current levels ... but we will see tomorrow.\" Benchmark Euribor rates have risen to 9-1/2 month highs as the repayment date approached but still remain below the ECB\\'s 1 percent benchmark for maturities out to five months, and overnight rates around 0.3 percent. Commerzbank analyst Christoph Rieder said without including the results of the six-day operation, there would be a net outflow of 269 billion euros from euro-zone money markets on Thursday and this could push rates higher. \"This is a level where upside pressure on overnight rates could be building,\" he said. \"Funding conditions look set to become more restrictive during this summer with the volume and maturity of outstanding ECB operations declining.\" Calculations based on ECB data show there is about 327 billion euros in excess liquidity in the system on Wednesday, suggesting banks will need to borrow around 60 billion euros over six days to keep current buffers in place. The next crunch day for liquidity supply is September 30, when banks must repay a total of 225 billion euros in 12-, six- and three-month funds -- including the latest operation -- and can take advantage of the ECB\\'s last scheduled three-month operation with unlimited allotment to meet liquidity needs for the remainder of 2010. (Reporting by  Krista Hughes , editing by Mike Peacock and  Patrick Graham )'], ['-- ECB changes tack on Irish support, eases collateral\\n', \"-- By  Marc Jones  and  John O'Donnell\\n\", '-- Thu Mar 31, 2011 6:23pm EDT\\n', '-- http://www.reuters.com/article/2011/03/31/us-ecb-liquidity-idUSTRE72U5PR20110331\\n', '\\n', ' \\n', '\\n', ' FRANKFURT/BRUSSELS  (Reuters) - The European Central Bank threw a lifeline to Irish banks on Thursday by suspending collateral requirements for loans to them, but it stepped back from a more ambitious plan to create a new funding facility for the banks. \\n', '\\n', ' As Ireland released results of stress tests of the health of its banks, revealing a 24 billion euro capital shortfall among them, the ECB said it would no longer insist on minimum credit ratings for Irish sovereign debt, or for debt guaranteed by the Irish government, when accepting it as collateral in money market operations. That will help Irish banks, which are major holders of their country\\'s debt, continue to borrow in ECB operations if Ireland\\'s bonds are downgraded further. Last year the ECB took a similar step to aid Greek banks. Ireland\\'s banks are heavily dependent on ECB funding, in the form of short-term loans of up to three months, because other euro zone banks refuse to lend to them in open markets. On top of the 85 billion euros which they borrowed from the ECB in February, Irish banks took a record 70 billion euros in emergency funding from the Irish central bank. But while the ECB suspended collateral requirements, it did not proceed with broader plans to establish a new facility that would provide medium-term funding to Irish banks and potentially banks from other weak euro zone states in future. This facility, by providing loans with longer tenors than ECB money market loans, might be cheaper for the banks. It would also relieve the Irish central bank of a burden by taking the place of its emergency aid. The idea for the facility had been broadly welcomed by financial markets, where it was seen as an important tool in the euro zone\\'s fight against the debt crises in weaker economies. DISAGREEMENTS A euro zone central bank source had told Reuters last week that the ECB was close to finalizing plans for the facility. But official euro zone sources said on Thursday that the ECB would not announce the plans because of internal disagreements within the central bank\\'s Governing Council. \"There will not be a formal structure through which medium-term funding will flow either from the central bank or from one of the European funds that are now being put in place,\" Ireland\\'s Finance Minister Michael Noonan said. \"But there is assurance from the European Central Bank that there will be a medium-term flow of money which underpins the restructuring and will continue into future years,\" he added. The news that the ECB would not announce the new facility hit the euro slightly on Thursday, though full financial market reaction will not be clear until European markets reopen on Friday. Ireland\\'s central bank Governor, Patrick Honohan, suggested there was little hope of the new ECB facility being created in the near term. \"I don\\'t see any prospect of anything imminent on the cards,\" he told a news conference. Two sources with knowledge of the ECB\\'s discussions said there had been substantial internal opposition to the plans for the new facility by some of the bank\\'s policymakers. \"They underestimated the resistance to the idea in the Governing Council. There has been a push back...There will be another week or two of uncertainty,\" one of the sources said. \"This is a political negotiation with high stakes. It\\'s a hard one for them (the ECB) to swallow,\" he added. HURDLES The ECB would have to clear a number of legal hurdles before putting such a facility in place. There is a risk that it could be challenged in court for being at odds with the European Treaty that covers the operation of the euro zone. Since Ireland\\'s banks are now almost completely state-owned, the facility could potentially be seen as breaking restrictions on the financing of governments. Dutch central bank governor Nout Wellink on Thursday indicated he wanted the Irish government and perhaps other euro zone governments to do more to solve the banking problem, not the ECB. The Irish banking sector \"has become a very big black hole\", he told Dutch public broadcaster NOS. \"We (Europe) will take care of the bridging facility but the Irish will have to solve it. They will have to slim down banks, slim down very strongly. They will have to close down some banks. They will have to merge some banks.\" He added, \"We (the ECB) are not there to finance a budget deficit nor plug holes of banks which are not solvent. Governments need to do that. Our boundaries have more or less been reached.\" (Additional reporting by  Gilbert Kreijger  in Amsterdam,  Sakari Suoninen  in Frankfurt and Carmel Crimmins in Dublin; Editing by  Andrew Torchia )'], ['-- Banks gorge on 530 billion euros of ECB funds\\n', '-- By  Paul Carrel\\n', '-- Wed Feb 29, 2012 11:36am EST\\n', '-- http://www.reuters.com/article/2012/02/29/us-ecb-ltro-idUSTRE81S00R20120229\\n', '\\n', ' \\n', '\\n', \" FRANKFURT  (Reuters) - Banks grabbed 530 billion euros at the European Central Bank's second offering of cheap three-year funds on Wednesday, fuelling expectations that credit will flow to businesses and borrowing costs will ease for governments hit by the euro zone crisis. \\n\", ' In the space of two months, the ECB has now injected more than a trillion euros into the financial system, banishing the threat of a credit crunch. A total of 800 banks borrowed money at the tender, with demand exceeding the 500 billion euros expected by traders polled by Reuters and the 489 billion allotted in the first such operation in December. The ECB unveiled the funding operations, known as LTROs, late last year to counter frozen interbank lending and dampen tensions on euro zone bond markets that threatened to tear the bloc apart. Positive investor reaction to the second round suggested the ploy should continue to buoy markets although central bank sources have told Reuters the ECB is not inclined to offer a third dose. \"You can\\'t argue with 529 billion,\" said Peter Chatwell at Credit Agricole CIB. \"It\\'s undoubtedly positive for risk assets and also will help to support core markets as initially banks need somewhere to store the resultant excess liquidity.\" The euro dipped to a session low against the dollar in volatile trade while European stocks gained and safe-haven German Bunds fell in response. Much will now depend on what banks do with the cash. They used a big chunk of the 489 billion euros they borrowed first time around to cover maturing debt and have been parking close to half a trillion euros at the ECB in overnight deposits. ECB President Mario Draghi, whose native Italy was at the epicenter of the crisis when the bank announced the measure late last year, said after the first of the operations that \"a major, major credit crunch\" had been averted. Draghi has urged banks to lend out the funds they tap at Wednesday\\'s operation to households and businesses, helping strengthen economic growth. ECB officials hope banks will also use the new money to buy higher-yielding bonds more aggressively, especially from Italy. Italian and Spanish borrowing costs extended their falls after the bumper take-up of ECB largesse. Anecdotal evidence suggests banks especially in Spain but also in Italy used the first LTRO to pursue this \"Sarkozy trade\" - a term adopted by markets after the French president suggested governments should encourage banks flush with ECB cash to buy their bonds. Spanish banks bought a net 23.1 billion euros of government debt last month and Italians 20.6 billion, both record increases. \"Italian and Spanish bonds are likely to benefit from this and equity markets as well,\" Luca Cazzulani at UniCredit said of Wednesday\\'s operation. ^^^^^^^^^^^^^^^^^^^^^^^^^^^^^^^^^^^^^^^^^^^^^^^^^^^^^^^^^ For a package of ECB graphics, click:  here ^^^^^^^^^^^^^^^^^^^^^^^^^^^^^^^^^^^^^^^^^^^^^^^^^^^^^^^^^ LAST ROUND? Italy faces a debt issuance hump in the next few months and will take any help it can get. It needs to sell around 45 billion euros of its bonds a month in both March and April versus 19 billion in February. Nonetheless, sources have told Reuters the central bank wants the second ultra-long operation to be the last, as it is worried banks are becoming too reliant on ECB funds and wants to throw the onus back on euro zone governments to tackle the debt crisis. Banks have already taken more funds from the ECB than ever before and risk becoming dependent on those. Italian banks had taken more than 200 billion euros in central bank funds by January, and those in Spain and France were not far behind. Some policymakers say the LTROs are merely masking problems in crisis-hit euro zone countries on the bloc\\'s periphery. \"The idea that the long term repo operations have eased the supply of finance to small businesses in the euro area is a myth,\" Bank of England Governor Mervyn King told a parliamentary committee in London. \"What it has done is to provide a source of funding to banks particularly in the southern member countries of the euro area which were experiencing a bank run, enabling them to fund the withdrawal of funds,\" he said. The strategy has, however, sucked much of the heat out of the euro zone crisis and given governments time to work out sustainable budget and growth policies for affected countries on the periphery of the bloc. \"With the ECB\\'s supporting measures time is being won,\" said Michael Kemmer, managing director of Germany\\'s BdB banking association. \"But these measures can neither replace a functioning interbanking market nor solve the debt crisis.\" Ewald Nowotny, a member of ECB\\'s 23-man Governing Council, said on Tuesday the bank should think about an exit strategy after its massive cash injections. Rather than a simple flat rate, the 3-year funds were offered at an interest rate averaging the interest rate in its main one-week refi operations over the next three years. That rate is currently at a record low of 1.0 percent. Banks have the option of paying back all or parts of the loans at any time after one year. Financial markets are watching to see how effectively governments use the time the ECB has given them to deliver growth and sustainable budgets. \"Without growth, the LTROs are a bridge to nowhere,\" said Andrew Bosomworth, senior portfolio manager at PIMCO. (Additional reporting by  Sakari Suoninen ,  Marc Jones ,  Eva Kuehnen  and Arno Schuetze, editing by Mike Peacock)'], ['A typical AI analyzes its environment and takes actions that maximize its chance of success.[1] An AI\\'s intended utility function (or goal) can be simple (\"1 if the AI wins a game of Go, 0 otherwise\") or complex (\"Do mathematically similar actions to the ones succeeded in the past\"). Goals can be explicitly defined, or induced. If the AI is programmed for \"reinforcement learning\", goals can be implicitly induced by rewarding some types of behavior or punishing others.[a] Alternatively, an evolutionary system can induce goals by using a \"fitness function\" to mutate and preferentially replicate high-scoring AI systems, similarly to how animals evolved to innately desire certain goals such as finding food.[59] Some AI systems, such as nearest-neighbor, instead of reason by analogy, these systems are not generally given goals, except to the degree that goals are implicit in their training data.[60] Such systems can still be benchmarked if the non-goal system is framed as a system whose \"goal\" is to successfully accomplish its narrow classification task.[61]\\n', '\\n', 'AI often revolves around the use of algorithms. An algorithm is a set of unambiguous instructions that a mechanical computer can execute.[b] A complex algorithm is often built on top of other, simpler, algorithms. A simple example of an algorithm is the following (optimal for first player) recipe for play at tic-tac-toe:[62]\\n', '\\n', 'If someone has a \"threat\" (that is, two in a row), take the remaining square. Otherwise,\\n', 'if a move \"forks\" to create two threats at once, play that move. Otherwise,\\n', 'take the center square if it is free. Otherwise,\\n', 'if your opponent has played in a corner, take the opposite corner. Otherwise,\\n', 'take an empty corner if one exists. Otherwise,\\n', 'take any empty square.\\n', 'Many AI algorithms are capable of learning from data; they can enhance themselves by learning new heuristics (strategies, or \"rules of thumb\", that have worked well in the past), or can themselves write other algorithms. Some of the \"learners\" described below, including Bayesian networks, decision trees, and nearest-neighbor, could theoretically, (given infinite data, time, and memory) learn to approximate any function, including which combination of mathematical functions would best describe the world[citation needed]. These learners could therefore, derive all possible knowledge, by considering every possible hypothesis and matching them against the data. In practice, it is almost never possible to consider every possibility, because of the phenomenon of \"combinatorial explosion\", where the amount of time needed to solve a problem grows exponentially. Much of AI research involves figuring out how to identify and avoid considering broad range of possibilities that are unlikely to be beneficial.[63][64] For example, when viewing a map and looking for the shortest driving route from Denver to New York in the East, one can in most cases skip looking at any path through San Francisco or other areas far to the West; thus, an AI wielding a pathfinding algorithm like A* can avoid the combinatorial explosion that would ensue if every possible route had to be ponderously considered in turn.[65]'], ['Kerbal Space Program (KSP) is a space flight simulation video game developed and published by Squad for Microsoft Windows, OS X, Linux, PlayStation 4, Xbox One, with a Wii U version that was supposed to be released at a later date. The developers have stated that the gaming landscape has changed since that announcement and more details will be released soon. In the game, players direct a nascent space program, staffed and crewed by humanoid aliens known as \"Kerbals\". The game features a realistic orbital physics engine, allowing for various real-life orbital maneuvers such as Hohmann transfer orbits and bi-elliptic transfer orbits.']]\n",
            "title ------ 7\n",
            "text --------- 7\n",
            "title is--------- [\" ECB's Liikanen says global economy more uncertain\", ' Exclusive: ECB mulls ultra-long loans to help banks', ' Euro banks borrow less than expected from ECB', ' ECB changes tack on Irish support, eases collateral', ' Banks gorge on 530 billion euros of ECB funds', '', '']\n",
            "text is--------- [' ECB\\'s Liikanen says global economy more uncertain. TURKU, Finland  (Reuters) - The global economy has moved in an alarming and uncertain direction in recent weeks, ECB Governing Council member Erkki Liikanen said on Tuesday.\"The situation in the international economy has again moved in an alarming direction in last weeks. There is more uncertainty about economic growth than before,\" he said in a speech at a seminar in Turku, Finland. Liikanen said the European Central Bank has taken decisive measures to ensure the transmission of monetary policy. \"However, monetary policy can\\'t alone solve tension in the financial markets as the background is excessive debt in public finances. It requires action by governments and parliaments,\" he said. (Reporting by  Jussi Rosendahl )', ' Exclusive: ECB mulls ultra-long loans to help banks. BRUSSELS  (Reuters) - The European Central Bank is looking at extending the term of loans it offers banks to 2 or even 3 years to try to prevent the euro zone crisis precipitating a credit crunch that chokes the bloc\\'s economy, people familiar with the matter say.The ECB is examining this unprecedented possibility as intensifying fears about the euro zone succumbing to its debt crisis hurt the interbank money market, with banks scaling down the list of peers to which they are ready to lend. The central bank is looking into offering banks liquidity over a 2-year or even 3-year horizon, the sources said, aiming to free up the increasingly blocked interbank money market and give banks more leeway to buy and hold sovereign bonds. To date, the longest term it has offered funds is one year. As the sovereign debt crisis has worsened, the ECB has been coming under increasing pressure to intervene on a larger scale by buying state bonds but is reluctant to make such a commitment. It does, however, have the freedom to lend banks trillions of euros and could use this firepower to indirectly support governments trying to issue debt. The ECB has flagged the possibility of longer-term loans to banks, sources familiar with the matter told Reuters, in a move that could be aimed at gauging their interest ahead of a launch. The possibility of lending over a longer time horizon was raised at a meeting last week between the ECB and a group of banks including Goldman Sachs, Barclays Capital and Morgan Stanley, according to one person familiar with the matter. \"What was said was that they would be prepared to offer two or three years LTRO (lending operations),\" that person said. \"The question (for the ECB) is whether banks would be interested in it. It could be seen as a stigma if a bank was using 2 or 3-year financing with the ECB. It might not get enough take-up to make a difference.\" Another source said the ECB was looking at the possibility of providing liquidity over a similar time horizon but by giving a series of shorter-term loans with the pledge to keep this line of credit open for up to three years. A third official familiar with the matter said: \"It\\'s being discussed ... But there is no decision yet.\" The ECB first introduced extra-long 12-month liquidity tenders in June 2009. Last month, it rewewed offers to lend banks one-year funding in two operations this year -- a 12-month longer-term refinancing operation (LTRO) in October and a 13-month operation in December. There has, however, only been lukewarm interest, suggesting that more ECB cash may not be the answer to a creeping credit freeze. Interbank markets remain tight, with banks worried about the health of their peers and also holding back cash as they face the prospect of having to set aside funds to cover potential losses on their sovereign debt holdings. International demands that they raise their capital base have exacerbated the problem. This nervousness was highlighted on Tuesday when euro zone banks\\' demand for ECB funding surged to a two-year high, as fast spreading sovereign debt worries left lending markets virtually frozen and the ECB as the only source of funding for many institutions. ECB Governing Council member Luc Coene said earlier this week regulators must ensure banks take account of the riskiness of government bonds they own, adding to pressure on banks to set aside more capital to cover such losses. By offering banks liquidity for an ultra-long period of two or three years, the ECB could help to reinforce confidence in banks and also do the same for rocky sovereign debt markets. \"To the extent that you are improving the situation for banks, you are improving the situation for a major potential purchaser for sovereign debt,\" said one banker. \"They will know that they can refinance with the bank (ECB).\" One senior executive from a European bank, speaking anonymously, said he favored an extension of the terms under which the ECB lends to banks. \"Now, it\\'s 13 months and if we could go to 24 months, that would be better. Thirty six months would be better still but then we are at the point of medium-term financing.\" (Editing by Mike Peacock)', ' Euro banks borrow less than expected from ECB. FRANKFURT  (Reuters) - Banks borrowed less than expected from the European Central Bank in a key funding operation on Wednesday, easing fears about how they would cope with repaying close to half a trillion euros in emergency loans on Thursday.The relatively low take-up helps to ease concerns about bank finances which have rocked stock and debt markets this week, but also raises the risk of market interest rates ticking higher as liquidity supplies may recede. The ECB said 171 banks borrowed 131.9 billion euros ($161.4 billion) over three months, below expectations in a Reuters poll for demand of 210 billion euros. The amount is still the highest ever borrowed in a three-month operation but pales beside the 442 billion euros of one-year money which 1,121 banks must repay to the ECB on Thursday as the ECB\\'s first-ever one-year loans expire. European shares gained on the news while the euro rose across the board and yield spreads for Spanish and Italian government bonds eased. \"All in all it is a positive signal for the European banking system,\" said UniCredit fixed income strategist Kornelius Purps. \"This is, in my view, why we see the reaction in the market ... some of the fear is being priced out of the fixed income universe.\" Investors are watching the euro zone money market closely for signs of the sort of problems in bank to bank lending which broadened the financial crisis in 2008. It is also vital that the market functions well to generate affordable loans for consumers and businesses, needed to spur economic growth. Deutsche Bank economist Gilles Moec said the low take-up blunted concerns about an unhealthy dependency on ECB funds, which have focused on Spanish, Greek and Portuguese banks. \"It\\'s definitely a good sign and means there is still some interbank lending occurring within the European money market, and that\\'s it\\'s not just a vertical relationship between banks and the ECB,\" he said. LIQUIDITY SQUEEZE? The roll-over accounts for less than a third of the 12-month money which the ECB has flushed through the financial system since the height of the financial crisis, pushing interbank rates to record lows. Banks, though, will still have the chance to borrow unlimited six-day funds at another operation on Thursday. Market participants said the results of this operation would also be fundamental to gauging the extent of bank funding stress and the likely impact on interest rates. \"We still have the six-days to be filled, it\\'s about the total,\" one euro zone money market trader said, predicting demand of about 180 billion euros. \"In my opinion there will be enough over-liquidity to keep rates around current levels ... but we will see tomorrow.\" Benchmark Euribor rates have risen to 9-1/2 month highs as the repayment date approached but still remain below the ECB\\'s 1 percent benchmark for maturities out to five months, and overnight rates around 0.3 percent. Commerzbank analyst Christoph Rieder said without including the results of the six-day operation, there would be a net outflow of 269 billion euros from euro-zone money markets on Thursday and this could push rates higher. \"This is a level where upside pressure on overnight rates could be building,\" he said. \"Funding conditions look set to become more restrictive during this summer with the volume and maturity of outstanding ECB operations declining.\" Calculations based on ECB data show there is about 327 billion euros in excess liquidity in the system on Wednesday, suggesting banks will need to borrow around 60 billion euros over six days to keep current buffers in place. The next crunch day for liquidity supply is September 30, when banks must repay a total of 225 billion euros in 12-, six- and three-month funds -- including the latest operation -- and can take advantage of the ECB\\'s last scheduled three-month operation with unlimited allotment to meet liquidity needs for the remainder of 2010. (Reporting by  Krista Hughes , editing by Mike Peacock and  Patrick Graham )', ' ECB changes tack on Irish support, eases collateral. FRANKFURT/BRUSSELS  (Reuters) - The European Central Bank threw a lifeline to Irish banks on Thursday by suspending collateral requirements for loans to them, but it stepped back from a more ambitious plan to create a new funding facility for the banks.As Ireland released results of stress tests of the health of its banks, revealing a 24 billion euro capital shortfall among them, the ECB said it would no longer insist on minimum credit ratings for Irish sovereign debt, or for debt guaranteed by the Irish government, when accepting it as collateral in money market operations. That will help Irish banks, which are major holders of their country\\'s debt, continue to borrow in ECB operations if Ireland\\'s bonds are downgraded further. Last year the ECB took a similar step to aid Greek banks. Ireland\\'s banks are heavily dependent on ECB funding, in the form of short-term loans of up to three months, because other euro zone banks refuse to lend to them in open markets. On top of the 85 billion euros which they borrowed from the ECB in February, Irish banks took a record 70 billion euros in emergency funding from the Irish central bank. But while the ECB suspended collateral requirements, it did not proceed with broader plans to establish a new facility that would provide medium-term funding to Irish banks and potentially banks from other weak euro zone states in future. This facility, by providing loans with longer tenors than ECB money market loans, might be cheaper for the banks. It would also relieve the Irish central bank of a burden by taking the place of its emergency aid. The idea for the facility had been broadly welcomed by financial markets, where it was seen as an important tool in the euro zone\\'s fight against the debt crises in weaker economies. DISAGREEMENTS A euro zone central bank source had told Reuters last week that the ECB was close to finalizing plans for the facility. But official euro zone sources said on Thursday that the ECB would not announce the plans because of internal disagreements within the central bank\\'s Governing Council. \"There will not be a formal structure through which medium-term funding will flow either from the central bank or from one of the European funds that are now being put in place,\" Ireland\\'s Finance Minister Michael Noonan said. \"But there is assurance from the European Central Bank that there will be a medium-term flow of money which underpins the restructuring and will continue into future years,\" he added. The news that the ECB would not announce the new facility hit the euro slightly on Thursday, though full financial market reaction will not be clear until European markets reopen on Friday. Ireland\\'s central bank Governor, Patrick Honohan, suggested there was little hope of the new ECB facility being created in the near term. \"I don\\'t see any prospect of anything imminent on the cards,\" he told a news conference. Two sources with knowledge of the ECB\\'s discussions said there had been substantial internal opposition to the plans for the new facility by some of the bank\\'s policymakers. \"They underestimated the resistance to the idea in the Governing Council. There has been a push back...There will be another week or two of uncertainty,\" one of the sources said. \"This is a political negotiation with high stakes. It\\'s a hard one for them (the ECB) to swallow,\" he added. HURDLES The ECB would have to clear a number of legal hurdles before putting such a facility in place. There is a risk that it could be challenged in court for being at odds with the European Treaty that covers the operation of the euro zone. Since Ireland\\'s banks are now almost completely state-owned, the facility could potentially be seen as breaking restrictions on the financing of governments. Dutch central bank governor Nout Wellink on Thursday indicated he wanted the Irish government and perhaps other euro zone governments to do more to solve the banking problem, not the ECB. The Irish banking sector \"has become a very big black hole\", he told Dutch public broadcaster NOS. \"We (Europe) will take care of the bridging facility but the Irish will have to solve it. They will have to slim down banks, slim down very strongly. They will have to close down some banks. They will have to merge some banks.\" He added, \"We (the ECB) are not there to finance a budget deficit nor plug holes of banks which are not solvent. Governments need to do that. Our boundaries have more or less been reached.\" (Additional reporting by  Gilbert Kreijger  in Amsterdam,  Sakari Suoninen  in Frankfurt and Carmel Crimmins in Dublin; Editing by  Andrew Torchia )', ' Banks gorge on 530 billion euros of ECB funds. FRANKFURT  (Reuters) - Banks grabbed 530 billion euros at the European Central Bank\\'s second offering of cheap three-year funds on Wednesday, fuelling expectations that credit will flow to businesses and borrowing costs will ease for governments hit by the euro zone crisis.In the space of two months, the ECB has now injected more than a trillion euros into the financial system, banishing the threat of a credit crunch. A total of 800 banks borrowed money at the tender, with demand exceeding the 500 billion euros expected by traders polled by Reuters and the 489 billion allotted in the first such operation in December. The ECB unveiled the funding operations, known as LTROs, late last year to counter frozen interbank lending and dampen tensions on euro zone bond markets that threatened to tear the bloc apart. Positive investor reaction to the second round suggested the ploy should continue to buoy markets although central bank sources have told Reuters the ECB is not inclined to offer a third dose. \"You can\\'t argue with 529 billion,\" said Peter Chatwell at Credit Agricole CIB. \"It\\'s undoubtedly positive for risk assets and also will help to support core markets as initially banks need somewhere to store the resultant excess liquidity.\" The euro dipped to a session low against the dollar in volatile trade while European stocks gained and safe-haven German Bunds fell in response. Much will now depend on what banks do with the cash. They used a big chunk of the 489 billion euros they borrowed first time around to cover maturing debt and have been parking close to half a trillion euros at the ECB in overnight deposits. ECB President Mario Draghi, whose native Italy was at the epicenter of the crisis when the bank announced the measure late last year, said after the first of the operations that \"a major, major credit crunch\" had been averted. Draghi has urged banks to lend out the funds they tap at Wednesday\\'s operation to households and businesses, helping strengthen economic growth. ECB officials hope banks will also use the new money to buy higher-yielding bonds more aggressively, especially from Italy. Italian and Spanish borrowing costs extended their falls after the bumper take-up of ECB largesse. Anecdotal evidence suggests banks especially in Spain but also in Italy used the first LTRO to pursue this \"Sarkozy trade\" - a term adopted by markets after the French president suggested governments should encourage banks flush with ECB cash to buy their bonds. Spanish banks bought a net 23.1 billion euros of government debt last month and Italians 20.6 billion, both record increases. \"Italian and Spanish bonds are likely to benefit from this and equity markets as well,\" Luca Cazzulani at UniCredit said of Wednesday\\'s operation. ^^^^^^^^^^^^^^^^^^^^^^^^^^^^^^^^^^^^^^^^^^^^^^^^^^^^^^^^^ For a package of ECB graphics, click:  here ^^^^^^^^^^^^^^^^^^^^^^^^^^^^^^^^^^^^^^^^^^^^^^^^^^^^^^^^^ LAST ROUND? Italy faces a debt issuance hump in the next few months and will take any help it can get. It needs to sell around 45 billion euros of its bonds a month in both March and April versus 19 billion in February. Nonetheless, sources have told Reuters the central bank wants the second ultra-long operation to be the last, as it is worried banks are becoming too reliant on ECB funds and wants to throw the onus back on euro zone governments to tackle the debt crisis. Banks have already taken more funds from the ECB than ever before and risk becoming dependent on those. Italian banks had taken more than 200 billion euros in central bank funds by January, and those in Spain and France were not far behind. Some policymakers say the LTROs are merely masking problems in crisis-hit euro zone countries on the bloc\\'s periphery. \"The idea that the long term repo operations have eased the supply of finance to small businesses in the euro area is a myth,\" Bank of England Governor Mervyn King told a parliamentary committee in London. \"What it has done is to provide a source of funding to banks particularly in the southern member countries of the euro area which were experiencing a bank run, enabling them to fund the withdrawal of funds,\" he said. The strategy has, however, sucked much of the heat out of the euro zone crisis and given governments time to work out sustainable budget and growth policies for affected countries on the periphery of the bloc. \"With the ECB\\'s supporting measures time is being won,\" said Michael Kemmer, managing director of Germany\\'s BdB banking association. \"But these measures can neither replace a functioning interbanking market nor solve the debt crisis.\" Ewald Nowotny, a member of ECB\\'s 23-man Governing Council, said on Tuesday the bank should think about an exit strategy after its massive cash injections. Rather than a simple flat rate, the 3-year funds were offered at an interest rate averaging the interest rate in its main one-week refi operations over the next three years. That rate is currently at a record low of 1.0 percent. Banks have the option of paying back all or parts of the loans at any time after one year. Financial markets are watching to see how effectively governments use the time the ECB has given them to deliver growth and sustainable budgets. \"Without growth, the LTROs are a bridge to nowhere,\" said Andrew Bosomworth, senior portfolio manager at PIMCO. (Additional reporting by  Sakari Suoninen ,  Marc Jones ,  Eva Kuehnen  and Arno Schuetze, editing by Mike Peacock)', '. A typical AI analyzes its environment and takes actions that maximize its chance of success.[1] An AI\\'s intended utility function (or goal) can be simple (\"1 if the AI wins a game of Go, 0 otherwise\") or complex (\"Do mathematically similar actions to the ones succeeded in the past\"). Goals can be explicitly defined, or induced. If the AI is programmed for \"reinforcement learning\", goals can be implicitly induced by rewarding some types of behavior or punishing others.[a] Alternatively, an evolutionary system can induce goals by using a \"fitness function\" to mutate and preferentially replicate high-scoring AI systems, similarly to how animals evolved to innately desire certain goals such as finding food.[59] Some AI systems, such as nearest-neighbor, instead of reason by analogy, these systems are not generally given goals, except to the degree that goals are implicit in their training data.[60] Such systems can still be benchmarked if the non-goal system is framed as a system whose \"goal\" is to successfully accomplish its narrow classification task.[61]AI often revolves around the use of algorithms. An algorithm is a set of unambiguous instructions that a mechanical computer can execute.[b] A complex algorithm is often built on top of other, simpler, algorithms. A simple example of an algorithm is the following (optimal for first player) recipe for play at tic-tac-toe:[62]If someone has a \"threat\" (that is, two in a row), take the remaining square. Otherwise,if a move \"forks\" to create two threats at once, play that move. Otherwise,take the center square if it is free. Otherwise,if your opponent has played in a corner, take the opposite corner. Otherwise,take an empty corner if one exists. Otherwise,take any empty square.Many AI algorithms are capable of learning from data; they can enhance themselves by learning new heuristics (strategies, or \"rules of thumb\", that have worked well in the past), or can themselves write other algorithms. Some of the \"learners\" described below, including Bayesian networks, decision trees, and nearest-neighbor, could theoretically, (given infinite data, time, and memory) learn to approximate any function, including which combination of mathematical functions would best describe the world[citation needed]. These learners could therefore, derive all possible knowledge, by considering every possible hypothesis and matching them against the data. In practice, it is almost never possible to consider every possibility, because of the phenomenon of \"combinatorial explosion\", where the amount of time needed to solve a problem grows exponentially. Much of AI research involves figuring out how to identify and avoid considering broad range of possibilities that are unlikely to be beneficial.[63][64] For example, when viewing a map and looking for the shortest driving route from Denver to New York in the East, one can in most cases skip looking at any path through San Francisco or other areas far to the West; thus, an AI wielding a pathfinding algorithm like A* can avoid the combinatorial explosion that would ensue if every possible route had to be ponderously considered in turn.[65]', '. Kerbal Space Program (KSP) is a space flight simulation video game developed and published by Squad for Microsoft Windows, OS X, Linux, PlayStation 4, Xbox One, with a Wii U version that was supposed to be released at a later date. The developers have stated that the gaming landscape has changed since that announcement and more details will be released soon. In the game, players direct a nascent space program, staffed and crewed by humanoid aliens known as \"Kerbals\". The game features a realistic orbital physics engine, allowing for various real-life orbital maneuvers such as Hohmann transfer orbits and bi-elliptic transfer orbits.']\n"
          ],
          "name": "stdout"
        }
      ]
    },
    {
      "cell_type": "code",
      "metadata": {
        "id": "jSgwJzOpUeJs",
        "colab_type": "code",
        "colab": {}
      },
      "source": [
        "  "
      ],
      "execution_count": 0,
      "outputs": []
    },
    {
      "cell_type": "code",
      "metadata": {
        "id": "ODC6-d3xFVXd",
        "colab_type": "code",
        "outputId": "9e7226e5-90bd-44da-8853-58eabed94aba",
        "colab": {
          "base_uri": "https://localhost:8080/",
          "height": 34
        }
      },
      "source": [
        "X=text\n",
        "X_vect = bert_vectorizer(X, verbose=True)"
      ],
      "execution_count": 0,
      "outputs": [
        {
          "output_type": "stream",
          "text": [
            "\r7/7 [==============================] - 0s 53ms/step\n"
          ],
          "name": "stdout"
        }
      ]
    },
    {
      "cell_type": "code",
      "metadata": {
        "id": "rQZ47lIyGP1x",
        "colab_type": "code",
        "outputId": "b6439822-6950-456d-9479-8315ff993c9f",
        "colab": {
          "base_uri": "https://localhost:8080/",
          "height": 235
        }
      },
      "source": [
        "X_vect"
      ],
      "execution_count": 0,
      "outputs": [
        {
          "output_type": "execute_result",
          "data": {
            "text/plain": [
              "array([[-0.49904892, -0.3610586 ,  0.42659786, ..., -0.6025254 ,\n",
              "        -0.17197576, -0.13347694],\n",
              "       [-0.46920526, -0.22283776,  0.5271894 , ..., -0.47161454,\n",
              "         0.02238406,  0.13185011],\n",
              "       [-0.42871392, -0.3538573 ,  0.6045447 , ..., -0.3782158 ,\n",
              "         0.1800992 , -0.03583926],\n",
              "       ...,\n",
              "       [-0.41836393, -0.35163736,  0.50353813, ..., -0.37041453,\n",
              "        -0.01689446,  0.06837612],\n",
              "       [-0.21314053,  0.09226297, -0.08690625, ..., -0.42807505,\n",
              "        -0.14325789,  0.8496102 ],\n",
              "       [-0.39047194, -0.06576734,  0.56919116, ..., -0.36148703,\n",
              "         0.03652759,  0.32127047]], dtype=float32)"
            ]
          },
          "metadata": {
            "tags": []
          },
          "execution_count": 46
        }
      ]
    },
    {
      "cell_type": "code",
      "metadata": {
        "id": "xNhKkIDNFYxs",
        "colab_type": "code",
        "colab": {}
      },
      "source": [
        "def buildMovieRecommender(movie_names, vectorized_plots, top_k=10):\n",
        "  retriever = L2Retriever(vectorized_plots.shape[1], use_norm=True, top_k=top_k, use_gpu=False)\n",
        "  print(\"1---\")\n",
        "  vectorized_norm = np.sum(vectorized_plots**2, axis=1).reshape((-1,1))\n",
        "  \n",
        "  def recommend(query):\n",
        "    try:\n",
        "      idx = retriever.predict(vectorized_plots, \n",
        "                              vectorized_plots[movie_names.index(query)], \n",
        "                              vectorized_norm)[0][1:]\n",
        "      for i in idx:\n",
        "        print(names[i])\n",
        "    except ValueError:\n",
        "      print(\"{} not found in movie db. Suggestions:\")\n",
        "      for i, name in enumerate(movie_names):\n",
        "        if query.lower() in name.lower():\n",
        "          print(i, name)\n",
        "          \n",
        "  return recommend"
      ],
      "execution_count": 0,
      "outputs": []
    },
    {
      "cell_type": "code",
      "metadata": {
        "id": "YMiHEJf37rLs",
        "colab_type": "code",
        "colab": {}
      },
      "source": [
        "#recommend = buildMovieRecommender(title, X_vect)\n",
        "#recommend(\"global economy\")"
      ],
      "execution_count": 0,
      "outputs": []
    },
    {
      "cell_type": "code",
      "metadata": {
        "id": "0NP8q7XgQWN5",
        "colab_type": "code",
        "outputId": "4417456f-cd06-4943-cbe0-bcb05f17cea2",
        "colab": {
          "base_uri": "https://localhost:8080/",
          "height": 34
        }
      },
      "source": [
        "q=\"how can ECB help to instill confidence in banks?\"\n",
        "q_vect = bert_vectorizer(q, verbose=True)\n"
      ],
      "execution_count": 0,
      "outputs": [
        {
          "output_type": "stream",
          "text": [
            "\r48/48 [==============================] - 0s 1ms/step\n"
          ],
          "name": "stdout"
        }
      ]
    },
    {
      "cell_type": "code",
      "metadata": {
        "id": "vnuJU79qw1Zr",
        "colab_type": "code",
        "outputId": "e614f7b6-c037-48b8-8828-be6a16f3b8ca",
        "colab": {
          "base_uri": "https://localhost:8080/",
          "height": 1000
        }
      },
      "source": [
        "q_vect"
      ],
      "execution_count": 0,
      "outputs": [
        {
          "output_type": "execute_result",
          "data": {
            "text/plain": [
              "array([[ 1.22066304e-01, -5.16647756e-01,  1.16507754e-01,\n",
              "         4.74443614e-01,  7.64028907e-01, -4.95769083e-01,\n",
              "        -1.69877216e-01,  3.29991251e-01, -2.88894415e-01,\n",
              "        -3.64405155e-01,  3.25473577e-01, -2.62071073e-01,\n",
              "         1.33199915e-01,  2.49008775e-01, -3.50371808e-01,\n",
              "        -2.02133298e-01,  9.95713845e-02, -2.54450925e-02,\n",
              "         4.06343222e-01, -8.09697956e-02, -5.21905541e-01,\n",
              "         5.44043541e-01,  1.14256859e-01,  3.92054260e-01,\n",
              "         8.38345960e-02,  8.68858844e-02,  6.34426415e-01,\n",
              "        -1.48037240e-01,  8.80607441e-02, -2.58684289e-02,\n",
              "         3.78071487e-01,  2.74111748e-01,  1.54573675e-02,\n",
              "        -2.45931849e-01, -4.42773998e-02, -1.55441567e-01,\n",
              "        -2.55708545e-01, -2.76611894e-01, -2.88986206e-01,\n",
              "         1.76114053e-01, -4.32723731e-01, -1.18127063e-01,\n",
              "        -1.14535354e-01,  3.44993830e-01, -3.33465576e-01,\n",
              "        -2.32168317e-01, -1.17062703e-01,  5.31404726e-02,\n",
              "         3.65995258e-01, -4.45680767e-01, -6.18691385e-01,\n",
              "         4.36596066e-01, -2.02788875e-01, -3.84810060e-01,\n",
              "         3.96128446e-01,  3.43490988e-01, -4.66868579e-01,\n",
              "        -4.81506169e-01,  1.61747739e-01,  4.80717458e-02,\n",
              "        -2.94286907e-01, -2.46516868e-01, -3.52093369e-01,\n",
              "        -3.26941550e-01, -1.35830864e-01, -5.29522002e-01,\n",
              "         1.61640763e-01,  1.08539864e-01, -4.13958549e-01,\n",
              "        -1.64333209e-01, -2.51260608e-01, -4.29715246e-01,\n",
              "        -3.81028414e-01, -1.65858135e-01, -5.21403730e-01,\n",
              "         2.05351319e-02, -3.63749713e-01,  3.60636652e-01,\n",
              "        -4.00649086e-02, -6.10771835e-01, -1.71161860e-01,\n",
              "         7.59451807e-01, -2.09111452e-01, -2.03533679e-01,\n",
              "         5.15108705e-01,  4.11502033e-01, -2.43997406e-02,\n",
              "         1.99887782e-01, -2.42534906e-01,  8.09870720e-01,\n",
              "        -2.59840190e-01,  1.00085564e-01, -2.93091923e-01,\n",
              "         2.67200083e-01,  3.58441561e-01, -3.47631544e-01,\n",
              "        -1.59796104e-01, -2.68768460e-01,  3.63048874e-02,\n",
              "         4.05560255e-01,  9.76243913e-01, -7.63824522e-01,\n",
              "        -3.26802284e-01, -2.67968684e-01,  1.83582142e-01,\n",
              "        -1.54267058e-01, -3.57834876e-01, -3.31022590e-01,\n",
              "        -2.72696614e-01, -4.25872564e-01,  5.51446807e-03,\n",
              "         1.07840367e-01, -2.40672573e-01, -1.08283234e-03,\n",
              "        -2.44997099e-01,  2.49249592e-01, -1.27536252e-01,\n",
              "         1.99305281e-01, -1.91444889e-01,  2.24992841e-01,\n",
              "        -1.51662722e-01,  5.95052660e-01,  3.20104778e-01,\n",
              "         3.40333670e-01,  3.85854781e-01,  6.44899979e-02,\n",
              "        -2.65401155e-01,  3.12829822e-01, -4.47810665e-02,\n",
              "        -1.99386268e-03,  1.76482692e-01,  5.42384982e-01,\n",
              "         1.36024997e-01, -5.29863596e-01,  1.64739698e-01,\n",
              "         4.41007286e-01, -1.02018408e-01,  4.49630655e-02,\n",
              "        -4.46855947e-02, -4.79170084e-02,  2.95171350e-01,\n",
              "         2.37862423e-01,  4.69334602e-01,  1.59377649e-01,\n",
              "         1.43069968e-01, -1.68497190e-01,  2.06623033e-01,\n",
              "        -7.21637383e-02,  3.13799717e-02,  1.57498643e-01,\n",
              "        -3.10630612e-02,  3.59358996e-01, -3.17935288e-01,\n",
              "        -2.16754064e-01, -1.72039822e-01,  2.30871186e-01,\n",
              "         3.50770094e-02,  9.15784091e-02, -2.04116374e-01,\n",
              "         4.08151448e-01, -2.61136025e-01, -5.37002981e-01,\n",
              "        -4.71116573e-01,  6.77729994e-02, -2.23440409e-01,\n",
              "        -3.40296179e-01,  2.66214162e-01,  6.46647632e-01,\n",
              "        -1.46880388e-01,  5.67548752e-01, -1.53616071e-01,\n",
              "        -2.07787722e-01,  6.91438258e-01, -1.44086495e-01,\n",
              "         8.39980125e-01,  4.12736908e-02, -5.89164793e-01,\n",
              "        -5.93554303e-02,  2.06154902e-02,  1.02676475e+00,\n",
              "        -4.80920166e-01,  2.40636215e-01,  2.87074268e-01,\n",
              "        -3.59954506e-01,  1.78182140e-01,  3.07792336e-01,\n",
              "         3.98457915e-01, -2.83009447e-02,  1.17555082e-01,\n",
              "        -1.93608887e-02, -8.79858285e-02, -4.59506921e-02,\n",
              "         3.31640005e-01, -5.40685058e-01,  3.11587304e-01,\n",
              "        -9.63367641e-01, -2.15143055e-01, -2.11589128e-01,\n",
              "         2.30816931e-01, -5.80547810e-01,  1.05096459e-01,\n",
              "         1.51254818e-01, -1.84608385e-01, -2.19157681e-01,\n",
              "        -1.80758566e-01,  5.68211675e-01, -1.34332433e-01,\n",
              "        -9.23864841e-02, -7.22285271e-01, -2.80623734e-01,\n",
              "        -6.22600131e-02, -8.98570865e-02, -7.22301155e-02,\n",
              "        -4.41263855e-01, -1.71976358e-01, -7.37340003e-02,\n",
              "        -4.97908257e-02,  4.19065475e-01, -1.31796420e-01,\n",
              "         5.43358028e-01,  2.57576197e-01, -3.79190713e-01,\n",
              "        -1.04582533e-01,  6.11856163e-01, -2.63003856e-02,\n",
              "         5.77411056e-01, -2.43502147e-02, -1.86246991e-01,\n",
              "        -6.95367232e-02,  1.13087833e-01,  3.58930528e-01,\n",
              "        -5.12924254e-01,  1.13064997e-01, -1.57972708e-01,\n",
              "        -4.76233326e-02,  1.01398356e-01, -6.93750918e-01,\n",
              "         2.47718990e-02,  3.46595198e-02,  3.85085583e-01,\n",
              "        -2.35580444e-01, -2.12734267e-01, -7.64714628e-02,\n",
              "         4.88441259e-01,  2.10579053e-01,  1.60838053e-01,\n",
              "         2.18221452e-02, -4.18544680e-01, -1.80118773e-02,\n",
              "         1.93711724e-02, -8.38182330e-01, -2.15509459e-01,\n",
              "        -5.53976417e-01, -1.84732944e-01,  5.56537621e-02,\n",
              "         6.16501868e-02, -4.48515303e-02,  1.76773265e-01,\n",
              "        -2.21086502e-01, -2.21469514e-02,  8.00768845e-03,\n",
              "        -6.87726140e-02, -3.16839248e-01,  3.70607585e-01,\n",
              "         3.43898565e-01, -6.58827126e-01, -3.94635022e-01,\n",
              "        -3.52193981e-01,  4.56785768e-01, -1.97855234e-01,\n",
              "         3.98448199e-01, -4.83291626e-01,  2.39968777e-01,\n",
              "         5.30470490e-01,  3.06979805e-01, -4.05964613e-01,\n",
              "         1.30725637e-01,  4.37599957e-01, -4.36313190e-02,\n",
              "        -1.74958333e-01,  1.74609095e-01,  4.00565594e-01,\n",
              "        -3.74776274e-01, -4.77226645e-01,  3.88627529e-01,\n",
              "         1.84569173e-02,  2.66119003e-01, -5.95517516e-01,\n",
              "         8.81834775e-02, -4.95239317e-01, -2.36560822e-01,\n",
              "        -2.18821198e-01,  2.37606168e-02, -6.71008468e-01,\n",
              "         6.00914776e-01,  3.04077387e-01, -6.34481087e-02,\n",
              "         1.13538437e-01, -5.01510322e-01, -2.91012794e-01,\n",
              "        -3.74594256e-02,  4.24848534e-02,  3.04441988e-01,\n",
              "        -2.52927076e-02, -2.05282524e-01,  1.18360527e-01,\n",
              "        -5.03881313e-02, -2.36280128e-01, -9.66739941e+00,\n",
              "        -2.32850879e-01, -2.70140827e-01,  6.22738957e-01,\n",
              "         1.33546114e-01,  1.46776989e-01, -5.09789921e-02,\n",
              "        -2.88748413e-01, -6.54357493e-01, -3.72110903e-01,\n",
              "        -3.45155373e-02, -3.31739187e-01,  2.86156237e-01,\n",
              "         1.14506125e-01, -3.37249488e-01, -5.06854177e-01,\n",
              "         5.32796502e-01, -5.67136645e-01,  1.49249276e-02,\n",
              "         2.34662339e-01, -6.56284168e-02, -5.80234170e-01,\n",
              "         8.06264952e-02,  2.53843606e-01, -2.45745778e-02,\n",
              "         4.48034927e-02, -1.81891963e-01, -5.68945631e-02,\n",
              "        -8.01252127e-02, -7.57237002e-02, -3.01504117e-02,\n",
              "        -3.48649830e-01,  5.83684027e-01,  3.90055895e-01,\n",
              "        -4.99121010e-01, -8.72639641e-02, -3.90751898e-01,\n",
              "         2.49042794e-01,  2.51572639e-01,  5.18008396e-02,\n",
              "        -6.29168749e-02,  3.38542670e-01,  5.01664400e-01,\n",
              "         4.62788641e-01,  9.04617310e-01, -4.95486796e-01,\n",
              "         3.99472922e-01, -1.40882999e-01, -6.31586432e-01,\n",
              "         5.34534276e-01, -2.99151629e-01,  2.54192561e-01,\n",
              "         2.58419782e-01, -4.71646965e-01, -6.11357510e-01,\n",
              "         2.55075216e-01,  3.20089310e-01,  7.51962185e-01,\n",
              "         5.20681500e-01, -4.03429121e-01,  2.38436982e-01,\n",
              "        -2.83957422e-01, -1.77270740e-01,  2.61375934e-01,\n",
              "         1.65596679e-01,  1.61344022e-01, -1.04560411e+00,\n",
              "        -8.88537765e-01,  3.95137131e-01, -1.79566070e-01,\n",
              "         2.41769120e-01,  1.22088946e-01, -8.20709690e-02,\n",
              "        -1.82338715e+00, -5.04202843e-01, -5.74327528e-01,\n",
              "         5.47054827e-01,  7.74160102e-02, -1.96826179e-02,\n",
              "         1.21820591e-01, -7.04325318e-01, -7.32264519e-02,\n",
              "         1.67512387e-01, -2.31671289e-01,  5.90768526e-04,\n",
              "        -4.06036437e-01,  2.70497948e-01,  2.43953228e-01,\n",
              "        -6.06504977e-01, -1.06618650e-01,  5.72009027e-01,\n",
              "        -1.43637108e-02,  9.25489590e-02,  2.07378238e-01,\n",
              "         1.65278383e-03, -2.79740274e-01,  3.39311928e-01,\n",
              "        -2.16508195e-01, -3.65857333e-01,  8.17029923e-02,\n",
              "        -3.38929668e-02,  3.52083631e-02, -1.04855783e-01,\n",
              "         2.77333707e-01,  1.12806022e-01, -5.91608807e-02,\n",
              "         4.45567816e-01,  4.32861865e-01,  8.10851082e-02,\n",
              "         5.78348748e-02,  4.80115175e-01, -1.39073744e-01,\n",
              "         8.13779980e-02, -2.98722029e-01, -1.74430739e-02,\n",
              "         4.52400148e-02,  4.35765237e-01,  1.85383767e-01,\n",
              "        -1.27037019e-01, -2.77976990e-01,  8.16078335e-02,\n",
              "         6.64060593e-01,  3.16361189e-01, -2.48852372e-01,\n",
              "        -4.32479754e-02,  7.38752959e-03, -2.42822662e-01,\n",
              "         2.92833120e-01, -3.28233004e-01, -3.34806025e-01,\n",
              "         2.67829418e-01, -2.05962405e-01, -4.38865572e-01,\n",
              "        -1.46421999e-01,  6.22533001e-02,  9.58356857e-02,\n",
              "        -3.47529173e-01,  2.83513576e-01, -2.69041657e-01,\n",
              "         4.00524437e-01,  3.13229382e-01,  6.23594463e-01,\n",
              "         2.59925872e-01, -3.23942959e-01, -1.06785193e-01,\n",
              "        -6.33251309e-01, -4.64631021e-02,  5.13019502e-01,\n",
              "         1.48890108e-01,  2.19155118e-01, -9.73910540e-02,\n",
              "        -3.48704845e-01, -2.38405734e-01,  7.65223149e-03,\n",
              "         2.00135127e-01, -1.20464556e-01,  6.59862578e-01,\n",
              "        -5.87134957e-01, -1.36495158e-01, -7.82305717e-01,\n",
              "         1.98242694e-01,  1.73130885e-01, -3.96278620e-01,\n",
              "         3.88423383e-01,  1.38731614e-01,  3.00245792e-01,\n",
              "        -2.14630291e-01, -3.23549420e-01,  2.63011485e-01,\n",
              "         2.25158140e-01, -5.02347469e-01,  9.18371826e-02,\n",
              "         2.52897233e-01, -3.47321816e-02,  4.20322150e-01,\n",
              "        -8.41170326e-02, -8.16640109e-02, -2.75860786e-01,\n",
              "        -3.22346985e-01,  4.54793990e-01, -6.07760623e-02,\n",
              "        -9.77742895e-02, -3.66162390e-01, -1.03718705e-01,\n",
              "         3.17249507e-01,  4.15677339e-01,  2.82372057e-01,\n",
              "         1.22203253e-01, -1.70835182e-01,  1.23274751e-01,\n",
              "        -2.15668827e-01,  5.71825325e-01,  3.37604821e-01,\n",
              "        -1.17392115e-01,  2.60002613e-01, -5.37012935e-01,\n",
              "        -2.09040686e-01, -3.49701911e-01,  4.01556753e-02,\n",
              "         4.02854681e-01, -2.32573599e-01,  1.03348894e-02,\n",
              "        -3.84243093e-02,  1.59148544e-01, -5.11678100e-01,\n",
              "         1.75214797e-01, -1.06790721e-01,  5.45655847e-01,\n",
              "        -2.36231424e-02,  2.08720565e-01, -6.12141669e-01,\n",
              "        -1.72735408e-01, -4.59917039e-01,  4.26080018e-01,\n",
              "        -2.95078069e-01, -6.16391778e-01, -3.18261176e-01,\n",
              "        -6.37346685e-01, -6.98087275e-01,  2.76594043e-01,\n",
              "         1.10101484e-01, -3.59973133e-01,  1.91571966e-01,\n",
              "         5.60057342e-01, -2.85357744e-01, -6.39089942e-01,\n",
              "        -2.56999820e-01,  1.78898498e-01, -4.60812360e-01,\n",
              "         4.30953830e-01, -2.46706635e-01, -1.11626732e+00,\n",
              "         1.99999362e-01,  3.72147709e-01, -2.82009572e-01,\n",
              "         2.75451213e-01, -2.53198564e-01, -6.70647174e-02,\n",
              "         1.92327604e-01, -4.70093191e-01, -4.09987509e-01,\n",
              "        -6.49510026e-01, -1.38081327e-01, -3.79932702e-01,\n",
              "        -7.22033456e-02,  4.97432917e-01,  3.94027494e-02,\n",
              "         4.04009312e-01,  1.04648426e-01,  2.19854191e-01,\n",
              "         3.51656616e-01, -1.38782281e-02, -4.22169238e-01,\n",
              "        -3.58855546e-01, -1.79710928e-02, -1.21115506e-01,\n",
              "        -6.18683174e-02, -7.37135947e-01, -4.05851424e-01,\n",
              "         4.38672632e-01, -4.37936574e-01, -1.67953640e-01,\n",
              "         4.21470106e-01, -7.46301860e-02,  4.90302444e-02,\n",
              "        -1.36160716e-01,  3.77204604e-02,  1.02753796e-01,\n",
              "         7.01905340e-02, -5.52823722e-01, -1.03069298e-01,\n",
              "        -5.09502232e-01,  1.18036807e-01,  9.31671262e-02,\n",
              "        -3.15525346e-02, -1.54934496e-01,  1.80221751e-01,\n",
              "        -8.24355423e-01,  1.03243612e-01, -3.78505677e-01,\n",
              "        -1.83068052e-01,  3.25102685e-03,  3.48156601e-01,\n",
              "        -1.84641443e-02, -4.59549159e-01, -2.19440028e-01,\n",
              "        -6.53210342e-01,  8.14163148e-01, -9.46068242e-02,\n",
              "        -3.13561887e-01, -2.70734727e-01,  9.53987911e-02,\n",
              "        -4.20168370e-01, -4.25870642e-02, -4.32208210e-01,\n",
              "         6.16992354e-01,  2.06576839e-01,  1.47603065e-01,\n",
              "        -1.20573744e-01,  1.82009131e-01, -3.79781093e-04,\n",
              "         6.36333898e-02,  5.89938104e-01,  4.96416867e-01,\n",
              "         2.22504269e-02,  4.07349378e-01, -1.66972771e-01,\n",
              "         7.06038997e-02,  2.50032455e-01, -4.58173007e-01,\n",
              "        -4.54107195e-01, -7.93090314e-02,  4.87325519e-01,\n",
              "         3.10515106e-01, -2.40205422e-01, -2.92042077e-01,\n",
              "        -5.30919254e-01, -4.64474261e-01, -4.80064720e-01,\n",
              "         2.50497460e-01, -9.15076509e-02,  3.53436708e-01,\n",
              "         1.26323909e-01, -1.17181480e-01, -2.55100708e-02,\n",
              "         2.19042435e-01,  1.07052840e-01, -3.95202339e-01,\n",
              "        -9.73165482e-02,  4.46212769e-01, -2.99406201e-02,\n",
              "         4.58269089e-01,  6.28543720e-02,  1.75410762e-01,\n",
              "         1.44854307e-01,  2.52103865e-01,  1.34206578e-01,\n",
              "        -4.35495265e-02,  2.12574258e-01,  2.26555422e-01,\n",
              "         1.64599210e-01, -2.62322903e-01,  4.07521904e-01,\n",
              "        -1.67358428e-01, -4.89543706e-01, -3.44453275e-01,\n",
              "        -1.69969276e-01, -2.98038311e-02,  1.22943260e-01,\n",
              "         7.96845436e-01,  8.72037783e-02, -1.00567780e-01,\n",
              "         1.35199115e-01, -1.46540746e-01,  4.50212151e-01,\n",
              "         2.14719623e-01, -1.92845352e-02,  4.42186266e-01,\n",
              "         7.22217709e-02,  2.61048883e-01, -8.98138657e-02,\n",
              "         5.09452634e-02,  4.12273347e-01, -9.68994558e-01,\n",
              "         5.08664668e-01,  3.40635210e-01,  7.15481816e-03,\n",
              "         1.27368242e-01,  7.12484062e-01,  5.76786585e-02,\n",
              "        -2.26634517e-01,  2.73829382e-02,  2.14194983e-01,\n",
              "        -1.90742970e-01,  2.79368341e-01,  3.39259118e-01,\n",
              "        -1.96060017e-01, -6.49321139e-01,  2.47006323e-02,\n",
              "         1.63897008e-01, -2.09246546e-01,  5.11641018e-02,\n",
              "        -4.31950748e-01, -5.36298156e-01, -5.41098058e-01,\n",
              "        -2.09830016e-01, -1.46776915e-01,  1.05979957e-01,\n",
              "        -9.08862129e-02, -3.37629229e-01, -5.10811269e-01,\n",
              "         1.64752230e-01, -1.50236472e-01,  3.17140013e-01,\n",
              "         1.91737413e-01, -9.96462181e-02, -9.17363986e-02,\n",
              "        -2.83985972e-01,  4.74975646e-01, -1.34955838e-01,\n",
              "         1.22036338e-01,  7.77686685e-02,  8.06839615e-02,\n",
              "         1.74640957e-02,  6.54322058e-02, -5.60843229e-01,\n",
              "         7.45081678e-02,  5.83412051e-01, -5.08394837e-01,\n",
              "        -8.19628656e-01,  7.04011440e-01,  6.01694226e-01,\n",
              "        -6.29799888e-02,  4.40332890e-01, -2.40991816e-01,\n",
              "         5.15982032e-01, -1.99473158e-01,  4.88775456e-03,\n",
              "         1.79519638e-01,  2.32345670e-01, -2.56597817e-01,\n",
              "        -6.56984210e-01,  7.19469860e-02, -2.48405337e-01,\n",
              "         9.95073840e-02,  1.59784749e-01,  9.19796303e-02,\n",
              "         2.49059513e-01, -2.67747134e-01,  2.96824068e-01,\n",
              "        -1.57637715e-01, -3.99348706e-01,  2.50355184e-01,\n",
              "        -4.44319025e-02, -4.21062618e-01,  3.32065731e-01,\n",
              "         2.56509304e-01, -1.54117659e-01, -2.23884776e-01,\n",
              "        -2.58655220e-01,  2.36147400e-02,  4.71347958e-01,\n",
              "         4.10914898e-01, -7.87230581e-02,  9.16334912e-02,\n",
              "         7.77019784e-02, -9.47029442e-02, -2.52611488e-01,\n",
              "         1.20113894e-01, -1.39278218e-01, -1.31495148e-02,\n",
              "        -5.04824042e-01,  2.91269690e-01,  1.20428249e-01,\n",
              "         4.93383169e-01,  3.56789172e-01, -4.25215885e-02,\n",
              "        -7.24317729e-01, -1.47609398e-01,  2.06348255e-01]], dtype=float32)"
            ]
          },
          "metadata": {
            "tags": []
          },
          "execution_count": 67
        }
      ]
    },
    {
      "cell_type": "code",
      "metadata": {
        "id": "dxHCJXO0TBFu",
        "colab_type": "code",
        "colab": {}
      },
      "source": [
        "def cosine_distance_wordembedding_method(s1, s2):\n",
        "    import scipy\n",
        "    \n",
        "    cosine = scipy.spatial.distance.cosine(s1, s2)\n",
        "    #print('Word Embedding method with a cosine distance asses that our two sentences are similar to',round((1-cosine)*100,2),'%')\n",
        "    return round((1-cosine)*100,2)\n",
        "    \n",
        "def euclidean_distance_wordembedding_method(s1, s2):\n",
        "    import scipy\n",
        "    \n",
        "    euclidean = scipy.spatial.distance.euclidean(s1, s2)\n",
        "    #print('Word Embedding method with a euclidean distance btwn two sentences ',round((1-euclidean)*100,2),'%')\n",
        "    return round((euclidean),2)\n"
      ],
      "execution_count": 0,
      "outputs": []
    },
    {
      "cell_type": "code",
      "metadata": {
        "id": "MmeLiKREaDye",
        "colab_type": "code",
        "outputId": "2814cf19-d28c-4389-8ba2-4b1847006cfa",
        "colab": {
          "base_uri": "https://localhost:8080/",
          "height": 50
        }
      },
      "source": [
        "def find_similar_docs_cos(X_vect,q):\n",
        "  q_vect = bert_vectorizer(q, verbose=True)\n",
        "  dist={}\n",
        "  for ind,val in enumerate(X_vect):\n",
        "    dist[ind]= cosine_distance_wordembedding_method(val,q_vect)\n",
        "\n",
        "  dist_sort=sorted(dist.items(), key = lambda kv:(kv[1]),reverse=True)\n",
        "  return dist_sort\n",
        "\n",
        "\n",
        "def find_similar_docs_euc(X_vect,q):\n",
        "  q_vect = bert_vectorizer(q, verbose=True)\n",
        "  dist={}\n",
        "  for ind,val in enumerate(X_vect):\n",
        "    dist[ind]= euclidean_distance_wordembedding_method(val,q_vect)\n",
        "  dist_sort=sorted(dist.items(), key = lambda kv:(kv[1]),reverse=False)\n",
        "  return dist_sort\n",
        "\n",
        "print(find_similar_docs_cos(X_vect,\"what did the Dutch central bank governor tell?\") )\n"
      ],
      "execution_count": 0,
      "outputs": [
        {
          "output_type": "stream",
          "text": [
            "\r46/46 [==============================] - 0s 1ms/step\n",
            "[(2, 71.49), (0, 70.92), (4, 70.52), (1, 70.14), (3, 69.67), (5, 63.61), (6, 61.99)]\n"
          ],
          "name": "stdout"
        }
      ]
    },
    {
      "cell_type": "code",
      "metadata": {
        "id": "uQ5uCIlSv63h",
        "colab_type": "code",
        "outputId": "d2132ff6-c354-431f-952d-4ba4cc99553f",
        "colab": {
          "base_uri": "https://localhost:8080/",
          "height": 84
        }
      },
      "source": [
        "#q=\"how much money did Italian banks take from central bank funds\"  #txt5  c-txt4  wrong\n",
        "#q=\"which banks used the first LTRO to pursue Sarkozy trade\"  #txt5  c-txt5  correct\n",
        "#q=\"what is sarkozy trade\" #txt5  c-txt1  wrong\n",
        "#q=\"will European Central Bank extend loan term?\" #txt2  c=txt2  correct\n",
        "#q=\"What does the physics engine allow for?\" #phys  c= phys  correct\n",
        "#q=\"when did ECB introduce 12-month liquidity tenders?\"#txt2  c=txt4 wrong\n",
        "#q=\"what did the official euro zone sources announce\" #txt4  c=txt1  wrong\n",
        "#q=\"which country needs to sell 45 billion euros bonds\"  #txt5  c=txt2 wrong\n",
        "#q=\"what do the roll-over accounts for\"  #txt3  c=txt3 correct\n",
        "#q= \"what does ECB data calculations tell about excess liquidity in the system\" #txt3 c=txt3  correct\n",
        "#q= \"what does ECB data tell about excess liquidity in the system\" #txt3 c=txt3  correct\n",
        "#q=\"for what are the investors observing euro zone money market\"  #txt3  c=txt1  wrong\n",
        "#q=\" can monetary policy solve tension in finance markets ?\"  #txt1  c=txt1 correct\n",
        "#q=\"\"\"what is the meaning of combinatorial explosion\"\"\"#txt6  c= txt6  correct\n",
        "#q=\"when did ECB first introduce extra-long 12-month liquidity tenders\"  #txt2  c=txt4 wrong\n",
        "#q=\"what banks are major holders country's debt\" #txt4  c=txt4 correct\n",
        "print(find_similar_docs_cos(X_vect,q))\n",
        "print(find_similar_docs_euc(X_vect,q))\n"
      ],
      "execution_count": 0,
      "outputs": [
        {
          "output_type": "stream",
          "text": [
            "66/66 [==============================] - 0s 927us/step\n",
            "[(3, 80.3), (4, 79.78), (1, 79.75), (2, 79.52), (0, 73.45), (5, 67.47), (6, 63.41)]\n",
            "66/66 [==============================] - 0s 835us/step\n",
            "[(3, 8.03), (2, 8.07), (4, 8.08), (1, 8.09), (0, 9.06), (5, 10.42), (6, 10.65)]\n"
          ],
          "name": "stdout"
        }
      ]
    },
    {
      "cell_type": "code",
      "metadata": {
        "id": "B1nwkSudaNSj",
        "colab_type": "code",
        "outputId": "e11b92d0-e2df-446b-8165-47e9ecf7eaaf",
        "colab": {
          "base_uri": "https://localhost:8080/",
          "height": 67
        }
      },
      "source": [
        "\n",
        "s1=\"children playing in park\"\n",
        "s2=\"kids running between the trees\"\n",
        "s3=\"traffic is bad today\"\n",
        "d1 = bert_vectorizer(s2, verbose=True)\n",
        "d2 = bert_vectorizer(s3, verbose=True)\n",
        "cosine_distance_wordembedding_method(d1,d2)\n",
        "\n",
        "# 01     02    12\n",
        "#85.22  67.6     69.01\n",
        "\n",
        "#eu 7.8  10.6    10.9"
      ],
      "execution_count": 0,
      "outputs": [
        {
          "output_type": "stream",
          "text": [
            "30/30 [==============================] - 0s 2ms/step\n",
            "20/20 [==============================] - 0s 2ms/step\n"
          ],
          "name": "stdout"
        },
        {
          "output_type": "execute_result",
          "data": {
            "text/plain": [
              "70.08"
            ]
          },
          "metadata": {
            "tags": []
          },
          "execution_count": 53
        }
      ]
    },
    {
      "cell_type": "code",
      "metadata": {
        "id": "3CxYwDAlaa3f",
        "colab_type": "code",
        "colab": {}
      },
      "source": [
        ""
      ],
      "execution_count": 0,
      "outputs": []
    }
  ]
}