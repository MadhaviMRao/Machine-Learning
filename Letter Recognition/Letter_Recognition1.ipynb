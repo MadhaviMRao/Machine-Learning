{
  "nbformat": 4,
  "nbformat_minor": 0,
  "metadata": {
    "colab": {
      "name": "Letter_Recognition.ipynb",
      "version": "0.3.2",
      "provenance": [],
      "collapsed_sections": [],
      "include_colab_link": true
    },
    "language_info": {
      "codemirror_mode": {
        "name": "ipython",
        "version": 3
      },
      "file_extension": ".py",
      "mimetype": "text/x-python",
      "name": "python",
      "nbconvert_exporter": "python",
      "pygments_lexer": "ipython3",
      "version": "3.7.1"
    },
    "kernelspec": {
      "display_name": "Python 3",
      "language": "python",
      "name": "python3"
    },
    "accelerator": "GPU"
  },
  "cells": [
    {
      "cell_type": "markdown",
      "metadata": {
        "id": "view-in-github",
        "colab_type": "text"
      },
      "source": [
        "<a href=\"https://colab.research.google.com/github/MadhaviMRao/Machine-Learning/blob/master/Letter%20Recognition/Letter_Recognition1.ipynb\" target=\"_parent\"><img src=\"https://colab.research.google.com/assets/colab-badge.svg\" alt=\"Open In Colab\"/></a>"
      ]
    },
    {
      "cell_type": "markdown",
      "metadata": {
        "colab_type": "text",
        "id": "w0DeY9_A26cn"
      },
      "source": [
        "# Letter Recognition\n",
        " __By Madhavi Rao__"
      ]
    },
    {
      "cell_type": "markdown",
      "metadata": {
        "colab_type": "text",
        "id": "PMlhgMge26co"
      },
      "source": [
        "## Table of Contents\n",
        "\n",
        "1. [Problem Statement](#section1)<br>\n",
        "2. [Data Loading and Description](#section2)\n",
        "3. [Preprocessing](#section3)\n",
        "4. [Exploratory Data Analysis](#section4)<br>\n",
        "    - 4.1 [Distribution of columns grouped by letter](#section4_1)<br>\n",
        "    - 4.2 [Finding Correlations](#section4_2)<br>\n",
        "    - 4.3 [Pairwise relationship between highly correlated values](#section4_3)<br>\n",
        "    \n",
        "5. [Data preparation](#section5)<br>\n",
        "\n",
        "6. [Model Creation and Evaluation](#section6)<br>\n",
        "    - 6.1 [Preparing train and test data](#section6_1)<br>\n",
        "    - 6.2 [Logistic Regression Model over train and test data](#section6_2)<br>\n",
        "    - 6.3 [Decision Tree alogorithm  over train and test data](#section6_3)<br>\n",
        "    - 6.4 [Random Forest Model over train and test data](#section6_4)<br>\n",
        "    - 6.5 [K Nearest Neighbors Model over train and test data](#section6_5)<br>\n",
        "    - 6.6 [Support Vector Machine Model over train and test data](#section6_6)<br>\n",
        "    - 6.7 [Naive Bayes Model over train and test dataa](#section6_7)<br>\n",
        "    - 6.8 [EnsembleVoteClassifier](#section6_8)<br>"
      ]
    },
    {
      "cell_type": "markdown",
      "metadata": {
        "colab_type": "text",
        "id": "1B8bU1iB26cp"
      },
      "source": [
        "<a id=section1></a>"
      ]
    },
    {
      "cell_type": "markdown",
      "metadata": {
        "colab_type": "text",
        "id": "kziE8AQj26cq"
      },
      "source": [
        "## 1. Problem Statement "
      ]
    },
    {
      "cell_type": "markdown",
      "metadata": {
        "colab_type": "text",
        "id": "oyVntM1g26cr"
      },
      "source": [
        "![image.jpg](images/image1.jpg)"
      ]
    },
    {
      "cell_type": "markdown",
      "metadata": {
        "colab_type": "text",
        "id": "7FhilhBz26cs"
      },
      "source": [
        "The objective is to identify each of a large number of black-and-white rectangular pixel displays as one of the 26 capital letters in the English alphabet. \n",
        "\n",
        "The character images were based on 20 different fonts and each letter within these 20 fonts was randomly distorted to produce a file of 20,000 unique stimuli. \n",
        "\n",
        "Each stimulus was converted into 16 primitive numerical attributes (statistical moments and edge counts) which were then scaled to fit into a range of integer values from 0 through 15. \n",
        "\n",
        "We typically train on the first 16000 items and then use the resulting model to predict the letter category for the remaining 4000. \n",
        "\n",
        "\n",
        "__Attribute Information:__\n",
        "\n",
        "1.\tletter\tcapital letter\t(26 values from A to Z) \n",
        "2.\tx-box\thorizontal position of box\t(integer) \n",
        "3.\ty-box\tvertical position of box\t(integer) \n",
        "4.\twidth\twidth of box\t(integer) \n",
        "5.\thigh    height of box\t(integer) \n",
        "6.\tonpix\ttotal # on pixels\t(integer) \n",
        "7.\tx-bar\tmean x of on pixels in box\t(integer) \n",
        "8.\ty-bar\tmean y of on pixels in box\t(integer) \n",
        "9.\tx2bar\tmean x variance\t(integer) \n",
        "10.\ty2bar\tmean y variance\t(integer) \n",
        "11.\txybar\tmean x y correlation\t(integer) \n",
        "12.\tx2ybr\tmean of x * x * y\t(integer) \n",
        "13.\txy2br\tmean of x * y * y\t(integer) \n",
        "14.\tx-ege\tmean edge count left to right\t(integer) \n",
        "15.\txegvy\tcorrelation of x-ege with y\t(integer) \n",
        "16.\ty-ege\tmean edge count bottom to top\t(integer) \n",
        "17.\tyegvx\tcorrelation of y-ege with x\t(integer)\n",
        "\n"
      ]
    },
    {
      "cell_type": "markdown",
      "metadata": {
        "colab_type": "text",
        "id": "J00X7QYO26cs"
      },
      "source": [
        "<a id=section2></a>"
      ]
    },
    {
      "cell_type": "markdown",
      "metadata": {
        "colab_type": "text",
        "id": "Q7MRif9a26ct"
      },
      "source": [
        "## 2. Data Loading and Description"
      ]
    },
    {
      "cell_type": "code",
      "metadata": {
        "colab_type": "code",
        "id": "piVw-ksM26cu",
        "colab": {}
      },
      "source": [
        "import sys                                                                      # Import packages\n",
        "import pandas as pd\n",
        "import seaborn as sns\n",
        "import numpy as np\n",
        "import matplotlib.pyplot as plt\n",
        "from sklearn import metrics\n",
        "from matplotlib.pyplot import pie, axis, show\n",
        "%matplotlib inline                                                              \n",
        "\n",
        "import warnings                                                                 # Ignore warning related to pandas_profiling\n",
        "warnings.filterwarnings('ignore') \n",
        "\n",
        "pd.set_option('display.max_columns', 100)                                       # Display all dataframe columns in outputs (it has 27 columns, which is wider than the notebook)\n",
        "                                                                                # This sets it up to dispaly with a horizontal scroll instead of hiding the middle columns\n",
        "\n",
        "#\n"
      ],
      "execution_count": 0,
      "outputs": []
    },
    {
      "cell_type": "code",
      "metadata": {
        "colab_type": "code",
        "id": "VwldzpBh26cx",
        "colab": {}
      },
      "source": [
        "train = pd.read_csv('https://raw.githubusercontent.com/insaid2018/Term-4/master/Projects/LetterRecognition_train.csv')\n",
        "test = pd.read_csv('https://raw.githubusercontent.com/insaid2018/Term-4/master/Projects/LetterRecognition_test.csv')"
      ],
      "execution_count": 0,
      "outputs": []
    },
    {
      "cell_type": "code",
      "metadata": {
        "colab_type": "code",
        "id": "xD3oeaME26c0",
        "outputId": "5a9b640a-ff2e-4410-f066-daea7fc96b15",
        "colab": {
          "base_uri": "https://localhost:8080/",
          "height": 50
        }
      },
      "source": [
        "print('Train data has ',train.shape,' rows and columns')\n",
        "print('Tets data has ',test.shape,' rows and columns')"
      ],
      "execution_count": 3,
      "outputs": [
        {
          "output_type": "stream",
          "text": [
            "Train data has  (16000, 18)  rows and columns\n",
            "Tets data has  (3999, 17)  rows and columns\n"
          ],
          "name": "stdout"
        }
      ]
    },
    {
      "cell_type": "code",
      "metadata": {
        "colab_type": "code",
        "id": "_vuIvrUP26c5",
        "outputId": "819b42fc-b7e3-4c9c-ab37-a8def2d5d8ec",
        "colab": {
          "base_uri": "https://localhost:8080/",
          "height": 195
        }
      },
      "source": [
        "train.head()"
      ],
      "execution_count": 4,
      "outputs": [
        {
          "output_type": "execute_result",
          "data": {
            "text/html": [
              "<div>\n",
              "<style scoped>\n",
              "    .dataframe tbody tr th:only-of-type {\n",
              "        vertical-align: middle;\n",
              "    }\n",
              "\n",
              "    .dataframe tbody tr th {\n",
              "        vertical-align: top;\n",
              "    }\n",
              "\n",
              "    .dataframe thead th {\n",
              "        text-align: right;\n",
              "    }\n",
              "</style>\n",
              "<table border=\"1\" class=\"dataframe\">\n",
              "  <thead>\n",
              "    <tr style=\"text-align: right;\">\n",
              "      <th></th>\n",
              "      <th>letter</th>\n",
              "      <th>x-box</th>\n",
              "      <th>y-box</th>\n",
              "      <th>width</th>\n",
              "      <th>high</th>\n",
              "      <th>onpix</th>\n",
              "      <th>x-bar</th>\n",
              "      <th>y-bar</th>\n",
              "      <th>x2bar</th>\n",
              "      <th>y2bar</th>\n",
              "      <th>xybar</th>\n",
              "      <th>x2ybr</th>\n",
              "      <th>xy2br</th>\n",
              "      <th>x-ege</th>\n",
              "      <th>xegvy</th>\n",
              "      <th>y-ege</th>\n",
              "      <th>yegvx</th>\n",
              "      <th>id</th>\n",
              "    </tr>\n",
              "  </thead>\n",
              "  <tbody>\n",
              "    <tr>\n",
              "      <th>0</th>\n",
              "      <td>I</td>\n",
              "      <td>5</td>\n",
              "      <td>12</td>\n",
              "      <td>3</td>\n",
              "      <td>7</td>\n",
              "      <td>2</td>\n",
              "      <td>10</td>\n",
              "      <td>5</td>\n",
              "      <td>5</td>\n",
              "      <td>4</td>\n",
              "      <td>13</td>\n",
              "      <td>3</td>\n",
              "      <td>9</td>\n",
              "      <td>2</td>\n",
              "      <td>8</td>\n",
              "      <td>4</td>\n",
              "      <td>10</td>\n",
              "      <td>1</td>\n",
              "    </tr>\n",
              "    <tr>\n",
              "      <th>1</th>\n",
              "      <td>D</td>\n",
              "      <td>4</td>\n",
              "      <td>11</td>\n",
              "      <td>6</td>\n",
              "      <td>8</td>\n",
              "      <td>6</td>\n",
              "      <td>10</td>\n",
              "      <td>6</td>\n",
              "      <td>2</td>\n",
              "      <td>6</td>\n",
              "      <td>10</td>\n",
              "      <td>3</td>\n",
              "      <td>7</td>\n",
              "      <td>3</td>\n",
              "      <td>7</td>\n",
              "      <td>3</td>\n",
              "      <td>9</td>\n",
              "      <td>2</td>\n",
              "    </tr>\n",
              "    <tr>\n",
              "      <th>2</th>\n",
              "      <td>N</td>\n",
              "      <td>7</td>\n",
              "      <td>11</td>\n",
              "      <td>6</td>\n",
              "      <td>6</td>\n",
              "      <td>3</td>\n",
              "      <td>5</td>\n",
              "      <td>9</td>\n",
              "      <td>4</td>\n",
              "      <td>6</td>\n",
              "      <td>4</td>\n",
              "      <td>4</td>\n",
              "      <td>10</td>\n",
              "      <td>6</td>\n",
              "      <td>10</td>\n",
              "      <td>2</td>\n",
              "      <td>8</td>\n",
              "      <td>3</td>\n",
              "    </tr>\n",
              "    <tr>\n",
              "      <th>3</th>\n",
              "      <td>G</td>\n",
              "      <td>2</td>\n",
              "      <td>1</td>\n",
              "      <td>3</td>\n",
              "      <td>1</td>\n",
              "      <td>1</td>\n",
              "      <td>8</td>\n",
              "      <td>6</td>\n",
              "      <td>6</td>\n",
              "      <td>6</td>\n",
              "      <td>6</td>\n",
              "      <td>5</td>\n",
              "      <td>9</td>\n",
              "      <td>1</td>\n",
              "      <td>7</td>\n",
              "      <td>5</td>\n",
              "      <td>10</td>\n",
              "      <td>4</td>\n",
              "    </tr>\n",
              "    <tr>\n",
              "      <th>4</th>\n",
              "      <td>S</td>\n",
              "      <td>4</td>\n",
              "      <td>11</td>\n",
              "      <td>5</td>\n",
              "      <td>8</td>\n",
              "      <td>3</td>\n",
              "      <td>8</td>\n",
              "      <td>8</td>\n",
              "      <td>6</td>\n",
              "      <td>9</td>\n",
              "      <td>5</td>\n",
              "      <td>6</td>\n",
              "      <td>6</td>\n",
              "      <td>0</td>\n",
              "      <td>8</td>\n",
              "      <td>9</td>\n",
              "      <td>7</td>\n",
              "      <td>5</td>\n",
              "    </tr>\n",
              "  </tbody>\n",
              "</table>\n",
              "</div>"
            ],
            "text/plain": [
              "  letter  x-box  y-box  width  high  onpix  x-bar  y-bar  x2bar  y2bar  xybar  \\\n",
              "0      I      5     12      3     7      2     10      5      5      4     13   \n",
              "1      D      4     11      6     8      6     10      6      2      6     10   \n",
              "2      N      7     11      6     6      3      5      9      4      6      4   \n",
              "3      G      2      1      3     1      1      8      6      6      6      6   \n",
              "4      S      4     11      5     8      3      8      8      6      9      5   \n",
              "\n",
              "   x2ybr  xy2br  x-ege  xegvy  y-ege  yegvx  id  \n",
              "0      3      9      2      8      4     10   1  \n",
              "1      3      7      3      7      3      9   2  \n",
              "2      4     10      6     10      2      8   3  \n",
              "3      5      9      1      7      5     10   4  \n",
              "4      6      6      0      8      9      7   5  "
            ]
          },
          "metadata": {
            "tags": []
          },
          "execution_count": 4
        }
      ]
    },
    {
      "cell_type": "code",
      "metadata": {
        "colab_type": "code",
        "id": "Fy2JEAmF26c8",
        "outputId": "c2179b27-1731-4ad0-bfc2-fd23945c8ef7",
        "colab": {
          "base_uri": "https://localhost:8080/",
          "height": 195
        }
      },
      "source": [
        "test.head()"
      ],
      "execution_count": 5,
      "outputs": [
        {
          "output_type": "execute_result",
          "data": {
            "text/html": [
              "<div>\n",
              "<style scoped>\n",
              "    .dataframe tbody tr th:only-of-type {\n",
              "        vertical-align: middle;\n",
              "    }\n",
              "\n",
              "    .dataframe tbody tr th {\n",
              "        vertical-align: top;\n",
              "    }\n",
              "\n",
              "    .dataframe thead th {\n",
              "        text-align: right;\n",
              "    }\n",
              "</style>\n",
              "<table border=\"1\" class=\"dataframe\">\n",
              "  <thead>\n",
              "    <tr style=\"text-align: right;\">\n",
              "      <th></th>\n",
              "      <th>x-box</th>\n",
              "      <th>y-box</th>\n",
              "      <th>width</th>\n",
              "      <th>high</th>\n",
              "      <th>onpix</th>\n",
              "      <th>x-bar</th>\n",
              "      <th>y-bar</th>\n",
              "      <th>x2bar</th>\n",
              "      <th>y2bar</th>\n",
              "      <th>xybar</th>\n",
              "      <th>x2ybr</th>\n",
              "      <th>xy2br</th>\n",
              "      <th>x-ege</th>\n",
              "      <th>xegvy</th>\n",
              "      <th>y-ege</th>\n",
              "      <th>yegvx</th>\n",
              "      <th>id</th>\n",
              "    </tr>\n",
              "  </thead>\n",
              "  <tbody>\n",
              "    <tr>\n",
              "      <th>0</th>\n",
              "      <td>6</td>\n",
              "      <td>9</td>\n",
              "      <td>8</td>\n",
              "      <td>4</td>\n",
              "      <td>3</td>\n",
              "      <td>8</td>\n",
              "      <td>7</td>\n",
              "      <td>3</td>\n",
              "      <td>4</td>\n",
              "      <td>13</td>\n",
              "      <td>5</td>\n",
              "      <td>8</td>\n",
              "      <td>6</td>\n",
              "      <td>8</td>\n",
              "      <td>0</td>\n",
              "      <td>8</td>\n",
              "      <td>16001</td>\n",
              "    </tr>\n",
              "    <tr>\n",
              "      <th>1</th>\n",
              "      <td>6</td>\n",
              "      <td>9</td>\n",
              "      <td>8</td>\n",
              "      <td>8</td>\n",
              "      <td>10</td>\n",
              "      <td>7</td>\n",
              "      <td>7</td>\n",
              "      <td>5</td>\n",
              "      <td>4</td>\n",
              "      <td>7</td>\n",
              "      <td>6</td>\n",
              "      <td>8</td>\n",
              "      <td>7</td>\n",
              "      <td>9</td>\n",
              "      <td>7</td>\n",
              "      <td>10</td>\n",
              "      <td>16002</td>\n",
              "    </tr>\n",
              "    <tr>\n",
              "      <th>2</th>\n",
              "      <td>5</td>\n",
              "      <td>6</td>\n",
              "      <td>6</td>\n",
              "      <td>4</td>\n",
              "      <td>3</td>\n",
              "      <td>7</td>\n",
              "      <td>6</td>\n",
              "      <td>2</td>\n",
              "      <td>7</td>\n",
              "      <td>7</td>\n",
              "      <td>6</td>\n",
              "      <td>9</td>\n",
              "      <td>0</td>\n",
              "      <td>9</td>\n",
              "      <td>4</td>\n",
              "      <td>8</td>\n",
              "      <td>16003</td>\n",
              "    </tr>\n",
              "    <tr>\n",
              "      <th>3</th>\n",
              "      <td>5</td>\n",
              "      <td>9</td>\n",
              "      <td>7</td>\n",
              "      <td>6</td>\n",
              "      <td>4</td>\n",
              "      <td>9</td>\n",
              "      <td>7</td>\n",
              "      <td>3</td>\n",
              "      <td>5</td>\n",
              "      <td>10</td>\n",
              "      <td>4</td>\n",
              "      <td>6</td>\n",
              "      <td>5</td>\n",
              "      <td>8</td>\n",
              "      <td>1</td>\n",
              "      <td>7</td>\n",
              "      <td>16004</td>\n",
              "    </tr>\n",
              "    <tr>\n",
              "      <th>4</th>\n",
              "      <td>5</td>\n",
              "      <td>8</td>\n",
              "      <td>8</td>\n",
              "      <td>6</td>\n",
              "      <td>6</td>\n",
              "      <td>5</td>\n",
              "      <td>8</td>\n",
              "      <td>3</td>\n",
              "      <td>6</td>\n",
              "      <td>10</td>\n",
              "      <td>8</td>\n",
              "      <td>8</td>\n",
              "      <td>4</td>\n",
              "      <td>8</td>\n",
              "      <td>4</td>\n",
              "      <td>6</td>\n",
              "      <td>16005</td>\n",
              "    </tr>\n",
              "  </tbody>\n",
              "</table>\n",
              "</div>"
            ],
            "text/plain": [
              "   x-box  y-box  width  high  onpix  x-bar  y-bar  x2bar  y2bar  xybar  x2ybr  \\\n",
              "0      6      9      8     4      3      8      7      3      4     13      5   \n",
              "1      6      9      8     8     10      7      7      5      4      7      6   \n",
              "2      5      6      6     4      3      7      6      2      7      7      6   \n",
              "3      5      9      7     6      4      9      7      3      5     10      4   \n",
              "4      5      8      8     6      6      5      8      3      6     10      8   \n",
              "\n",
              "   xy2br  x-ege  xegvy  y-ege  yegvx     id  \n",
              "0      8      6      8      0      8  16001  \n",
              "1      8      7      9      7     10  16002  \n",
              "2      9      0      9      4      8  16003  \n",
              "3      6      5      8      1      7  16004  \n",
              "4      8      4      8      4      6  16005  "
            ]
          },
          "metadata": {
            "tags": []
          },
          "execution_count": 5
        }
      ]
    },
    {
      "cell_type": "code",
      "metadata": {
        "colab_type": "code",
        "id": "fl9g7dz826dA",
        "outputId": "e6bb7269-3435-4868-ff0e-a5b67c121410",
        "colab": {
          "base_uri": "https://localhost:8080/",
          "height": 304
        }
      },
      "source": [
        "train.describe()"
      ],
      "execution_count": 6,
      "outputs": [
        {
          "output_type": "execute_result",
          "data": {
            "text/html": [
              "<div>\n",
              "<style scoped>\n",
              "    .dataframe tbody tr th:only-of-type {\n",
              "        vertical-align: middle;\n",
              "    }\n",
              "\n",
              "    .dataframe tbody tr th {\n",
              "        vertical-align: top;\n",
              "    }\n",
              "\n",
              "    .dataframe thead th {\n",
              "        text-align: right;\n",
              "    }\n",
              "</style>\n",
              "<table border=\"1\" class=\"dataframe\">\n",
              "  <thead>\n",
              "    <tr style=\"text-align: right;\">\n",
              "      <th></th>\n",
              "      <th>x-box</th>\n",
              "      <th>y-box</th>\n",
              "      <th>width</th>\n",
              "      <th>high</th>\n",
              "      <th>onpix</th>\n",
              "      <th>x-bar</th>\n",
              "      <th>y-bar</th>\n",
              "      <th>x2bar</th>\n",
              "      <th>y2bar</th>\n",
              "      <th>xybar</th>\n",
              "      <th>x2ybr</th>\n",
              "      <th>xy2br</th>\n",
              "      <th>x-ege</th>\n",
              "      <th>xegvy</th>\n",
              "      <th>y-ege</th>\n",
              "      <th>yegvx</th>\n",
              "      <th>id</th>\n",
              "    </tr>\n",
              "  </thead>\n",
              "  <tbody>\n",
              "    <tr>\n",
              "      <th>count</th>\n",
              "      <td>16000.000000</td>\n",
              "      <td>16000.000000</td>\n",
              "      <td>16000.000000</td>\n",
              "      <td>16000.000000</td>\n",
              "      <td>16000.000000</td>\n",
              "      <td>16000.000000</td>\n",
              "      <td>16000.000000</td>\n",
              "      <td>16000.000000</td>\n",
              "      <td>16000.000000</td>\n",
              "      <td>16000.000000</td>\n",
              "      <td>16000.000000</td>\n",
              "      <td>16000.000000</td>\n",
              "      <td>16000.000000</td>\n",
              "      <td>16000.000000</td>\n",
              "      <td>16000.000000</td>\n",
              "      <td>16000.000000</td>\n",
              "      <td>16000.000000</td>\n",
              "    </tr>\n",
              "    <tr>\n",
              "      <th>mean</th>\n",
              "      <td>4.020313</td>\n",
              "      <td>7.029063</td>\n",
              "      <td>5.117500</td>\n",
              "      <td>5.366000</td>\n",
              "      <td>3.500625</td>\n",
              "      <td>6.892688</td>\n",
              "      <td>7.512000</td>\n",
              "      <td>4.627562</td>\n",
              "      <td>5.170187</td>\n",
              "      <td>8.286625</td>\n",
              "      <td>6.471063</td>\n",
              "      <td>7.927062</td>\n",
              "      <td>3.049313</td>\n",
              "      <td>8.343937</td>\n",
              "      <td>3.682313</td>\n",
              "      <td>7.796125</td>\n",
              "      <td>8000.500000</td>\n",
              "    </tr>\n",
              "    <tr>\n",
              "      <th>std</th>\n",
              "      <td>1.908436</td>\n",
              "      <td>3.303998</td>\n",
              "      <td>2.003202</td>\n",
              "      <td>2.262656</td>\n",
              "      <td>2.192613</td>\n",
              "      <td>2.029576</td>\n",
              "      <td>2.333494</td>\n",
              "      <td>2.711330</td>\n",
              "      <td>2.384917</td>\n",
              "      <td>2.485706</td>\n",
              "      <td>2.641917</td>\n",
              "      <td>2.071988</td>\n",
              "      <td>2.342829</td>\n",
              "      <td>1.550055</td>\n",
              "      <td>2.571245</td>\n",
              "      <td>1.603464</td>\n",
              "      <td>4618.946489</td>\n",
              "    </tr>\n",
              "    <tr>\n",
              "      <th>min</th>\n",
              "      <td>0.000000</td>\n",
              "      <td>0.000000</td>\n",
              "      <td>0.000000</td>\n",
              "      <td>0.000000</td>\n",
              "      <td>0.000000</td>\n",
              "      <td>0.000000</td>\n",
              "      <td>0.000000</td>\n",
              "      <td>0.000000</td>\n",
              "      <td>0.000000</td>\n",
              "      <td>0.000000</td>\n",
              "      <td>0.000000</td>\n",
              "      <td>0.000000</td>\n",
              "      <td>0.000000</td>\n",
              "      <td>0.000000</td>\n",
              "      <td>0.000000</td>\n",
              "      <td>1.000000</td>\n",
              "      <td>1.000000</td>\n",
              "    </tr>\n",
              "    <tr>\n",
              "      <th>25%</th>\n",
              "      <td>3.000000</td>\n",
              "      <td>5.000000</td>\n",
              "      <td>4.000000</td>\n",
              "      <td>4.000000</td>\n",
              "      <td>2.000000</td>\n",
              "      <td>6.000000</td>\n",
              "      <td>6.000000</td>\n",
              "      <td>3.000000</td>\n",
              "      <td>4.000000</td>\n",
              "      <td>7.000000</td>\n",
              "      <td>5.000000</td>\n",
              "      <td>7.000000</td>\n",
              "      <td>1.000000</td>\n",
              "      <td>8.000000</td>\n",
              "      <td>2.000000</td>\n",
              "      <td>7.000000</td>\n",
              "      <td>4000.750000</td>\n",
              "    </tr>\n",
              "    <tr>\n",
              "      <th>50%</th>\n",
              "      <td>4.000000</td>\n",
              "      <td>7.000000</td>\n",
              "      <td>5.000000</td>\n",
              "      <td>6.000000</td>\n",
              "      <td>3.000000</td>\n",
              "      <td>7.000000</td>\n",
              "      <td>7.000000</td>\n",
              "      <td>4.000000</td>\n",
              "      <td>5.000000</td>\n",
              "      <td>8.000000</td>\n",
              "      <td>6.000000</td>\n",
              "      <td>8.000000</td>\n",
              "      <td>3.000000</td>\n",
              "      <td>8.000000</td>\n",
              "      <td>3.000000</td>\n",
              "      <td>8.000000</td>\n",
              "      <td>8000.500000</td>\n",
              "    </tr>\n",
              "    <tr>\n",
              "      <th>75%</th>\n",
              "      <td>5.000000</td>\n",
              "      <td>9.000000</td>\n",
              "      <td>6.000000</td>\n",
              "      <td>7.000000</td>\n",
              "      <td>5.000000</td>\n",
              "      <td>8.000000</td>\n",
              "      <td>9.000000</td>\n",
              "      <td>6.000000</td>\n",
              "      <td>7.000000</td>\n",
              "      <td>10.000000</td>\n",
              "      <td>8.000000</td>\n",
              "      <td>9.000000</td>\n",
              "      <td>4.000000</td>\n",
              "      <td>9.000000</td>\n",
              "      <td>5.000000</td>\n",
              "      <td>8.000000</td>\n",
              "      <td>12000.250000</td>\n",
              "    </tr>\n",
              "    <tr>\n",
              "      <th>max</th>\n",
              "      <td>15.000000</td>\n",
              "      <td>15.000000</td>\n",
              "      <td>15.000000</td>\n",
              "      <td>15.000000</td>\n",
              "      <td>15.000000</td>\n",
              "      <td>15.000000</td>\n",
              "      <td>15.000000</td>\n",
              "      <td>15.000000</td>\n",
              "      <td>15.000000</td>\n",
              "      <td>15.000000</td>\n",
              "      <td>15.000000</td>\n",
              "      <td>15.000000</td>\n",
              "      <td>15.000000</td>\n",
              "      <td>15.000000</td>\n",
              "      <td>15.000000</td>\n",
              "      <td>15.000000</td>\n",
              "      <td>16000.000000</td>\n",
              "    </tr>\n",
              "  </tbody>\n",
              "</table>\n",
              "</div>"
            ],
            "text/plain": [
              "              x-box         y-box         width          high         onpix  \\\n",
              "count  16000.000000  16000.000000  16000.000000  16000.000000  16000.000000   \n",
              "mean       4.020313      7.029063      5.117500      5.366000      3.500625   \n",
              "std        1.908436      3.303998      2.003202      2.262656      2.192613   \n",
              "min        0.000000      0.000000      0.000000      0.000000      0.000000   \n",
              "25%        3.000000      5.000000      4.000000      4.000000      2.000000   \n",
              "50%        4.000000      7.000000      5.000000      6.000000      3.000000   \n",
              "75%        5.000000      9.000000      6.000000      7.000000      5.000000   \n",
              "max       15.000000     15.000000     15.000000     15.000000     15.000000   \n",
              "\n",
              "              x-bar         y-bar         x2bar         y2bar         xybar  \\\n",
              "count  16000.000000  16000.000000  16000.000000  16000.000000  16000.000000   \n",
              "mean       6.892688      7.512000      4.627562      5.170187      8.286625   \n",
              "std        2.029576      2.333494      2.711330      2.384917      2.485706   \n",
              "min        0.000000      0.000000      0.000000      0.000000      0.000000   \n",
              "25%        6.000000      6.000000      3.000000      4.000000      7.000000   \n",
              "50%        7.000000      7.000000      4.000000      5.000000      8.000000   \n",
              "75%        8.000000      9.000000      6.000000      7.000000     10.000000   \n",
              "max       15.000000     15.000000     15.000000     15.000000     15.000000   \n",
              "\n",
              "              x2ybr         xy2br         x-ege         xegvy         y-ege  \\\n",
              "count  16000.000000  16000.000000  16000.000000  16000.000000  16000.000000   \n",
              "mean       6.471063      7.927062      3.049313      8.343937      3.682313   \n",
              "std        2.641917      2.071988      2.342829      1.550055      2.571245   \n",
              "min        0.000000      0.000000      0.000000      0.000000      0.000000   \n",
              "25%        5.000000      7.000000      1.000000      8.000000      2.000000   \n",
              "50%        6.000000      8.000000      3.000000      8.000000      3.000000   \n",
              "75%        8.000000      9.000000      4.000000      9.000000      5.000000   \n",
              "max       15.000000     15.000000     15.000000     15.000000     15.000000   \n",
              "\n",
              "              yegvx            id  \n",
              "count  16000.000000  16000.000000  \n",
              "mean       7.796125   8000.500000  \n",
              "std        1.603464   4618.946489  \n",
              "min        1.000000      1.000000  \n",
              "25%        7.000000   4000.750000  \n",
              "50%        8.000000   8000.500000  \n",
              "75%        8.000000  12000.250000  \n",
              "max       15.000000  16000.000000  "
            ]
          },
          "metadata": {
            "tags": []
          },
          "execution_count": 6
        }
      ]
    },
    {
      "cell_type": "code",
      "metadata": {
        "colab_type": "code",
        "id": "BifhVK6m26dD",
        "outputId": "66eb95cf-c576-41c3-b881-463cd00ccff6",
        "colab": {
          "base_uri": "https://localhost:8080/",
          "height": 304
        }
      },
      "source": [
        "test.describe()"
      ],
      "execution_count": 7,
      "outputs": [
        {
          "output_type": "execute_result",
          "data": {
            "text/html": [
              "<div>\n",
              "<style scoped>\n",
              "    .dataframe tbody tr th:only-of-type {\n",
              "        vertical-align: middle;\n",
              "    }\n",
              "\n",
              "    .dataframe tbody tr th {\n",
              "        vertical-align: top;\n",
              "    }\n",
              "\n",
              "    .dataframe thead th {\n",
              "        text-align: right;\n",
              "    }\n",
              "</style>\n",
              "<table border=\"1\" class=\"dataframe\">\n",
              "  <thead>\n",
              "    <tr style=\"text-align: right;\">\n",
              "      <th></th>\n",
              "      <th>x-box</th>\n",
              "      <th>y-box</th>\n",
              "      <th>width</th>\n",
              "      <th>high</th>\n",
              "      <th>onpix</th>\n",
              "      <th>x-bar</th>\n",
              "      <th>y-bar</th>\n",
              "      <th>x2bar</th>\n",
              "      <th>y2bar</th>\n",
              "      <th>xybar</th>\n",
              "      <th>x2ybr</th>\n",
              "      <th>xy2br</th>\n",
              "      <th>x-ege</th>\n",
              "      <th>xegvy</th>\n",
              "      <th>y-ege</th>\n",
              "      <th>yegvx</th>\n",
              "      <th>id</th>\n",
              "    </tr>\n",
              "  </thead>\n",
              "  <tbody>\n",
              "    <tr>\n",
              "      <th>count</th>\n",
              "      <td>3999.000000</td>\n",
              "      <td>3999.000000</td>\n",
              "      <td>3999.000000</td>\n",
              "      <td>3999.000000</td>\n",
              "      <td>3999.000000</td>\n",
              "      <td>3999.000000</td>\n",
              "      <td>3999.000000</td>\n",
              "      <td>3999.000000</td>\n",
              "      <td>3999.000000</td>\n",
              "      <td>3999.000000</td>\n",
              "      <td>3999.000000</td>\n",
              "      <td>3999.000000</td>\n",
              "      <td>3999.000000</td>\n",
              "      <td>3999.000000</td>\n",
              "      <td>3999.000000</td>\n",
              "      <td>3999.000000</td>\n",
              "      <td>3999.000000</td>\n",
              "    </tr>\n",
              "    <tr>\n",
              "      <th>mean</th>\n",
              "      <td>4.037009</td>\n",
              "      <td>7.061015</td>\n",
              "      <td>5.139785</td>\n",
              "      <td>5.398350</td>\n",
              "      <td>3.527382</td>\n",
              "      <td>6.916979</td>\n",
              "      <td>7.452863</td>\n",
              "      <td>4.633908</td>\n",
              "      <td>5.212303</td>\n",
              "      <td>8.264316</td>\n",
              "      <td>6.384846</td>\n",
              "      <td>7.936734</td>\n",
              "      <td>3.034009</td>\n",
              "      <td>8.318580</td>\n",
              "      <td>3.730433</td>\n",
              "      <td>7.821455</td>\n",
              "      <td>18000.000000</td>\n",
              "    </tr>\n",
              "    <tr>\n",
              "      <th>std</th>\n",
              "      <td>1.932355</td>\n",
              "      <td>3.307453</td>\n",
              "      <td>2.059572</td>\n",
              "      <td>2.256691</td>\n",
              "      <td>2.181873</td>\n",
              "      <td>2.012122</td>\n",
              "      <td>2.290816</td>\n",
              "      <td>2.653683</td>\n",
              "      <td>2.364632</td>\n",
              "      <td>2.499806</td>\n",
              "      <td>2.586122</td>\n",
              "      <td>2.115298</td>\n",
              "      <td>2.290954</td>\n",
              "      <td>1.533528</td>\n",
              "      <td>2.549922</td>\n",
              "      <td>1.672581</td>\n",
              "      <td>1154.556192</td>\n",
              "    </tr>\n",
              "    <tr>\n",
              "      <th>min</th>\n",
              "      <td>0.000000</td>\n",
              "      <td>0.000000</td>\n",
              "      <td>0.000000</td>\n",
              "      <td>0.000000</td>\n",
              "      <td>0.000000</td>\n",
              "      <td>0.000000</td>\n",
              "      <td>0.000000</td>\n",
              "      <td>0.000000</td>\n",
              "      <td>0.000000</td>\n",
              "      <td>0.000000</td>\n",
              "      <td>0.000000</td>\n",
              "      <td>2.000000</td>\n",
              "      <td>0.000000</td>\n",
              "      <td>1.000000</td>\n",
              "      <td>0.000000</td>\n",
              "      <td>0.000000</td>\n",
              "      <td>16001.000000</td>\n",
              "    </tr>\n",
              "    <tr>\n",
              "      <th>25%</th>\n",
              "      <td>3.000000</td>\n",
              "      <td>5.000000</td>\n",
              "      <td>4.000000</td>\n",
              "      <td>4.000000</td>\n",
              "      <td>2.000000</td>\n",
              "      <td>6.000000</td>\n",
              "      <td>6.000000</td>\n",
              "      <td>3.000000</td>\n",
              "      <td>4.000000</td>\n",
              "      <td>7.000000</td>\n",
              "      <td>5.000000</td>\n",
              "      <td>7.000000</td>\n",
              "      <td>2.000000</td>\n",
              "      <td>8.000000</td>\n",
              "      <td>2.000000</td>\n",
              "      <td>7.000000</td>\n",
              "      <td>17000.500000</td>\n",
              "    </tr>\n",
              "    <tr>\n",
              "      <th>50%</th>\n",
              "      <td>4.000000</td>\n",
              "      <td>7.000000</td>\n",
              "      <td>5.000000</td>\n",
              "      <td>6.000000</td>\n",
              "      <td>3.000000</td>\n",
              "      <td>7.000000</td>\n",
              "      <td>7.000000</td>\n",
              "      <td>4.000000</td>\n",
              "      <td>5.000000</td>\n",
              "      <td>7.000000</td>\n",
              "      <td>6.000000</td>\n",
              "      <td>8.000000</td>\n",
              "      <td>3.000000</td>\n",
              "      <td>8.000000</td>\n",
              "      <td>4.000000</td>\n",
              "      <td>8.000000</td>\n",
              "      <td>18000.000000</td>\n",
              "    </tr>\n",
              "    <tr>\n",
              "      <th>75%</th>\n",
              "      <td>5.000000</td>\n",
              "      <td>9.000000</td>\n",
              "      <td>6.000000</td>\n",
              "      <td>7.000000</td>\n",
              "      <td>5.000000</td>\n",
              "      <td>8.000000</td>\n",
              "      <td>8.000000</td>\n",
              "      <td>6.000000</td>\n",
              "      <td>7.000000</td>\n",
              "      <td>10.000000</td>\n",
              "      <td>8.000000</td>\n",
              "      <td>9.000000</td>\n",
              "      <td>4.000000</td>\n",
              "      <td>9.000000</td>\n",
              "      <td>5.000000</td>\n",
              "      <td>9.000000</td>\n",
              "      <td>18999.500000</td>\n",
              "    </tr>\n",
              "    <tr>\n",
              "      <th>max</th>\n",
              "      <td>14.000000</td>\n",
              "      <td>15.000000</td>\n",
              "      <td>14.000000</td>\n",
              "      <td>14.000000</td>\n",
              "      <td>15.000000</td>\n",
              "      <td>15.000000</td>\n",
              "      <td>15.000000</td>\n",
              "      <td>15.000000</td>\n",
              "      <td>15.000000</td>\n",
              "      <td>15.000000</td>\n",
              "      <td>15.000000</td>\n",
              "      <td>15.000000</td>\n",
              "      <td>15.000000</td>\n",
              "      <td>14.000000</td>\n",
              "      <td>15.000000</td>\n",
              "      <td>15.000000</td>\n",
              "      <td>19999.000000</td>\n",
              "    </tr>\n",
              "  </tbody>\n",
              "</table>\n",
              "</div>"
            ],
            "text/plain": [
              "             x-box        y-box        width         high        onpix  \\\n",
              "count  3999.000000  3999.000000  3999.000000  3999.000000  3999.000000   \n",
              "mean      4.037009     7.061015     5.139785     5.398350     3.527382   \n",
              "std       1.932355     3.307453     2.059572     2.256691     2.181873   \n",
              "min       0.000000     0.000000     0.000000     0.000000     0.000000   \n",
              "25%       3.000000     5.000000     4.000000     4.000000     2.000000   \n",
              "50%       4.000000     7.000000     5.000000     6.000000     3.000000   \n",
              "75%       5.000000     9.000000     6.000000     7.000000     5.000000   \n",
              "max      14.000000    15.000000    14.000000    14.000000    15.000000   \n",
              "\n",
              "             x-bar        y-bar        x2bar        y2bar        xybar  \\\n",
              "count  3999.000000  3999.000000  3999.000000  3999.000000  3999.000000   \n",
              "mean      6.916979     7.452863     4.633908     5.212303     8.264316   \n",
              "std       2.012122     2.290816     2.653683     2.364632     2.499806   \n",
              "min       0.000000     0.000000     0.000000     0.000000     0.000000   \n",
              "25%       6.000000     6.000000     3.000000     4.000000     7.000000   \n",
              "50%       7.000000     7.000000     4.000000     5.000000     7.000000   \n",
              "75%       8.000000     8.000000     6.000000     7.000000    10.000000   \n",
              "max      15.000000    15.000000    15.000000    15.000000    15.000000   \n",
              "\n",
              "             x2ybr        xy2br        x-ege        xegvy        y-ege  \\\n",
              "count  3999.000000  3999.000000  3999.000000  3999.000000  3999.000000   \n",
              "mean      6.384846     7.936734     3.034009     8.318580     3.730433   \n",
              "std       2.586122     2.115298     2.290954     1.533528     2.549922   \n",
              "min       0.000000     2.000000     0.000000     1.000000     0.000000   \n",
              "25%       5.000000     7.000000     2.000000     8.000000     2.000000   \n",
              "50%       6.000000     8.000000     3.000000     8.000000     4.000000   \n",
              "75%       8.000000     9.000000     4.000000     9.000000     5.000000   \n",
              "max      15.000000    15.000000    15.000000    14.000000    15.000000   \n",
              "\n",
              "             yegvx            id  \n",
              "count  3999.000000   3999.000000  \n",
              "mean      7.821455  18000.000000  \n",
              "std       1.672581   1154.556192  \n",
              "min       0.000000  16001.000000  \n",
              "25%       7.000000  17000.500000  \n",
              "50%       8.000000  18000.000000  \n",
              "75%       9.000000  18999.500000  \n",
              "max      15.000000  19999.000000  "
            ]
          },
          "metadata": {
            "tags": []
          },
          "execution_count": 7
        }
      ]
    },
    {
      "cell_type": "code",
      "metadata": {
        "colab_type": "code",
        "id": "uEaRe0qK26dG",
        "outputId": "8b5c31f5-13ff-4abf-f6ed-3383e8cbacc5",
        "colab": {
          "base_uri": "https://localhost:8080/",
          "height": 403
        }
      },
      "source": [
        "train.info()"
      ],
      "execution_count": 8,
      "outputs": [
        {
          "output_type": "stream",
          "text": [
            "<class 'pandas.core.frame.DataFrame'>\n",
            "RangeIndex: 16000 entries, 0 to 15999\n",
            "Data columns (total 18 columns):\n",
            "letter    16000 non-null object\n",
            "x-box     16000 non-null int64\n",
            "y-box     16000 non-null int64\n",
            "width     16000 non-null int64\n",
            "high      16000 non-null int64\n",
            "onpix     16000 non-null int64\n",
            "x-bar     16000 non-null int64\n",
            "y-bar     16000 non-null int64\n",
            "x2bar     16000 non-null int64\n",
            "y2bar     16000 non-null int64\n",
            "xybar     16000 non-null int64\n",
            "x2ybr     16000 non-null int64\n",
            "xy2br     16000 non-null int64\n",
            "x-ege     16000 non-null int64\n",
            "xegvy     16000 non-null int64\n",
            "y-ege     16000 non-null int64\n",
            "yegvx     16000 non-null int64\n",
            "id        16000 non-null int64\n",
            "dtypes: int64(17), object(1)\n",
            "memory usage: 2.2+ MB\n"
          ],
          "name": "stdout"
        }
      ]
    },
    {
      "cell_type": "code",
      "metadata": {
        "colab_type": "code",
        "id": "7UgFcRIX26dI",
        "outputId": "0c5c1080-92e7-40f2-9456-6100b9fb2e65",
        "colab": {
          "base_uri": "https://localhost:8080/",
          "height": 386
        }
      },
      "source": [
        "test.info()"
      ],
      "execution_count": 9,
      "outputs": [
        {
          "output_type": "stream",
          "text": [
            "<class 'pandas.core.frame.DataFrame'>\n",
            "RangeIndex: 3999 entries, 0 to 3998\n",
            "Data columns (total 17 columns):\n",
            "x-box    3999 non-null int64\n",
            "y-box    3999 non-null int64\n",
            "width    3999 non-null int64\n",
            "high     3999 non-null int64\n",
            "onpix    3999 non-null int64\n",
            "x-bar    3999 non-null int64\n",
            "y-bar    3999 non-null int64\n",
            "x2bar    3999 non-null int64\n",
            "y2bar    3999 non-null int64\n",
            "xybar    3999 non-null int64\n",
            "x2ybr    3999 non-null int64\n",
            "xy2br    3999 non-null int64\n",
            "x-ege    3999 non-null int64\n",
            "xegvy    3999 non-null int64\n",
            "y-ege    3999 non-null int64\n",
            "yegvx    3999 non-null int64\n",
            "id       3999 non-null int64\n",
            "dtypes: int64(17)\n",
            "memory usage: 531.2 KB\n"
          ],
          "name": "stdout"
        }
      ]
    },
    {
      "cell_type": "markdown",
      "metadata": {
        "colab_type": "text",
        "id": "oLd2H7pf26dL"
      },
      "source": [
        "<a id=section3></a>"
      ]
    },
    {
      "cell_type": "markdown",
      "metadata": {
        "colab_type": "text",
        "id": "85bwfdT726dM"
      },
      "source": [
        "## 3. Preprocessing"
      ]
    },
    {
      "cell_type": "code",
      "metadata": {
        "colab_type": "code",
        "id": "maiR9g8l26dM",
        "outputId": "d7592e0f-0e47-42bb-e0ef-de03c005d2ea",
        "scrolled": true,
        "colab": {
          "base_uri": "https://localhost:8080/",
          "height": 336
        }
      },
      "source": [
        "#Check if the data has any null/missing values\n",
        "def lr(df):\n",
        "    return df.isna().sum()\n",
        "lr(train)"
      ],
      "execution_count": 10,
      "outputs": [
        {
          "output_type": "execute_result",
          "data": {
            "text/plain": [
              "letter    0\n",
              "x-box     0\n",
              "y-box     0\n",
              "width     0\n",
              "high      0\n",
              "onpix     0\n",
              "x-bar     0\n",
              "y-bar     0\n",
              "x2bar     0\n",
              "y2bar     0\n",
              "xybar     0\n",
              "x2ybr     0\n",
              "xy2br     0\n",
              "x-ege     0\n",
              "xegvy     0\n",
              "y-ege     0\n",
              "yegvx     0\n",
              "id        0\n",
              "dtype: int64"
            ]
          },
          "metadata": {
            "tags": []
          },
          "execution_count": 10
        }
      ]
    },
    {
      "cell_type": "code",
      "metadata": {
        "colab_type": "code",
        "id": "-dX07kEH26dP",
        "outputId": "29fac33d-9e8c-42fa-81c8-6156e05cf53f",
        "colab": {
          "base_uri": "https://localhost:8080/",
          "height": 319
        }
      },
      "source": [
        "lr(test)"
      ],
      "execution_count": 11,
      "outputs": [
        {
          "output_type": "execute_result",
          "data": {
            "text/plain": [
              "x-box    0\n",
              "y-box    0\n",
              "width    0\n",
              "high     0\n",
              "onpix    0\n",
              "x-bar    0\n",
              "y-bar    0\n",
              "x2bar    0\n",
              "y2bar    0\n",
              "xybar    0\n",
              "x2ybr    0\n",
              "xy2br    0\n",
              "x-ege    0\n",
              "xegvy    0\n",
              "y-ege    0\n",
              "yegvx    0\n",
              "id       0\n",
              "dtype: int64"
            ]
          },
          "metadata": {
            "tags": []
          },
          "execution_count": 11
        }
      ]
    },
    {
      "cell_type": "markdown",
      "metadata": {
        "colab_type": "text",
        "id": "W2UltEBB26dS"
      },
      "source": [
        "Both train and test data do not have any null or missing values."
      ]
    },
    {
      "cell_type": "code",
      "metadata": {
        "colab_type": "code",
        "id": "rw5aModB26dT",
        "outputId": "9d1ebd95-b28b-4982-94df-a2fcdbda85bb",
        "colab": {
          "base_uri": "https://localhost:8080/",
          "height": 50
        }
      },
      "source": [
        "#check if there are any columns which have constant valyes or std deviation almost equal to zero.\n",
        "\n",
        "cols_std=[x for x in train.columns[1:] if train[x].std()==0]\n",
        "print(\"Train data having std dev as 0 \", cols_std)\n",
        "cols_std=[x for x in test.columns if test[x].std()==0]\n",
        "print(\"Test data having std dev as 0 \",cols_std)"
      ],
      "execution_count": 12,
      "outputs": [
        {
          "output_type": "stream",
          "text": [
            "Train data having std dev as 0  []\n",
            "Test data having std dev as 0  []\n"
          ],
          "name": "stdout"
        }
      ]
    },
    {
      "cell_type": "markdown",
      "metadata": {
        "colab_type": "text",
        "id": "YRdkaJ1K26dW"
      },
      "source": [
        "All the columns (in both  train and test data) have  varaition in data and there is no column that has std deviation of zero. "
      ]
    },
    {
      "cell_type": "markdown",
      "metadata": {
        "colab_type": "text",
        "id": "9uw9dX9B26dX"
      },
      "source": [
        "<a id=section4></a>"
      ]
    },
    {
      "cell_type": "markdown",
      "metadata": {
        "colab_type": "text",
        "id": "4RYGqNQ826dY"
      },
      "source": [
        "## 4. Exploratory Data Analysis"
      ]
    },
    {
      "cell_type": "markdown",
      "metadata": {
        "id": "X65Wvm-B3ky1",
        "colab_type": "text"
      },
      "source": [
        "<a id=section4_1></a>"
      ]
    },
    {
      "cell_type": "markdown",
      "metadata": {
        "id": "phk2DkWR3ky2",
        "colab_type": "text"
      },
      "source": [
        "### 4.1 Distribution of columns grouped by letter"
      ]
    },
    {
      "cell_type": "code",
      "metadata": {
        "colab_type": "code",
        "id": "UyzHUZLp26da",
        "outputId": "1eb0f8f3-5b83-4031-b3f9-4f7bfd222f22",
        "colab": {
          "base_uri": "https://localhost:8080/",
          "height": 136
        }
      },
      "source": [
        "train.head(3)"
      ],
      "execution_count": 13,
      "outputs": [
        {
          "output_type": "execute_result",
          "data": {
            "text/html": [
              "<div>\n",
              "<style scoped>\n",
              "    .dataframe tbody tr th:only-of-type {\n",
              "        vertical-align: middle;\n",
              "    }\n",
              "\n",
              "    .dataframe tbody tr th {\n",
              "        vertical-align: top;\n",
              "    }\n",
              "\n",
              "    .dataframe thead th {\n",
              "        text-align: right;\n",
              "    }\n",
              "</style>\n",
              "<table border=\"1\" class=\"dataframe\">\n",
              "  <thead>\n",
              "    <tr style=\"text-align: right;\">\n",
              "      <th></th>\n",
              "      <th>letter</th>\n",
              "      <th>x-box</th>\n",
              "      <th>y-box</th>\n",
              "      <th>width</th>\n",
              "      <th>high</th>\n",
              "      <th>onpix</th>\n",
              "      <th>x-bar</th>\n",
              "      <th>y-bar</th>\n",
              "      <th>x2bar</th>\n",
              "      <th>y2bar</th>\n",
              "      <th>xybar</th>\n",
              "      <th>x2ybr</th>\n",
              "      <th>xy2br</th>\n",
              "      <th>x-ege</th>\n",
              "      <th>xegvy</th>\n",
              "      <th>y-ege</th>\n",
              "      <th>yegvx</th>\n",
              "      <th>id</th>\n",
              "    </tr>\n",
              "  </thead>\n",
              "  <tbody>\n",
              "    <tr>\n",
              "      <th>0</th>\n",
              "      <td>I</td>\n",
              "      <td>5</td>\n",
              "      <td>12</td>\n",
              "      <td>3</td>\n",
              "      <td>7</td>\n",
              "      <td>2</td>\n",
              "      <td>10</td>\n",
              "      <td>5</td>\n",
              "      <td>5</td>\n",
              "      <td>4</td>\n",
              "      <td>13</td>\n",
              "      <td>3</td>\n",
              "      <td>9</td>\n",
              "      <td>2</td>\n",
              "      <td>8</td>\n",
              "      <td>4</td>\n",
              "      <td>10</td>\n",
              "      <td>1</td>\n",
              "    </tr>\n",
              "    <tr>\n",
              "      <th>1</th>\n",
              "      <td>D</td>\n",
              "      <td>4</td>\n",
              "      <td>11</td>\n",
              "      <td>6</td>\n",
              "      <td>8</td>\n",
              "      <td>6</td>\n",
              "      <td>10</td>\n",
              "      <td>6</td>\n",
              "      <td>2</td>\n",
              "      <td>6</td>\n",
              "      <td>10</td>\n",
              "      <td>3</td>\n",
              "      <td>7</td>\n",
              "      <td>3</td>\n",
              "      <td>7</td>\n",
              "      <td>3</td>\n",
              "      <td>9</td>\n",
              "      <td>2</td>\n",
              "    </tr>\n",
              "    <tr>\n",
              "      <th>2</th>\n",
              "      <td>N</td>\n",
              "      <td>7</td>\n",
              "      <td>11</td>\n",
              "      <td>6</td>\n",
              "      <td>6</td>\n",
              "      <td>3</td>\n",
              "      <td>5</td>\n",
              "      <td>9</td>\n",
              "      <td>4</td>\n",
              "      <td>6</td>\n",
              "      <td>4</td>\n",
              "      <td>4</td>\n",
              "      <td>10</td>\n",
              "      <td>6</td>\n",
              "      <td>10</td>\n",
              "      <td>2</td>\n",
              "      <td>8</td>\n",
              "      <td>3</td>\n",
              "    </tr>\n",
              "  </tbody>\n",
              "</table>\n",
              "</div>"
            ],
            "text/plain": [
              "  letter  x-box  y-box  width  high  onpix  x-bar  y-bar  x2bar  y2bar  xybar  \\\n",
              "0      I      5     12      3     7      2     10      5      5      4     13   \n",
              "1      D      4     11      6     8      6     10      6      2      6     10   \n",
              "2      N      7     11      6     6      3      5      9      4      6      4   \n",
              "\n",
              "   x2ybr  xy2br  x-ege  xegvy  y-ege  yegvx  id  \n",
              "0      3      9      2      8      4     10   1  \n",
              "1      3      7      3      7      3      9   2  \n",
              "2      4     10      6     10      2      8   3  "
            ]
          },
          "metadata": {
            "tags": []
          },
          "execution_count": 13
        }
      ]
    },
    {
      "cell_type": "markdown",
      "metadata": {
        "colab_type": "text",
        "id": "60XfsGBR26de"
      },
      "source": [
        "Let us plot the mean value of each feature for all the letters."
      ]
    },
    {
      "cell_type": "code",
      "metadata": {
        "colab_type": "code",
        "id": "r9HH4scO26df",
        "outputId": "f5e98001-1f83-46c0-9a9f-0b2e11306ba6",
        "colab": {
          "base_uri": "https://localhost:8080/",
          "height": 4296
        }
      },
      "source": [
        "cols= ['x-box', 'y-box', 'width', 'high', 'onpix', 'x-bar', 'y-bar', 'x2bar', 'y2bar', 'xybar', 'x2ybr', 'xy2br', 'x-ege', 'xegvy', 'y-ege', 'yegvx']\n",
        "print(len(cols))\n",
        "#print((cols[0]))\n",
        "#train.groupby('letter')[a].mean().plot.bar()\n",
        "for i in range(len(cols)):\n",
        "    #print(cols[i])\n",
        "    #ax1=plt.subplot(2, 2, 1)\n",
        "    #plt.subplot(ax1)\n",
        "    train.groupby('letter')[cols[i]].mean().plot.bar()\n",
        "    plt.ylabel(cols[i])\n",
        "    plt.show()\n",
        "    \n"
      ],
      "execution_count": 14,
      "outputs": [
        {
          "output_type": "stream",
          "text": [
            "16\n"
          ],
          "name": "stdout"
        },
        {
          "output_type": "display_data",
          "data": {
            "image/png": "[encoded data removed]",
            "text/plain": [
              "<Figure size 432x288 with 1 Axes>"
            ]
          },
          "metadata": {
            "tags": []
          }
        },
        {
          "output_type": "display_data",
          "data": {
            "image/png": "[encoded data removed]",
            "text/plain": [
              "<Figure size 432x288 with 1 Axes>"
            ]
          },
          "metadata": {
            "tags": []
          }
        },
        {
          "output_type": "display_data",
          "data": {
            "image/png": "[encoded data removed]",
            "text/plain": [
              "<Figure size 432x288 with 1 Axes>"
            ]
          },
          "metadata": {
            "tags": []
          }
        },
        {
          "output_type": "display_data",
          "data": {
            "image/png": "[encoded data removed]",
            "text/plain": [
              "<Figure size 432x288 with 1 Axes>"
            ]
          },
          "metadata": {
            "tags": []
          }
        },
        {
          "output_type": "display_data",
          "data": {
            "image/png": "[encoded data removed]",
            "text/plain": [
              "<Figure size 432x288 with 1 Axes>"
            ]
          },
          "metadata": {
            "tags": []
          }
        },
        {
          "output_type": "display_data",
          "data": {
            "image/png": "[encoded data removed]",
            "text/plain": [
              "<Figure size 432x288 with 1 Axes>"
            ]
          },
          "metadata": {
            "tags": []
          }
        },
        {
          "output_type": "display_data",
          "data": {
            "image/png": "[encoded data removed]",
            "text/plain": [
              "<Figure size 432x288 with 1 Axes>"
            ]
          },
          "metadata": {
            "tags": []
          }
        },
        {
          "output_type": "display_data",
          "data": {
            "image/png": "[encoded data removed]",
            "text/plain": [
              "<Figure size 432x288 with 1 Axes>"
            ]
          },
          "metadata": {
            "tags": []
          }
        },
        {
          "output_type": "display_data",
          "data": {
            "image/png": "[encoded data removed]",
            "text/plain": [
              "<Figure size 432x288 with 1 Axes>"
            ]
          },
          "metadata": {
            "tags": []
          }
        },
        {
          "output_type": "display_data",
          "data": {
            "image/png": "[encoded data removed]",
            "text/plain": [
              "<Figure size 432x288 with 1 Axes>"
            ]
          },
          "metadata": {
            "tags": []
          }
        },
        {
          "output_type": "display_data",
          "data": {
            "image/png": "[encoded data removed]",
            "text/plain": [
              "<Figure size 432x288 with 1 Axes>"
            ]
          },
          "metadata": {
            "tags": []
          }
        },
        {
          "output_type": "display_data",
          "data": {
            "image/png": "[encoded data removed]",
            "text/plain": [
              "<Figure size 432x288 with 1 Axes>"
            ]
          },
          "metadata": {
            "tags": []
          }
        },
        {
          "output_type": "display_data",
          "data": {
            "image/png": "[encoded data removed]",
            "text/plain": [
              "<Figure size 432x288 with 1 Axes>"
            ]
          },
          "metadata": {
            "tags": []
          }
        },
        {
          "output_type": "display_data",
          "data": {
            "image/png": "[encoded data removed]",
            "text/plain": [
              "<Figure size 432x288 with 1 Axes>"
            ]
          },
          "metadata": {
            "tags": []
          }
        },
        {
          "output_type": "display_data",
          "data": {
            "image/png": "[encoded data removed]",
            "text/plain": [
              "<Figure size 432x288 with 1 Axes>"
            ]
          },
          "metadata": {
            "tags": []
          }
        },
        {
          "output_type": "display_data",
          "data": {
            "image/png": "[encoded data removed]",
            "text/plain": [
              "<Figure size 432x288 with 1 Axes>"
            ]
          },
          "metadata": {
            "tags": []
          }
        }
      ]
    },
    {
      "cell_type": "markdown",
      "metadata": {
        "colab_type": "text",
        "id": "nu7X13w226di"
      },
      "source": [
        "__Observation:__\n",
        "1. x-box values is highest for W and then for M for obvious reasons of them being wider letters. This value is lowest for I.\n",
        "2. Width and x- box are quite similar in patterns for all the letters.\n",
        "3. high value is the highest for Q as this letter extends a little below the line when compared to all other letters.\n",
        "4. Across all fonts letter M has the maximum no of pixels.\n",
        "5. Highest mean x of on pixels in box (x-bar) is letter J and A. \n",
        "6. The correlation between x and y is highest for letter J.\n",
        "\n"
      ]
    },
    {
      "cell_type": "code",
      "metadata": {
        "colab_type": "code",
        "id": "vJVnx5up26di",
        "colab": {}
      },
      "source": [
        ""
      ],
      "execution_count": 0,
      "outputs": []
    },
    {
      "cell_type": "code",
      "metadata": {
        "colab_type": "code",
        "id": "Vm1gGkCE26dk",
        "colab": {}
      },
      "source": [
        "new_data=train.groupby('letter',as_index = False).mean()"
      ],
      "execution_count": 0,
      "outputs": []
    },
    {
      "cell_type": "code",
      "metadata": {
        "colab_type": "code",
        "id": "R51sV77D26dn",
        "colab": {}
      },
      "source": [
        ""
      ],
      "execution_count": 0,
      "outputs": []
    },
    {
      "cell_type": "code",
      "metadata": {
        "colab_type": "code",
        "id": "FJflMjcA26dp",
        "outputId": "1d2f6ff5-9cf1-4afc-d222-c1602570c182",
        "scrolled": true,
        "colab": {
          "base_uri": "https://localhost:8080/",
          "height": 432
        }
      },
      "source": [
        "new_data.head(13)"
      ],
      "execution_count": 16,
      "outputs": [
        {
          "output_type": "execute_result",
          "data": {
            "text/html": [
              "<div>\n",
              "<style scoped>\n",
              "    .dataframe tbody tr th:only-of-type {\n",
              "        vertical-align: middle;\n",
              "    }\n",
              "\n",
              "    .dataframe tbody tr th {\n",
              "        vertical-align: top;\n",
              "    }\n",
              "\n",
              "    .dataframe thead th {\n",
              "        text-align: right;\n",
              "    }\n",
              "</style>\n",
              "<table border=\"1\" class=\"dataframe\">\n",
              "  <thead>\n",
              "    <tr style=\"text-align: right;\">\n",
              "      <th></th>\n",
              "      <th>letter</th>\n",
              "      <th>x-box</th>\n",
              "      <th>y-box</th>\n",
              "      <th>width</th>\n",
              "      <th>high</th>\n",
              "      <th>onpix</th>\n",
              "      <th>x-bar</th>\n",
              "      <th>y-bar</th>\n",
              "      <th>x2bar</th>\n",
              "      <th>y2bar</th>\n",
              "      <th>xybar</th>\n",
              "      <th>x2ybr</th>\n",
              "      <th>xy2br</th>\n",
              "      <th>x-ege</th>\n",
              "      <th>xegvy</th>\n",
              "      <th>y-ege</th>\n",
              "      <th>yegvx</th>\n",
              "      <th>id</th>\n",
              "    </tr>\n",
              "  </thead>\n",
              "  <tbody>\n",
              "    <tr>\n",
              "      <th>0</th>\n",
              "      <td>A</td>\n",
              "      <td>3.320695</td>\n",
              "      <td>6.917852</td>\n",
              "      <td>5.110585</td>\n",
              "      <td>5.146919</td>\n",
              "      <td>2.963665</td>\n",
              "      <td>8.832543</td>\n",
              "      <td>3.612954</td>\n",
              "      <td>2.715640</td>\n",
              "      <td>2.026856</td>\n",
              "      <td>7.793049</td>\n",
              "      <td>2.336493</td>\n",
              "      <td>8.477093</td>\n",
              "      <td>2.763033</td>\n",
              "      <td>6.298578</td>\n",
              "      <td>2.856240</td>\n",
              "      <td>7.472354</td>\n",
              "      <td>8101.571880</td>\n",
              "    </tr>\n",
              "    <tr>\n",
              "      <th>1</th>\n",
              "      <td>B</td>\n",
              "      <td>4.003175</td>\n",
              "      <td>7.017460</td>\n",
              "      <td>5.115873</td>\n",
              "      <td>5.200000</td>\n",
              "      <td>4.633333</td>\n",
              "      <td>7.680952</td>\n",
              "      <td>7.052381</td>\n",
              "      <td>5.388889</td>\n",
              "      <td>5.569841</td>\n",
              "      <td>7.931746</td>\n",
              "      <td>5.514286</td>\n",
              "      <td>6.668254</td>\n",
              "      <td>3.152381</td>\n",
              "      <td>7.934921</td>\n",
              "      <td>6.668254</td>\n",
              "      <td>9.104762</td>\n",
              "      <td>7951.820635</td>\n",
              "    </tr>\n",
              "    <tr>\n",
              "      <th>2</th>\n",
              "      <td>C</td>\n",
              "      <td>4.047138</td>\n",
              "      <td>7.074074</td>\n",
              "      <td>4.671717</td>\n",
              "      <td>5.277778</td>\n",
              "      <td>2.740741</td>\n",
              "      <td>5.422559</td>\n",
              "      <td>7.676768</td>\n",
              "      <td>5.919192</td>\n",
              "      <td>7.161616</td>\n",
              "      <td>8.907407</td>\n",
              "      <td>7.562290</td>\n",
              "      <td>11.867003</td>\n",
              "      <td>1.944444</td>\n",
              "      <td>8.900673</td>\n",
              "      <td>4.062290</td>\n",
              "      <td>8.523569</td>\n",
              "      <td>7649.627946</td>\n",
              "    </tr>\n",
              "    <tr>\n",
              "      <th>3</th>\n",
              "      <td>D</td>\n",
              "      <td>4.098746</td>\n",
              "      <td>7.429467</td>\n",
              "      <td>5.239812</td>\n",
              "      <td>5.380878</td>\n",
              "      <td>4.095611</td>\n",
              "      <td>7.537618</td>\n",
              "      <td>6.786834</td>\n",
              "      <td>5.921630</td>\n",
              "      <td>6.514107</td>\n",
              "      <td>8.147335</td>\n",
              "      <td>5.070533</td>\n",
              "      <td>5.757053</td>\n",
              "      <td>3.402821</td>\n",
              "      <td>7.810345</td>\n",
              "      <td>3.992163</td>\n",
              "      <td>7.639498</td>\n",
              "      <td>7988.863636</td>\n",
              "    </tr>\n",
              "    <tr>\n",
              "      <th>4</th>\n",
              "      <td>E</td>\n",
              "      <td>3.743506</td>\n",
              "      <td>6.943182</td>\n",
              "      <td>4.759740</td>\n",
              "      <td>5.176948</td>\n",
              "      <td>3.659091</td>\n",
              "      <td>5.983766</td>\n",
              "      <td>7.344156</td>\n",
              "      <td>4.233766</td>\n",
              "      <td>7.589286</td>\n",
              "      <td>8.545455</td>\n",
              "      <td>6.256494</td>\n",
              "      <td>10.326299</td>\n",
              "      <td>2.115260</td>\n",
              "      <td>8.300325</td>\n",
              "      <td>6.022727</td>\n",
              "      <td>8.461039</td>\n",
              "      <td>7947.894481</td>\n",
              "    </tr>\n",
              "    <tr>\n",
              "      <th>5</th>\n",
              "      <td>F</td>\n",
              "      <td>3.874598</td>\n",
              "      <td>7.123794</td>\n",
              "      <td>4.905145</td>\n",
              "      <td>5.271704</td>\n",
              "      <td>3.202572</td>\n",
              "      <td>4.901929</td>\n",
              "      <td>10.461415</td>\n",
              "      <td>3.508039</td>\n",
              "      <td>4.893891</td>\n",
              "      <td>11.218650</td>\n",
              "      <td>7.839228</td>\n",
              "      <td>5.736334</td>\n",
              "      <td>1.726688</td>\n",
              "      <td>9.114148</td>\n",
              "      <td>3.390675</td>\n",
              "      <td>6.697749</td>\n",
              "      <td>8282.057878</td>\n",
              "    </tr>\n",
              "    <tr>\n",
              "      <th>6</th>\n",
              "      <td>G</td>\n",
              "      <td>4.067323</td>\n",
              "      <td>6.981938</td>\n",
              "      <td>4.968801</td>\n",
              "      <td>5.241379</td>\n",
              "      <td>3.541872</td>\n",
              "      <td>6.857143</td>\n",
              "      <td>6.561576</td>\n",
              "      <td>5.934319</td>\n",
              "      <td>5.318555</td>\n",
              "      <td>7.435140</td>\n",
              "      <td>6.146141</td>\n",
              "      <td>9.556650</td>\n",
              "      <td>2.840722</td>\n",
              "      <td>8.399015</td>\n",
              "      <td>5.162562</td>\n",
              "      <td>9.200328</td>\n",
              "      <td>8085.385878</td>\n",
              "    </tr>\n",
              "    <tr>\n",
              "      <th>7</th>\n",
              "      <td>H</td>\n",
              "      <td>4.277873</td>\n",
              "      <td>6.814751</td>\n",
              "      <td>5.713551</td>\n",
              "      <td>5.173242</td>\n",
              "      <td>4.219554</td>\n",
              "      <td>7.334477</td>\n",
              "      <td>7.317324</td>\n",
              "      <td>6.792453</td>\n",
              "      <td>4.212693</td>\n",
              "      <td>8.013722</td>\n",
              "      <td>5.914237</td>\n",
              "      <td>7.797599</td>\n",
              "      <td>3.826758</td>\n",
              "      <td>8.049743</td>\n",
              "      <td>3.078902</td>\n",
              "      <td>7.866209</td>\n",
              "      <td>7402.799314</td>\n",
              "    </tr>\n",
              "    <tr>\n",
              "      <th>8</th>\n",
              "      <td>I</td>\n",
              "      <td>2.300000</td>\n",
              "      <td>7.040678</td>\n",
              "      <td>2.671186</td>\n",
              "      <td>5.267797</td>\n",
              "      <td>1.862712</td>\n",
              "      <td>7.467797</td>\n",
              "      <td>7.037288</td>\n",
              "      <td>1.918644</td>\n",
              "      <td>5.964407</td>\n",
              "      <td>9.506780</td>\n",
              "      <td>5.805085</td>\n",
              "      <td>7.618644</td>\n",
              "      <td>0.550847</td>\n",
              "      <td>8.076271</td>\n",
              "      <td>2.155932</td>\n",
              "      <td>7.928814</td>\n",
              "      <td>7962.813559</td>\n",
              "    </tr>\n",
              "    <tr>\n",
              "      <th>9</th>\n",
              "      <td>J</td>\n",
              "      <td>2.963272</td>\n",
              "      <td>6.772955</td>\n",
              "      <td>3.968280</td>\n",
              "      <td>5.637730</td>\n",
              "      <td>2.307179</td>\n",
              "      <td>9.664441</td>\n",
              "      <td>5.692821</td>\n",
              "      <td>3.911519</td>\n",
              "      <td>5.078464</td>\n",
              "      <td>12.151920</td>\n",
              "      <td>4.637730</td>\n",
              "      <td>8.911519</td>\n",
              "      <td>1.110184</td>\n",
              "      <td>6.938230</td>\n",
              "      <td>1.951586</td>\n",
              "      <td>7.430718</td>\n",
              "      <td>7635.090150</td>\n",
              "    </tr>\n",
              "    <tr>\n",
              "      <th>10</th>\n",
              "      <td>K</td>\n",
              "      <td>4.502530</td>\n",
              "      <td>7.237774</td>\n",
              "      <td>5.946037</td>\n",
              "      <td>5.305228</td>\n",
              "      <td>3.940978</td>\n",
              "      <td>5.573356</td>\n",
              "      <td>7.091062</td>\n",
              "      <td>3.789207</td>\n",
              "      <td>5.359191</td>\n",
              "      <td>8.247892</td>\n",
              "      <td>6.274874</td>\n",
              "      <td>9.871838</td>\n",
              "      <td>4.015177</td>\n",
              "      <td>7.723440</td>\n",
              "      <td>4.035413</td>\n",
              "      <td>8.730185</td>\n",
              "      <td>8069.077572</td>\n",
              "    </tr>\n",
              "    <tr>\n",
              "      <th>11</th>\n",
              "      <td>L</td>\n",
              "      <td>3.400662</td>\n",
              "      <td>7.205298</td>\n",
              "      <td>4.329470</td>\n",
              "      <td>5.299669</td>\n",
              "      <td>2.614238</td>\n",
              "      <td>4.753311</td>\n",
              "      <td>3.569536</td>\n",
              "      <td>3.435430</td>\n",
              "      <td>6.667219</td>\n",
              "      <td>4.976821</td>\n",
              "      <td>2.528146</td>\n",
              "      <td>8.206954</td>\n",
              "      <td>1.074503</td>\n",
              "      <td>7.400662</td>\n",
              "      <td>2.442053</td>\n",
              "      <td>7.650662</td>\n",
              "      <td>8153.831126</td>\n",
              "    </tr>\n",
              "    <tr>\n",
              "      <th>12</th>\n",
              "      <td>M</td>\n",
              "      <td>4.851852</td>\n",
              "      <td>6.918210</td>\n",
              "      <td>6.597222</td>\n",
              "      <td>5.271605</td>\n",
              "      <td>5.234568</td>\n",
              "      <td>7.658951</td>\n",
              "      <td>6.385802</td>\n",
              "      <td>6.074074</td>\n",
              "      <td>3.259259</td>\n",
              "      <td>7.498457</td>\n",
              "      <td>6.797840</td>\n",
              "      <td>8.162037</td>\n",
              "      <td>8.135802</td>\n",
              "      <td>6.106481</td>\n",
              "      <td>2.070988</td>\n",
              "      <td>7.532407</td>\n",
              "      <td>7867.859568</td>\n",
              "    </tr>\n",
              "  </tbody>\n",
              "</table>\n",
              "</div>"
            ],
            "text/plain": [
              "   letter     x-box     y-box     width      high     onpix     x-bar  \\\n",
              "0       A  3.320695  6.917852  5.110585  5.146919  2.963665  8.832543   \n",
              "1       B  4.003175  7.017460  5.115873  5.200000  4.633333  7.680952   \n",
              "2       C  4.047138  7.074074  4.671717  5.277778  2.740741  5.422559   \n",
              "3       D  4.098746  7.429467  5.239812  5.380878  4.095611  7.537618   \n",
              "4       E  3.743506  6.943182  4.759740  5.176948  3.659091  5.983766   \n",
              "5       F  3.874598  7.123794  4.905145  5.271704  3.202572  4.901929   \n",
              "6       G  4.067323  6.981938  4.968801  5.241379  3.541872  6.857143   \n",
              "7       H  4.277873  6.814751  5.713551  5.173242  4.219554  7.334477   \n",
              "8       I  2.300000  7.040678  2.671186  5.267797  1.862712  7.467797   \n",
              "9       J  2.963272  6.772955  3.968280  5.637730  2.307179  9.664441   \n",
              "10      K  4.502530  7.237774  5.946037  5.305228  3.940978  5.573356   \n",
              "11      L  3.400662  7.205298  4.329470  5.299669  2.614238  4.753311   \n",
              "12      M  4.851852  6.918210  6.597222  5.271605  5.234568  7.658951   \n",
              "\n",
              "        y-bar     x2bar     y2bar      xybar     x2ybr      xy2br     x-ege  \\\n",
              "0    3.612954  2.715640  2.026856   7.793049  2.336493   8.477093  2.763033   \n",
              "1    7.052381  5.388889  5.569841   7.931746  5.514286   6.668254  3.152381   \n",
              "2    7.676768  5.919192  7.161616   8.907407  7.562290  11.867003  1.944444   \n",
              "3    6.786834  5.921630  6.514107   8.147335  5.070533   5.757053  3.402821   \n",
              "4    7.344156  4.233766  7.589286   8.545455  6.256494  10.326299  2.115260   \n",
              "5   10.461415  3.508039  4.893891  11.218650  7.839228   5.736334  1.726688   \n",
              "6    6.561576  5.934319  5.318555   7.435140  6.146141   9.556650  2.840722   \n",
              "7    7.317324  6.792453  4.212693   8.013722  5.914237   7.797599  3.826758   \n",
              "8    7.037288  1.918644  5.964407   9.506780  5.805085   7.618644  0.550847   \n",
              "9    5.692821  3.911519  5.078464  12.151920  4.637730   8.911519  1.110184   \n",
              "10   7.091062  3.789207  5.359191   8.247892  6.274874   9.871838  4.015177   \n",
              "11   3.569536  3.435430  6.667219   4.976821  2.528146   8.206954  1.074503   \n",
              "12   6.385802  6.074074  3.259259   7.498457  6.797840   8.162037  8.135802   \n",
              "\n",
              "       xegvy     y-ege     yegvx           id  \n",
              "0   6.298578  2.856240  7.472354  8101.571880  \n",
              "1   7.934921  6.668254  9.104762  7951.820635  \n",
              "2   8.900673  4.062290  8.523569  7649.627946  \n",
              "3   7.810345  3.992163  7.639498  7988.863636  \n",
              "4   8.300325  6.022727  8.461039  7947.894481  \n",
              "5   9.114148  3.390675  6.697749  8282.057878  \n",
              "6   8.399015  5.162562  9.200328  8085.385878  \n",
              "7   8.049743  3.078902  7.866209  7402.799314  \n",
              "8   8.076271  2.155932  7.928814  7962.813559  \n",
              "9   6.938230  1.951586  7.430718  7635.090150  \n",
              "10  7.723440  4.035413  8.730185  8069.077572  \n",
              "11  7.400662  2.442053  7.650662  8153.831126  \n",
              "12  6.106481  2.070988  7.532407  7867.859568  "
            ]
          },
          "metadata": {
            "tags": []
          },
          "execution_count": 16
        }
      ]
    },
    {
      "cell_type": "markdown",
      "metadata": {
        "id": "-lo3BEjd3kzG",
        "colab_type": "text"
      },
      "source": [
        "<a id=section4_2></a>"
      ]
    },
    {
      "cell_type": "markdown",
      "metadata": {
        "id": "PbgAxSwk3kzH",
        "colab_type": "text"
      },
      "source": [
        "### 4.2 Finding Correlations"
      ]
    },
    {
      "cell_type": "code",
      "metadata": {
        "colab_type": "code",
        "id": "eNPbJAwX26dr",
        "outputId": "d1e26554-7d94-4237-c103-b0e75363c492",
        "colab": {
          "base_uri": "https://localhost:8080/",
          "height": 506
        }
      },
      "source": [
        "size=16\n",
        "df=new_data\n",
        "df1=df.iloc[:,1:size]\n",
        "corr = df1.corr()\n",
        "plt.figure(figsize=(8,8))\n",
        "sns.heatmap(corr) # V\n",
        "plt.show()\n",
        "#print(corr)"
      ],
      "execution_count": 17,
      "outputs": [
        {
          "output_type": "display_data",
          "data": {
            "image/png": "[encoded data removed]",
            "text/plain": [
              "<Figure size 576x576 with 2 Axes>"
            ]
          },
          "metadata": {
            "tags": []
          }
        }
      ]
    },
    {
      "cell_type": "code",
      "metadata": {
        "colab_type": "code",
        "id": "_SnZ7hvr26dt",
        "outputId": "7048d0ea-00a1-427f-ac12-0babc94b8a19",
        "colab": {
          "base_uri": "https://localhost:8080/",
          "height": 101
        }
      },
      "source": [
        "\n",
        "# Set the threshold to select only highly correlated features\n",
        "threshold = 0.5\n",
        "\n",
        "# List of pairs for correlation above threshold\n",
        "corr_list = []\n",
        "#Search for the highly correlated pairs\n",
        "for i in range(0,10): #for 'size' features\n",
        "    for j in range(i+1,10): #avoid repetition\n",
        "        if (abs(corr.iloc[i,j]) >= threshold and abs(corr.iloc[i,j]) < 1):\n",
        "            corr_list.append([(corr.iloc[i,j]),i,j])\n",
        "print(corr_list)\n",
        "\n",
        "sorted_corr_list = sorted(corr_list,reverse=True)\n",
        "for i,j,k in sorted_corr_list:\n",
        "    print (\"%s and %s = %.2f\" % (df1.columns[j],df1.columns[k],i))\n"
      ],
      "execution_count": 18,
      "outputs": [
        {
          "output_type": "stream",
          "text": [
            "[[0.9217073273618437, 0, 2], [0.7458609796598835, 0, 4], [-0.6340722299790882, 1, 3], [0.7761606826808276, 2, 4]]\n",
            "x-box and width = 0.92\n",
            "width and onpix = 0.78\n",
            "x-box and onpix = 0.75\n",
            "y-box and high = -0.63\n"
          ],
          "name": "stdout"
        }
      ]
    },
    {
      "cell_type": "markdown",
      "metadata": {
        "colab_type": "text",
        "id": "mCFj6LUV26dw"
      },
      "source": [
        "__Observations:__\n",
        "x-box and width, y-box and high are highly correlated.\n",
        "We can remove width and high features and try to run our models.\n"
      ]
    },
    {
      "cell_type": "markdown",
      "metadata": {
        "id": "y_Mourt03kzN",
        "colab_type": "text"
      },
      "source": [
        "<a id=section4_3></a>"
      ]
    },
    {
      "cell_type": "markdown",
      "metadata": {
        "id": "qH7Snman3kzO",
        "colab_type": "text"
      },
      "source": [
        "### 4.3 Pairwise relationship between highly correlated values"
      ]
    },
    {
      "cell_type": "code",
      "metadata": {
        "colab_type": "code",
        "id": "EN1b-ZG026dw",
        "outputId": "ca963d61-3728-4abe-a01e-e768240f1093",
        "colab": {
          "base_uri": "https://localhost:8080/",
          "height": 1713
        }
      },
      "source": [
        "for i,j,k in sorted_corr_list:\n",
        "    sns.pairplot(train,  size=6, hue=\"letter\",x_vars=df1.columns[j],y_vars=df1.columns[k] )\n",
        "    plt.show()\n",
        "#"
      ],
      "execution_count": 19,
      "outputs": [
        {
          "output_type": "display_data",
          "data": {
            "image/png": "[encoded data removed]",
            "text/plain": [
              "<Figure size 477.875x432 with 1 Axes>"
            ]
          },
          "metadata": {
            "tags": []
          }
        },
        {
          "output_type": "display_data",
          "data": {
            "image/png": "[encoded data removed]",
            "text/plain": [
              "<Figure size 477.875x432 with 1 Axes>"
            ]
          },
          "metadata": {
            "tags": []
          }
        },
        {
          "output_type": "display_data",
          "data": {
            "image/png": "[encoded data removed]",
            "text/plain": [
              "<Figure size 477.875x432 with 1 Axes>"
            ]
          },
          "metadata": {
            "tags": []
          }
        },
        {
          "output_type": "display_data",
          "data": {
            "image/png": "[encoded data removed]",
            "text/plain": [
              "<Figure size 477.875x432 with 1 Axes>"
            ]
          },
          "metadata": {
            "tags": []
          }
        }
      ]
    },
    {
      "cell_type": "markdown",
      "metadata": {
        "colab_type": "text",
        "id": "KytAF_Ek26dz"
      },
      "source": [
        "<a id=section4_1></a>"
      ]
    },
    {
      "cell_type": "markdown",
      "metadata": {
        "colab_type": "text",
        "id": "lrGwVOAN26dz"
      },
      "source": [
        "<a id=section5></a>"
      ]
    },
    {
      "cell_type": "markdown",
      "metadata": {
        "colab_type": "text",
        "id": "7JShLsA226d1"
      },
      "source": [
        "## 5. Data preparation"
      ]
    },
    {
      "cell_type": "markdown",
      "metadata": {
        "colab_type": "text",
        "id": "BTKGTij426d1"
      },
      "source": [
        "Drop the 'id','width','high'  columns in both train and test data."
      ]
    },
    {
      "cell_type": "code",
      "metadata": {
        "colab_type": "code",
        "id": "nqDXlqgj26d2",
        "colab": {}
      },
      "source": [
        "\n",
        "train=train.drop(['id','width','high'],axis=1)\n",
        "test=test.drop(['id','width','high'],axis=1)"
      ],
      "execution_count": 0,
      "outputs": []
    },
    {
      "cell_type": "code",
      "metadata": {
        "colab_type": "code",
        "id": "NIexjkDVnHqU",
        "colab": {}
      },
      "source": [
        ""
      ],
      "execution_count": 0,
      "outputs": []
    },
    {
      "cell_type": "code",
      "metadata": {
        "colab_type": "code",
        "id": "EUGGyAUE26d3",
        "outputId": "1afd6245-a0a3-4377-81fa-07a683a1e80f",
        "colab": {
          "base_uri": "https://localhost:8080/",
          "height": 54
        }
      },
      "source": [
        "\"\"\"skf = StratifiedKFold(n_splits=50, shuffle=True, random_state=46)\n",
        "total_score = 0   \n",
        "for n_fold, (train_idx, valid_idx) in enumerate(skf.split(xtrain_new_sc.values, y.values)):\n",
        "    print(n_fold)\n",
        "    #model = RandomForestClassifier(n_estimators = 500, n_jobs = -1)\n",
        "    model=   RandomForestClassifier(random_state = 0,\n",
        "                                    criterion = 'entropy',\n",
        "                                    max_depth = 30,\n",
        "                                    n_estimators = 500,\n",
        "                                    min_samples_split = 2,\n",
        "                                    min_samples_leaf = 1,\n",
        "                                    n_jobs = -1)\n",
        "    model.fit(xtrain_new_sc.iloc[train_idx],y[train_idx])\n",
        "    measured[valid_idx] = model.predict(xtrain_new_sc.iloc[valid_idx])\n",
        "    predict += model.predict_proba(xtest_new_sc)/ 50\n",
        "    total_score += model.score(xtrain_new_sc.iloc[valid_idx],y[valid_idx])\n",
        "    print(\"Fold: {} score: {}\".format(n_fold,model.score(xtrain_new_sc.iloc[valid_idx],y[valid_idx])))\n",
        "print('Avg Accuracy', total_score / 50)\n",
        "\"\"\""
      ],
      "execution_count": 21,
      "outputs": [
        {
          "output_type": "execute_result",
          "data": {
            "text/plain": [
              "'skf = StratifiedKFold(n_splits=50, shuffle=True, random_state=46)\\ntotal_score = 0   \\nfor n_fold, (train_idx, valid_idx) in enumerate(skf.split(xtrain_new_sc.values, y.values)):\\n    print(n_fold)\\n    #model = RandomForestClassifier(n_estimators = 500, n_jobs = -1)\\n    model=   RandomForestClassifier(random_state = 0,\\n                                    criterion = \\'entropy\\',\\n                                    max_depth = 30,\\n                                    n_estimators = 500,\\n                                    min_samples_split = 2,\\n                                    min_samples_leaf = 1,\\n                                    n_jobs = -1)\\n    model.fit(xtrain_new_sc.iloc[train_idx],y[train_idx])\\n    measured[valid_idx] = model.predict(xtrain_new_sc.iloc[valid_idx])\\n    predict += model.predict_proba(xtest_new_sc)/ 50\\n    total_score += model.score(xtrain_new_sc.iloc[valid_idx],y[valid_idx])\\n    print(\"Fold: {} score: {}\".format(n_fold,model.score(xtrain_new_sc.iloc[valid_idx],y[valid_idx])))\\nprint(\\'Avg Accuracy\\', total_score / 50)\\n'"
            ]
          },
          "metadata": {
            "tags": []
          },
          "execution_count": 21
        }
      ]
    },
    {
      "cell_type": "markdown",
      "metadata": {
        "id": "hEN47qRy3kzc",
        "colab_type": "text"
      },
      "source": [
        "<a id=section6></a>"
      ]
    },
    {
      "cell_type": "markdown",
      "metadata": {
        "colab_type": "text",
        "id": "s7j1GOJ-26d6"
      },
      "source": [
        "## 6. Model Creation and Evaluation"
      ]
    },
    {
      "cell_type": "markdown",
      "metadata": {
        "colab_type": "text",
        "id": "sil3EKxv26d6"
      },
      "source": [
        "<a id=section6_1></a>"
      ]
    },
    {
      "cell_type": "markdown",
      "metadata": {
        "colab_type": "text",
        "id": "YO1nUTuD26d6"
      },
      "source": [
        "### 6.1 Preparing train and test data "
      ]
    },
    {
      "cell_type": "code",
      "metadata": {
        "colab_type": "code",
        "id": "gkTgsM9z26d7",
        "colab": {}
      },
      "source": [
        "#Define the independent variables i.e X.\n",
        "X = train.loc[:,train.columns != 'letter']"
      ],
      "execution_count": 0,
      "outputs": []
    },
    {
      "cell_type": "code",
      "metadata": {
        "colab_type": "code",
        "id": "SZoAvVVa26d9",
        "outputId": "d37d0d74-43e3-4066-b6eb-6043d7907926",
        "colab": {
          "base_uri": "https://localhost:8080/",
          "height": 34
        }
      },
      "source": [
        "X.shape"
      ],
      "execution_count": 23,
      "outputs": [
        {
          "output_type": "execute_result",
          "data": {
            "text/plain": [
              "(16000, 14)"
            ]
          },
          "metadata": {
            "tags": []
          },
          "execution_count": 23
        }
      ]
    },
    {
      "cell_type": "code",
      "metadata": {
        "colab_type": "code",
        "id": "k5bUzd0Y26eA",
        "colab": {}
      },
      "source": [
        "#define the dependent variable y\n",
        "y = train.loc[:,train.columns == 'letter']"
      ],
      "execution_count": 0,
      "outputs": []
    },
    {
      "cell_type": "code",
      "metadata": {
        "colab_type": "code",
        "id": "Spr6634Z26eB",
        "outputId": "b71df85d-6c3a-460e-ff25-0de7a49f713b",
        "colab": {
          "base_uri": "https://localhost:8080/",
          "height": 34
        }
      },
      "source": [
        "y.shape"
      ],
      "execution_count": 25,
      "outputs": [
        {
          "output_type": "execute_result",
          "data": {
            "text/plain": [
              "(16000, 1)"
            ]
          },
          "metadata": {
            "tags": []
          },
          "execution_count": 25
        }
      ]
    },
    {
      "cell_type": "code",
      "metadata": {
        "colab_type": "code",
        "id": "PXARTDxX26eE",
        "colab": {}
      },
      "source": [
        "#train test data splitting\n",
        "from sklearn.model_selection import train_test_split\n",
        "def split_data(X,y):\n",
        "    return train_test_split(X, y, test_size=0.30, random_state=1)# train test split using train test split of 70:30 and random state=1\n",
        "X_train, X_test, y_train, y_test = split_data(X,y)"
      ],
      "execution_count": 0,
      "outputs": []
    },
    {
      "cell_type": "code",
      "metadata": {
        "colab_type": "code",
        "id": "orR2WpMW26eG",
        "outputId": "da7cec4b-49b6-41be-895f-63a9287da401",
        "colab": {
          "base_uri": "https://localhost:8080/",
          "height": 84
        }
      },
      "source": [
        "print(X_train.shape)\n",
        "print(y_train.shape)\n",
        "print(X_test.shape)\n",
        "print(y_test.shape)"
      ],
      "execution_count": 27,
      "outputs": [
        {
          "output_type": "stream",
          "text": [
            "(11200, 14)\n",
            "(11200, 1)\n",
            "(4800, 14)\n",
            "(4800, 1)\n"
          ],
          "name": "stdout"
        }
      ]
    },
    {
      "cell_type": "markdown",
      "metadata": {
        "colab_type": "text",
        "id": "L8wQnS_326eK"
      },
      "source": [
        "<a id=section6_2></a>"
      ]
    },
    {
      "cell_type": "markdown",
      "metadata": {
        "colab_type": "text",
        "id": "O-Uu_Fkg26eK"
      },
      "source": [
        "### 6.2 Logistic Regression Model over train and test data "
      ]
    },
    {
      "cell_type": "code",
      "metadata": {
        "colab_type": "code",
        "id": "AiuGIDsZ26eL",
        "colab": {}
      },
      "source": [
        "def logistic_reg( X, y):\n",
        "    \n",
        "    X_train, X_test, y_train, y_test = split_data(X,y)\n",
        "    \n",
        "    from sklearn.linear_model import LogisticRegression\n",
        "    \n",
        "    # Train multinomial logistic regression mode\n",
        "    logreg=LogisticRegression(multi_class='multinomial', solver='newton-cg',C=5)\n",
        "    logreg.fit(X_train, y_train) \n",
        "    \n",
        "    y_pred_train = logreg.predict(X_train)\n",
        "    y_pred_test = logreg.predict(X_test)  # make predictions on the testing set\n",
        "    \n",
        "    from sklearn.metrics import accuracy_score\n",
        "    print('Accuracy score for train data using Multinomial logistic regression is:', accuracy_score(y_train,y_pred_train))\n",
        "    print('Accuracy score for test data using Multinomial logistic regression is:', accuracy_score(y_test,y_pred_test))\n",
        "    \n",
        "    return logreg"
      ],
      "execution_count": 0,
      "outputs": []
    },
    {
      "cell_type": "code",
      "metadata": {
        "colab_type": "code",
        "id": "3yzLKerx26eN",
        "outputId": "d36294c4-e130-4aa2-a0e6-39185490f88e",
        "colab": {
          "base_uri": "https://localhost:8080/",
          "height": 50
        }
      },
      "source": [
        "logreg = logistic_reg(X,y)"
      ],
      "execution_count": 29,
      "outputs": [
        {
          "output_type": "stream",
          "text": [
            "Accuracy score for train data using Multinomial logistic regression is: 0.756875\n",
            "Accuracy score for test data using Multinomial logistic regression is: 0.7535416666666667\n"
          ],
          "name": "stdout"
        }
      ]
    },
    {
      "cell_type": "markdown",
      "metadata": {
        "colab_type": "text",
        "id": "fv-mLPn326eQ"
      },
      "source": [
        "We get an accurcay of 75.3 % using multinomial logistic regression."
      ]
    },
    {
      "cell_type": "markdown",
      "metadata": {
        "colab_type": "text",
        "id": "tmrLmBtx26eR"
      },
      "source": [
        "<a id=section6_3></a>"
      ]
    },
    {
      "cell_type": "markdown",
      "metadata": {
        "colab_type": "text",
        "id": "czW5rlsY26eT"
      },
      "source": [
        "### 6.3 Decision Tree algorithm  over train and test data "
      ]
    },
    {
      "cell_type": "code",
      "metadata": {
        "colab_type": "code",
        "id": "kXXv-5hJ26eU",
        "colab": {}
      },
      "source": [
        "def dtreeModel(X,y):\n",
        "    X_train, X_test, y_train, y_test = split_data(X,y)\n",
        "    from sklearn.tree import DecisionTreeClassifier\n",
        "    dtree=DecisionTreeClassifier(random_state = 0)\n",
        "    dtree.fit(X_train, y_train)\n",
        "    y_pred_train = dtree.predict(X_train)  \n",
        "    y_pred_test = dtree.predict(X_test) \n",
        "    \n",
        "    from sklearn.metrics import accuracy_score\n",
        "    print('Accuracy score for train data using Decision Tree algorithm is:', accuracy_score(y_train,y_pred_train))\n",
        "    print('Accuracy score for test data using Decision Tree algorithm is:', accuracy_score(y_test,y_pred_test))\n",
        "    \n",
        "      \n",
        "    \n",
        "    return dtree\n"
      ],
      "execution_count": 0,
      "outputs": []
    },
    {
      "cell_type": "code",
      "metadata": {
        "colab_type": "code",
        "id": "l2yXLaRO26eV",
        "outputId": "8ba98e5c-a3b4-4372-8056-0ffb6e9663db",
        "colab": {
          "base_uri": "https://localhost:8080/",
          "height": 50
        }
      },
      "source": [
        "dtree= dtreeModel(X,y)"
      ],
      "execution_count": 31,
      "outputs": [
        {
          "output_type": "stream",
          "text": [
            "Accuracy score for train data using Decision Tree algorithm is: 1.0\n",
            "Accuracy score for test data using Decision Tree algorithm is: 0.8489583333333334\n"
          ],
          "name": "stdout"
        }
      ]
    },
    {
      "cell_type": "markdown",
      "metadata": {
        "colab_type": "text",
        "id": "n0vRLitD26eY"
      },
      "source": [
        "The accuracy has increased with the use of Decision Trees to 78.1%. Let us try with the Grid Search approach of the Decision tree."
      ]
    },
    {
      "cell_type": "markdown",
      "metadata": {
        "colab_type": "text",
        "id": "yAwYAUJp26eY"
      },
      "source": [
        "#### Applying Decision Tree model with GridSearchCV"
      ]
    },
    {
      "cell_type": "code",
      "metadata": {
        "colab_type": "code",
        "id": "Zyhwaph226ea",
        "colab": {}
      },
      "source": [
        "def dtreeModel_usingGridSearch(X,y):\n",
        "    X_train, X_test, y_train, y_test = split_data(X,y)\n",
        "    from sklearn.tree import DecisionTreeClassifier\n",
        "    from sklearn.model_selection import GridSearchCV\n",
        "    \n",
        "    decision_tree_classifier = DecisionTreeClassifier(random_state = 0)\n",
        "    tree_para =  [{'criterion':['gini','entropy'],'max_depth': range(2,40),  'max_features': ['sqrt', 'log2', None] }]\n",
        "         \n",
        "    grid_search = GridSearchCV(decision_tree_classifier,tree_para, cv=10,refit='AUC')\n",
        "    grid_search.fit(X_train, y_train)\n",
        "    \n",
        "    y_pred_train = grid_search.predict(X_train)  \n",
        "    y_pred_test = grid_search.predict(X_test) \n",
        "    \n",
        "    from sklearn.metrics import accuracy_score\n",
        "    print('Accuracy score for train data using Decision Tree GridSearch algorithm is:', accuracy_score(y_train,y_pred_train))\n",
        "    print('Accuracy score for test data using Decision Tree GridSearch algorithm is:', accuracy_score(y_test,y_pred_test))\n",
        "    \n",
        "\n",
        "    return dtree"
      ],
      "execution_count": 0,
      "outputs": []
    },
    {
      "cell_type": "code",
      "metadata": {
        "colab_type": "code",
        "id": "NXj9iMFe26ed",
        "outputId": "ed3a8942-0aed-4236-a2e2-d6af95959460",
        "colab": {
          "base_uri": "https://localhost:8080/",
          "height": 50
        }
      },
      "source": [
        "dtree_GS= dtreeModel_usingGridSearch(X,y) ##\n",
        "#Accuracy score for train data using Decision Tree GridSearch algorithm is: 0.9991964285714285\n",
        "#Accuracy score for test data using Decision Tree GridSearch algorithm is: 0.865"
      ],
      "execution_count": 33,
      "outputs": [
        {
          "output_type": "stream",
          "text": [
            "Accuracy score for train data using Decision Tree GridSearch algorithm is: 0.9991964285714285\n",
            "Accuracy score for test data using Decision Tree GridSearch algorithm is: 0.865\n"
          ],
          "name": "stdout"
        }
      ]
    },
    {
      "cell_type": "markdown",
      "metadata": {
        "colab_type": "text",
        "id": "PMRxp1sg26ee"
      },
      "source": [
        "The accuracy has  incresed with the use of decision trees Grid Serach CV. We get a score of 86.5%"
      ]
    },
    {
      "cell_type": "markdown",
      "metadata": {
        "colab_type": "text",
        "id": "xdyjzzq126ef"
      },
      "source": [
        "<a id=section6_4></a>"
      ]
    },
    {
      "cell_type": "markdown",
      "metadata": {
        "colab_type": "text",
        "id": "r3fQEaVd26eg"
      },
      "source": [
        "### 6.4 Random Forest Model over train and test data "
      ]
    },
    {
      "cell_type": "code",
      "metadata": {
        "colab_type": "code",
        "id": "DYtKtmfJ26eg",
        "colab": {}
      },
      "source": [
        "def RFModel(X,y):\n",
        "    X_train, X_test, y_train, y_test = split_data(X,y)\n",
        "    from sklearn.ensemble import RandomForestClassifier\n",
        "    RF=RandomForestClassifier(random_state = 0)\n",
        "    RF.fit(X_train, y_train)\n",
        "    y_pred_train = RF.predict(X_train)  \n",
        "    y_pred_test = RF.predict(X_test) \n",
        "    \n",
        "    from sklearn.metrics import accuracy_score\n",
        "    print('Accuracy score for train data using Random Forest algorithm is:', accuracy_score(y_train,y_pred_train))\n",
        "    print('Accuracy score for test data using Random Forest algorithm is:', accuracy_score(y_test,y_pred_test))\n",
        "    \n",
        "  \n",
        "    return RF"
      ],
      "execution_count": 0,
      "outputs": []
    },
    {
      "cell_type": "code",
      "metadata": {
        "colab_type": "code",
        "id": "8NF2AwyO26ei",
        "outputId": "a8bbc9a7-04bf-451c-beac-b7f59418ff0d",
        "colab": {
          "base_uri": "https://localhost:8080/",
          "height": 50
        }
      },
      "source": [
        "rfmodel= RFModel(X,y)"
      ],
      "execution_count": 35,
      "outputs": [
        {
          "output_type": "stream",
          "text": [
            "Accuracy score for train data using Random Forest algorithm is: 0.9991071428571429\n",
            "Accuracy score for test data using Random Forest algorithm is: 0.923125\n"
          ],
          "name": "stdout"
        }
      ]
    },
    {
      "cell_type": "markdown",
      "metadata": {
        "colab_type": "text",
        "id": "aYutaJ6026em"
      },
      "source": [
        "The score has significantly incresed to 92.3% with the use of Random Forest algorithm. Let us try to tune the parameters to see if we can make it better."
      ]
    },
    {
      "cell_type": "code",
      "metadata": {
        "colab_type": "code",
        "id": "J60YZBVc26en",
        "colab": {}
      },
      "source": [
        "def RFModel_tune(X,y):\n",
        "    X_train, X_test, y_train, y_test = split_data(X,y)\n",
        "    from sklearn.ensemble import RandomForestClassifier\n",
        "    #RF=RandomForestClassifier(random_state = 0)\n",
        "    RF=RandomForestClassifier(random_state = 0,\n",
        "                                n_estimators = 45,\n",
        "                                min_samples_split = 2,\n",
        "                                min_samples_leaf = 1)\n",
        "    RF.fit(X_train, y_train)\n",
        "    y_pred_train = RF.predict(X_train)  \n",
        "    y_pred_test = RF.predict(X_test) \n",
        "    \n",
        "    from sklearn.metrics import accuracy_score\n",
        "    print('Accuracy score for train data using Random Forest(With hyper parameter tuning) algorithm is:', accuracy_score(y_train,y_pred_train))\n",
        "    print('Accuracy score for test data using Random Forest(With hyper parameter tuning) algorithm is:', accuracy_score(y_test,y_pred_test))\n",
        "    \n",
        "    \n",
        "  \n",
        "    return RF\n"
      ],
      "execution_count": 0,
      "outputs": []
    },
    {
      "cell_type": "code",
      "metadata": {
        "colab_type": "code",
        "id": "az5phWWw26ep",
        "outputId": "90d36cf2-1cc2-49c7-fe84-0fbbee6e6b69",
        "colab": {
          "base_uri": "https://localhost:8080/",
          "height": 50
        }
      },
      "source": [
        "rfmodel_hyper_para_tuning= RFModel_tune(X,y)"
      ],
      "execution_count": 37,
      "outputs": [
        {
          "output_type": "stream",
          "text": [
            "Accuracy score for train data using Random Forest(With hyper parameter tuning) algorithm is: 1.0\n",
            "Accuracy score for test data using Random Forest(With hyper parameter tuning) algorithm is: 0.95375\n"
          ],
          "name": "stdout"
        }
      ]
    },
    {
      "cell_type": "markdown",
      "metadata": {
        "colab_type": "text",
        "id": "wxVAjRBK26er"
      },
      "source": [
        "  The accuracy has increased after tuning the hyperparameters. We get a score of 95.3 % now.\n",
        "Let us try with the Random forest CV model"
      ]
    },
    {
      "cell_type": "code",
      "metadata": {
        "colab_type": "code",
        "id": "DG6lVR_E26es",
        "colab": {}
      },
      "source": [
        ""
      ],
      "execution_count": 0,
      "outputs": []
    },
    {
      "cell_type": "code",
      "metadata": {
        "colab_type": "code",
        "id": "pxkzwVQw26et",
        "colab": {}
      },
      "source": [
        "def RFCVModel(X,y):\n",
        "    X_train, X_test, y_train, y_test = split_data(X,y)\n",
        "    from sklearn.ensemble import RandomForestClassifier\n",
        "    RF=RandomForestClassifier(random_state = 0)\n",
        "    from sklearn.model_selection import RandomizedSearchCV\n",
        "    from scipy.stats import randint as sp_randint\n",
        "\n",
        "    param_dist1 = {\"max_depth\": range(2,5),\n",
        "                  \"min_samples_split\": sp_randint(2, 11),\n",
        "                  \"min_samples_leaf\": sp_randint(1, 11),\n",
        "                  \"bootstrap\": [True, False],\n",
        "                  \"n_estimators\": [100, 400, 700, 1000, 1500],\n",
        "                  \"criterion\" : [\"gini\", \"entropy\"],\n",
        "                  'max_features': ['sqrt', 'log2', None]\n",
        "                  }\n",
        "    param_dist = {\"max_depth\": range(2,20),\n",
        "                  \"min_samples_split\": sp_randint(2, 15),\n",
        "                  \"min_samples_leaf\": sp_randint(1, 15),\n",
        "                  \"bootstrap\": [True, False],\n",
        "                  \"n_estimators\": [100, 400, 700, 1000, 1500],\n",
        "                  \"criterion\" : [\"gini\", \"entropy\"],\n",
        "                  'max_features': ['sqrt', 'log2', None]\n",
        "                  }\n",
        "    # run randomized search\n",
        "    n_iter_search = 25 \n",
        "    random_search = RandomizedSearchCV(RF, param_distributions = param_dist,\n",
        "                                       n_iter = n_iter_search,\n",
        "                                       cv = 3, verbose=2,\n",
        "                                       n_jobs = -1)\n",
        "    \n",
        "    random_search.fit(X_train, y_train)\n",
        "    y_pred_train = random_search.predict(X_train)  \n",
        "    y_pred_test = random_search.predict(X_test) \n",
        "    \n",
        "    from sklearn.metrics import accuracy_score\n",
        "    print('Accuracy score for train data using Random Forest(With hyper parameter tuning) algorithm is:', accuracy_score(y_train,y_pred_train))\n",
        "    print('Accuracy score for test data using Random Forest(With hyper parameter tuning) algorithm is:', accuracy_score(y_test,y_pred_test))\n",
        "    \n",
        "    \n",
        "    \n",
        "    return random_search"
      ],
      "execution_count": 0,
      "outputs": []
    },
    {
      "cell_type": "code",
      "metadata": {
        "colab_type": "code",
        "id": "7OrFxPD726ev",
        "colab": {}
      },
      "source": [
        "#rf_rand_search_model= RFCVModel(X,y)\n",
        "\n",
        "\n",
        "# This has a very high training time. Also the accuracy is lower than the random forest with hyper parametre tuning.\n",
        "\n",
        "# \n",
        "#Accuracy score for train data using Random Forest(With hyper parameter tuning) algorithm is: 0.9982142857142857\n",
        "#Accuracy score for test data using Random Forest(With hyper parameter tuning) algorithm is: 0.9529166666666666"
      ],
      "execution_count": 0,
      "outputs": []
    },
    {
      "cell_type": "markdown",
      "metadata": {
        "colab_type": "text",
        "id": "pAEJLRrD26ex"
      },
      "source": [
        "The accuracy we get 93.6.2 % is little lower than the random forest with hyper parameter tuning. Also this took higher training time ."
      ]
    },
    {
      "cell_type": "code",
      "metadata": {
        "colab_type": "code",
        "id": "ngaGMr7Wxs-s",
        "outputId": "68e10a90-55d3-4e6e-cd1d-e8f088ac13b5",
        "colab": {
          "base_uri": "https://localhost:8080/",
          "height": 151
        }
      },
      "source": [
        "def RFModel_post_tune(X,y):\n",
        "  X_train, X_test, y_train, y_test = split_data(X,y)\n",
        "  from sklearn.ensemble import RandomForestClassifier\n",
        "  #RF=RandomForestClassifier(random_state = 0)\n",
        "  RF=RandomForestClassifier(random_state = 0,\n",
        "                            bootstrap= True,\n",
        "                            criterion= 'gini',\n",
        "                            max_depth= 16,\n",
        "                            max_features= 'log2',\n",
        "                            min_samples_leaf= 3,\n",
        "                            min_samples_split= 7,\n",
        "                            n_estimators= 700)\n",
        "  RF.fit(X_train, y_train)\n",
        "  y_pred_train = RF.predict(X_train)  \n",
        "  y_pred_test = RF.predict(X_test) \n",
        "    \n",
        "  from sklearn.metrics import accuracy_score\n",
        "  print('Accuracy score for train data using Random Forest(With hyper parameter tuning) algorithm is:', accuracy_score(y_train,y_pred_train))\n",
        "  print('Accuracy score for test data using Random Forest(With hyper parameter tuning) algorithm is:', accuracy_score(y_test,y_pred_test))\n",
        "    \n",
        "  return RF\n",
        "\n",
        "RFModel_post_tune(X,y)\n"
      ],
      "execution_count": 40,
      "outputs": [
        {
          "output_type": "stream",
          "text": [
            "Accuracy score for train data using Random Forest(With hyper parameter tuning) algorithm is: 0.9882142857142857\n",
            "Accuracy score for test data using Random Forest(With hyper parameter tuning) algorithm is: 0.936875\n"
          ],
          "name": "stdout"
        },
        {
          "output_type": "execute_result",
          "data": {
            "text/plain": [
              "RandomForestClassifier(bootstrap=True, class_weight=None, criterion='gini',\n",
              "            max_depth=16, max_features='log2', max_leaf_nodes=None,\n",
              "            min_impurity_decrease=0.0, min_impurity_split=None,\n",
              "            min_samples_leaf=3, min_samples_split=7,\n",
              "            min_weight_fraction_leaf=0.0, n_estimators=700, n_jobs=None,\n",
              "            oob_score=False, random_state=0, verbose=0, warm_start=False)"
            ]
          },
          "metadata": {
            "tags": []
          },
          "execution_count": 40
        }
      ]
    },
    {
      "cell_type": "markdown",
      "metadata": {
        "colab_type": "text",
        "id": "Ijl_eAfA26ey"
      },
      "source": [
        "<a id=section6_5></a>"
      ]
    },
    {
      "cell_type": "code",
      "metadata": {
        "colab_type": "code",
        "id": "c25vdHs_xU19",
        "colab": {}
      },
      "source": [
        "#rf_rand_search_model.best_params_"
      ],
      "execution_count": 0,
      "outputs": []
    },
    {
      "cell_type": "markdown",
      "metadata": {
        "id": "JznqVgJT3k0a",
        "colab_type": "text"
      },
      "source": [
        "<a id=section6_5></a>"
      ]
    },
    {
      "cell_type": "markdown",
      "metadata": {
        "colab_type": "text",
        "id": "xbZBgaEm26ez"
      },
      "source": [
        "### 6.5 K Nearest Neighbors Model over train and test data "
      ]
    },
    {
      "cell_type": "code",
      "metadata": {
        "colab_type": "code",
        "id": "3BMZqBI526ez",
        "outputId": "524063a4-eedb-46c6-ae46-3837fb177708",
        "colab": {
          "base_uri": "https://localhost:8080/",
          "height": 34
        }
      },
      "source": [
        "accuracy_list = []\n",
        "def check_n_val(X,y):\n",
        "    \n",
        "    import numpy as np\n",
        "    from sklearn.neighbors import KNeighborsClassifier\n",
        "    from sklearn.metrics import accuracy_score\n",
        "    X_train, X_test, y_train, y_test = split_data(X,y)\n",
        "    \n",
        "    for i in range(1,30):\n",
        "        knn_model_ = KNeighborsClassifier(n_neighbors = i)\n",
        "        knn_model_.fit(X_train, y_train)\n",
        "        pred_i = knn_model_.predict(X_test)\n",
        "        accuracy_list.append(accuracy_score(y_test, pred_i))\n",
        "        \n",
        "    print(\"Maximum accuracy and the corresponding value of k is\",max([(v,i+1) for i,v in enumerate(accuracy_list)]),'respectively.')\n",
        "\n",
        "best_n_for_knn= check_n_val(X,y)"
      ],
      "execution_count": 42,
      "outputs": [
        {
          "output_type": "stream",
          "text": [
            "Maximum accuracy and the corresponding value of k is (0.9579166666666666, 1) respectively.\n"
          ],
          "name": "stdout"
        }
      ]
    },
    {
      "cell_type": "code",
      "metadata": {
        "colab_type": "code",
        "id": "fKc0neX-26e2",
        "outputId": "dd6f0043-ed11-4e4f-9dc2-054a61a5b400",
        "colab": {
          "base_uri": "https://localhost:8080/",
          "height": 392
        }
      },
      "source": [
        "\n",
        "def generate_k_Plot():\n",
        "    import matplotlib.pyplot as plt\n",
        "    %matplotlib inline\n",
        "    plt.figure(figsize=(15,6))\n",
        "    plt.plot(range(1,30),accuracy_list,color='blue',linestyle='dashed',marker='o', markerfacecolor='red', markersize='10')\n",
        "    plt.xlabel('K')\n",
        "    plt.ylabel('Accuracy of model')\n",
        "    plt.show()\n",
        "generate_k_Plot()"
      ],
      "execution_count": 43,
      "outputs": [
        {
          "output_type": "display_data",
          "data": {
            "image/png": "[encoded data removed]",
            "text/plain": [
              "<Figure size 1080x432 with 1 Axes>"
            ]
          },
          "metadata": {
            "tags": []
          }
        }
      ]
    },
    {
      "cell_type": "code",
      "metadata": {
        "colab_type": "code",
        "id": "LODrgktY26e5",
        "outputId": "46122a14-1435-49f8-e8ab-0ce0672249b2",
        "colab": {
          "base_uri": "https://localhost:8080/",
          "height": 50
        }
      },
      "source": [
        "#KNN\n",
        "def KNNModel(X,y):\n",
        "    X_train, X_test, y_train, y_test = split_data(X,y)\n",
        "    from sklearn.neighbors import KNeighborsClassifier\n",
        "    \n",
        "    knn_model1 = KNeighborsClassifier(n_neighbors = 1)\n",
        "    knn_model1.fit(X_train, y_train)\n",
        "    \n",
        "\n",
        "    y_pred_train = knn_model1.predict(X_train)  \n",
        "    y_pred_test = knn_model1.predict(X_test) \n",
        "    \n",
        "    from sklearn.metrics import accuracy_score\n",
        "    print('Accuracy score for train data using K Nearest neighbours algorithm is:', accuracy_score(y_train,y_pred_train))\n",
        "    print('Accuracy score for test data using K Nearest neighbours) algorithm is:', accuracy_score(y_test,y_pred_test))\n",
        "    \n",
        "    \n",
        "    \n",
        "    return knn_model1\n",
        "\n",
        "knn_model1= KNNModel(X,y)"
      ],
      "execution_count": 44,
      "outputs": [
        {
          "output_type": "stream",
          "text": [
            "Accuracy score for train data using K Nearest neighbours algorithm is: 1.0\n",
            "Accuracy score for test data using K Nearest neighbours) algorithm is: 0.9579166666666666\n"
          ],
          "name": "stdout"
        }
      ]
    },
    {
      "cell_type": "markdown",
      "metadata": {
        "colab_type": "text",
        "id": "YD1j_ui026e8"
      },
      "source": [
        "The accuracy obtained using KNN is 95.7 %. Let us try to tune this using Randomized search CV ."
      ]
    },
    {
      "cell_type": "code",
      "metadata": {
        "colab_type": "code",
        "id": "T_JO6kaL26e8",
        "outputId": "63c74fe4-c7d3-48c5-eef5-014d39f0d81d",
        "colab": {
          "base_uri": "https://localhost:8080/",
          "height": 67
        }
      },
      "source": [
        "def KNNModel_CV(X,y):\n",
        "    X_train, X_test, y_train, y_test = split_data(X,y)\n",
        "    from sklearn.neighbors import KNeighborsClassifier\n",
        "    from sklearn.model_selection import RandomizedSearchCV\n",
        "    param_dist = {                            #  specify parameters and distributions to sample from\n",
        "                  \"algorithm\" : [\"auto\", \"ball_tree\"],\n",
        "                  \"leaf_size\" :  2 ** np.arange(10),\n",
        "                  \"metric\" : [\"euclidean\",\"manhattan\",\"minkowski\",\"chebyshev\"]\n",
        "                 }\n",
        "    n_iter_search = 25\n",
        "    knn_model_ = KNeighborsClassifier(n_neighbors=1)\n",
        "    knn_model2 = RandomizedSearchCV(knn_model_,random_state = 0, param_distributions = param_dist,     \n",
        "                                    n_iter = n_iter_search,\n",
        "                                    n_jobs = -1)\n",
        "    \n",
        "    knn_model2.fit(X_train, y_train)\n",
        "    \n",
        "\n",
        "    y_pred_train = knn_model2.predict(X_train)  \n",
        "    y_pred_test = knn_model2.predict(X_test) \n",
        "    \n",
        "    from sklearn.metrics import accuracy_score\n",
        "    print('Accuracy score for train data using K Nearest neighbours(RandomizedSearchCV) algorithm is:', accuracy_score(y_train,y_pred_train))\n",
        "    print(knn_model2.best_params_)\n",
        "    print('Accuracy score for test data using K Nearest neighbours(RandomizedSearchCV) algorithm is:', accuracy_score(y_test,y_pred_test))\n",
        "        \n",
        "    \n",
        "    return knn_model2\n",
        "\n",
        "knn_model2= KNNModel_CV(X,y)"
      ],
      "execution_count": 45,
      "outputs": [
        {
          "output_type": "stream",
          "text": [
            "Accuracy score for train data using K Nearest neighbours(RandomizedSearchCV) algorithm is: 1.0\n",
            "{'metric': 'manhattan', 'leaf_size': 128, 'algorithm': 'ball_tree'}\n",
            "Accuracy score for test data using K Nearest neighbours(RandomizedSearchCV) algorithm is: 0.9516666666666667\n"
          ],
          "name": "stdout"
        }
      ]
    },
    {
      "cell_type": "code",
      "metadata": {
        "colab_type": "code",
        "id": "3re9ZWpMXTFT",
        "colab": {}
      },
      "source": [
        ""
      ],
      "execution_count": 0,
      "outputs": []
    },
    {
      "cell_type": "markdown",
      "metadata": {
        "colab_type": "text",
        "id": "GpoPqHS926e-"
      },
      "source": [
        "The accuracy of KNN with Randomized Searcg CV is  95.1 %."
      ]
    },
    {
      "cell_type": "markdown",
      "metadata": {
        "colab_type": "text",
        "id": "aqeiEKKZ26e-"
      },
      "source": [
        "<a id=section6_6></a>"
      ]
    },
    {
      "cell_type": "markdown",
      "metadata": {
        "colab_type": "text",
        "id": "B04jVnuG26e_"
      },
      "source": [
        "### 6.6 Support Vector Machine Model over train and test data "
      ]
    },
    {
      "cell_type": "code",
      "metadata": {
        "colab_type": "code",
        "id": "o_1zI10a26e_",
        "outputId": "85d8577e-ccdf-49f5-d986-bd6d7a0cc746",
        "colab": {
          "base_uri": "https://localhost:8080/",
          "height": 50
        }
      },
      "source": [
        "#SVM\n",
        "def SVM_Model(X,y):\n",
        "    X_train, X_test, y_train, y_test = split_data(X,y)\n",
        "    from sklearn.svm import SVC\n",
        "    from sklearn import metrics\n",
        "    \n",
        "    svc = SVC(random_state = 0) \n",
        "    svc.fit(X_train,y_train)\n",
        "     \n",
        "    y_pred_train = svc.predict(X_train)  \n",
        "    y_pred_test = svc.predict(X_test) \n",
        "    \n",
        "    from sklearn.metrics import accuracy_score\n",
        "    print('Accuracy score for train data using SVM algorithm is:', accuracy_score(y_train,y_pred_train))\n",
        "    print('Accuracy score for test data using SVM algorithm is:', accuracy_score(y_test,y_pred_test))\n",
        "    \n",
        "    \n",
        "    return svc\n",
        "\n",
        "svc= SVM_Model(X,y)\n",
        "\n"
      ],
      "execution_count": 46,
      "outputs": [
        {
          "output_type": "stream",
          "text": [
            "Accuracy score for train data using SVM algorithm is: 0.9924107142857143\n",
            "Accuracy score for test data using SVM algorithm is: 0.9716666666666667\n"
          ],
          "name": "stdout"
        }
      ]
    },
    {
      "cell_type": "markdown",
      "metadata": {
        "colab_type": "text",
        "id": "EUJV-jxj26fC"
      },
      "source": [
        "We get a very accuracy of 97.1 % using SVM with default parameters. Let us try to tune the parameters. "
      ]
    },
    {
      "cell_type": "code",
      "metadata": {
        "colab_type": "code",
        "id": "xliAEeuA26fC",
        "colab": {}
      },
      "source": [
        "from sklearn.model_selection import cross_val_score\n",
        "from sklearn.svm import SVC\n",
        "from sklearn import metrics\n",
        "def SVC_mean_Score(X,y):\n",
        "    svc = SVC(kernel='rbf',random_state = 0)\n",
        "    svc1 = SVC(kernel='poly',random_state = 0)\n",
        "    scores = cross_val_score(svc, X, y, cv=10, scoring='accuracy') \n",
        "    scores1 = cross_val_score(svc1, X, y, cv=10, scoring='accuracy') \n",
        "    print(scores.mean())\n",
        "    print(scores1.mean())\n",
        "    return \n",
        "\n",
        "import matplotlib.pyplot as plt\n",
        "import numpy as np\n",
        "%matplotlib inline\n",
        "\n",
        "def CVAccuracy1(gamma_range):\n",
        "  #gamma_range=[0.0001,0.001,0.01,0.1,1,10,100]\n",
        "  acc_score=[]\n",
        "  for g in gamma_range:\n",
        "    svc = SVC(kernel='rbf', gamma=g)\n",
        "    scores = cross_val_score(svc, X, y, cv=10, scoring='accuracy')\n",
        "    acc_score.append(scores.mean())\n",
        "    \n",
        "  plt.plot(gamma_range,acc_score)\n",
        "    \n",
        "  plt.xlabel('Value of gamma for SVC ')\n",
        "   \n",
        "  plt.xticks(np.arange(0.001,100,5))\n",
        "   \n",
        "  plt.ylabel('Cross-Validated Accuracy')\n",
        "    \n",
        "  return\n",
        "\n",
        "\n",
        "\n",
        "\n"
      ],
      "execution_count": 0,
      "outputs": []
    },
    {
      "cell_type": "code",
      "metadata": {
        "colab_type": "code",
        "id": "Ctv8RsVw26fE",
        "outputId": "7e07bcfe-0211-456a-fcb3-dcfdebf20b9c",
        "colab": {
          "base_uri": "https://localhost:8080/",
          "height": 50
        }
      },
      "source": [
        "#gamma_range1=[0.0001,0.001,0.01,0.1,1,10,100]\n",
        "\n",
        "\n",
        "SVC_mean_Score(X,y)\n"
      ],
      "execution_count": 48,
      "outputs": [
        {
          "output_type": "stream",
          "text": [
            "0.9703693128665369\n",
            "0.9431870324562809\n"
          ],
          "name": "stdout"
        }
      ]
    },
    {
      "cell_type": "markdown",
      "metadata": {
        "colab_type": "text",
        "id": "T1GZ-HXD26fG"
      },
      "source": [
        "We get mean score of  97 % when 'rbf' kernel  is used and  94.3 % poly kernel is used. \n",
        "So we will tune further using rbf kernel."
      ]
    },
    {
      "cell_type": "code",
      "metadata": {
        "colab_type": "code",
        "id": "fP7vL6EBsd7h",
        "colab": {}
      },
      "source": [
        "#CVAccuracy1(gamma_range1)"
      ],
      "execution_count": 0,
      "outputs": []
    },
    {
      "cell_type": "markdown",
      "metadata": {
        "colab_type": "text",
        "id": "Ms5FWRJH26fG"
      },
      "source": [
        "<a id=section6_7></a>"
      ]
    },
    {
      "cell_type": "markdown",
      "metadata": {
        "colab_type": "text",
        "id": "a9IEo5y-4Bwl"
      },
      "source": [
        "**We can see that for gamma > 10 the kernel is performing poorly. We can also see a sharp dip in accuracy score when gamma is around 1.Let us look into more details for the range 0.0001 to 0.1.**"
      ]
    },
    {
      "cell_type": "code",
      "metadata": {
        "colab_type": "code",
        "id": "cSmGX-OZ4u1Y",
        "colab": {}
      },
      "source": [
        "import time\n"
      ],
      "execution_count": 0,
      "outputs": []
    },
    {
      "cell_type": "code",
      "metadata": {
        "colab_type": "code",
        "id": "0hp9JF6X4FxH",
        "outputId": "5bb5c46c-df0f-4db3-8b7c-9624fd875096",
        "colab": {
          "base_uri": "https://localhost:8080/",
          "height": 300
        }
      },
      "source": [
        "gamma_range2=[0.0001,0.001,0.01,0.1]\n",
        "#gamma_range3=[0.001,0.005,0.01,0.02]\n",
        "start = time. time()\n",
        "def CVAccuracy1(gamma_range):\n",
        "  \n",
        "  acc_score=[]\n",
        "  for g in gamma_range:\n",
        "    svc = SVC(kernel='rbf', gamma=g)\n",
        "    scores = cross_val_score(svc, X, y, cv=10, scoring='accuracy')\n",
        "    acc_score.append(scores.mean())\n",
        "    \n",
        "  plt.plot(gamma_range,acc_score)\n",
        "    \n",
        "  plt.xlabel('Value of gamma for SVC ')\n",
        "   \n",
        "  plt.xticks(np.arange(0.0001,0.1,0.005))\n",
        "   \n",
        "  plt.ylabel('Cross-Validated Accuracy')\n",
        "    \n",
        "  return\n",
        "\n",
        "CVAccuracy1(gamma_range2)\n",
        "end = time. time()\n",
        "print(end - start)"
      ],
      "execution_count": 51,
      "outputs": [
        {
          "output_type": "stream",
          "text": [
            "340.1696984767914\n"
          ],
          "name": "stdout"
        },
        {
          "output_type": "display_data",
          "data": {
            "image/png": "[encoded data removed]",
            "text/plain": [
              "<Figure size 432x288 with 1 Axes>"
            ]
          },
          "metadata": {
            "tags": []
          }
        }
      ]
    },
    {
      "cell_type": "code",
      "metadata": {
        "colab_type": "code",
        "id": "L_XLy1gv5Jk0",
        "outputId": "53989725-04db-4a06-9182-ea75c936bf9d",
        "colab": {
          "base_uri": "https://localhost:8080/",
          "height": 84
        }
      },
      "source": [
        "from sklearn.model_selection import KFold\n",
        "from sklearn.model_selection import GridSearchCV\n",
        "folds = KFold(n_splits = 5, shuffle = True, random_state = 101)\n",
        "\n",
        "# specify range of hyperparameters\n",
        "# Set the parameters by cross-validation\n",
        "hyper_params = [ {'gamma': [1e-2, 1e-3, 1e-4],\n",
        "                     'C': [1, 10, 100, 1000]}]\n",
        "\n",
        "\n",
        "# specify model\n",
        "model = SVC(kernel=\"rbf\")\n",
        "\n",
        "# set up GridSearchCV()\n",
        "model_cv = GridSearchCV(estimator = model, \n",
        "                        param_grid = hyper_params, \n",
        "                        scoring= 'accuracy', \n",
        "                        cv = folds, \n",
        "                        verbose = 1,\n",
        "                        return_train_score=True)      \n",
        "\n",
        "# fit the model\n",
        "start = time. time()\n",
        "model_cv.fit(X,y)\n",
        "end = time. time()\n",
        "print(end-start)\n"
      ],
      "execution_count": 52,
      "outputs": [
        {
          "output_type": "stream",
          "text": [
            "Fitting 5 folds for each of 12 candidates, totalling 60 fits\n"
          ],
          "name": "stdout"
        },
        {
          "output_type": "stream",
          "text": [
            "[Parallel(n_jobs=1)]: Using backend SequentialBackend with 1 concurrent workers.\n",
            "[Parallel(n_jobs=1)]: Done  60 out of  60 | elapsed: 10.9min finished\n"
          ],
          "name": "stderr"
        },
        {
          "output_type": "stream",
          "text": [
            "655.2106354236603\n"
          ],
          "name": "stdout"
        }
      ]
    },
    {
      "cell_type": "code",
      "metadata": {
        "colab_type": "code",
        "id": "4Lfc_I7kLEAV",
        "outputId": "585994db-1a40-42e8-e199-27551bf03118",
        "colab": {
          "base_uri": "https://localhost:8080/",
          "height": 876
        }
      },
      "source": [
        "# cv results\n",
        "cv_results = pd.DataFrame(model_cv.cv_results_)\n",
        "cv_results"
      ],
      "execution_count": 53,
      "outputs": [
        {
          "output_type": "execute_result",
          "data": {
            "text/html": [
              "<div>\n",
              "<style scoped>\n",
              "    .dataframe tbody tr th:only-of-type {\n",
              "        vertical-align: middle;\n",
              "    }\n",
              "\n",
              "    .dataframe tbody tr th {\n",
              "        vertical-align: top;\n",
              "    }\n",
              "\n",
              "    .dataframe thead th {\n",
              "        text-align: right;\n",
              "    }\n",
              "</style>\n",
              "<table border=\"1\" class=\"dataframe\">\n",
              "  <thead>\n",
              "    <tr style=\"text-align: right;\">\n",
              "      <th></th>\n",
              "      <th>mean_fit_time</th>\n",
              "      <th>std_fit_time</th>\n",
              "      <th>mean_score_time</th>\n",
              "      <th>std_score_time</th>\n",
              "      <th>param_C</th>\n",
              "      <th>param_gamma</th>\n",
              "      <th>params</th>\n",
              "      <th>split0_test_score</th>\n",
              "      <th>split1_test_score</th>\n",
              "      <th>split2_test_score</th>\n",
              "      <th>split3_test_score</th>\n",
              "      <th>split4_test_score</th>\n",
              "      <th>mean_test_score</th>\n",
              "      <th>std_test_score</th>\n",
              "      <th>rank_test_score</th>\n",
              "      <th>split0_train_score</th>\n",
              "      <th>split1_train_score</th>\n",
              "      <th>split2_train_score</th>\n",
              "      <th>split3_train_score</th>\n",
              "      <th>split4_train_score</th>\n",
              "      <th>mean_train_score</th>\n",
              "      <th>std_train_score</th>\n",
              "    </tr>\n",
              "  </thead>\n",
              "  <tbody>\n",
              "    <tr>\n",
              "      <th>0</th>\n",
              "      <td>2.305365</td>\n",
              "      <td>0.011420</td>\n",
              "      <td>1.520736</td>\n",
              "      <td>0.009551</td>\n",
              "      <td>1</td>\n",
              "      <td>0.01</td>\n",
              "      <td>{'C': 1, 'gamma': 0.01}</td>\n",
              "      <td>0.923438</td>\n",
              "      <td>0.920625</td>\n",
              "      <td>0.930937</td>\n",
              "      <td>0.921250</td>\n",
              "      <td>0.930625</td>\n",
              "      <td>0.925375</td>\n",
              "      <td>0.004513</td>\n",
              "      <td>5</td>\n",
              "      <td>0.939609</td>\n",
              "      <td>0.938828</td>\n",
              "      <td>0.940312</td>\n",
              "      <td>0.941172</td>\n",
              "      <td>0.939375</td>\n",
              "      <td>0.939859</td>\n",
              "      <td>0.000811</td>\n",
              "    </tr>\n",
              "    <tr>\n",
              "      <th>1</th>\n",
              "      <td>4.196775</td>\n",
              "      <td>0.301444</td>\n",
              "      <td>2.344697</td>\n",
              "      <td>0.202461</td>\n",
              "      <td>1</td>\n",
              "      <td>0.001</td>\n",
              "      <td>{'C': 1, 'gamma': 0.001}</td>\n",
              "      <td>0.790000</td>\n",
              "      <td>0.770312</td>\n",
              "      <td>0.806250</td>\n",
              "      <td>0.794687</td>\n",
              "      <td>0.790000</td>\n",
              "      <td>0.790250</td>\n",
              "      <td>0.011604</td>\n",
              "      <td>10</td>\n",
              "      <td>0.796797</td>\n",
              "      <td>0.802891</td>\n",
              "      <td>0.796797</td>\n",
              "      <td>0.797031</td>\n",
              "      <td>0.799844</td>\n",
              "      <td>0.798672</td>\n",
              "      <td>0.002404</td>\n",
              "    </tr>\n",
              "    <tr>\n",
              "      <th>2</th>\n",
              "      <td>9.228327</td>\n",
              "      <td>0.418167</td>\n",
              "      <td>2.682663</td>\n",
              "      <td>0.185656</td>\n",
              "      <td>1</td>\n",
              "      <td>0.0001</td>\n",
              "      <td>{'C': 1, 'gamma': 0.0001}</td>\n",
              "      <td>0.619375</td>\n",
              "      <td>0.603125</td>\n",
              "      <td>0.621875</td>\n",
              "      <td>0.628437</td>\n",
              "      <td>0.620000</td>\n",
              "      <td>0.618563</td>\n",
              "      <td>0.008361</td>\n",
              "      <td>12</td>\n",
              "      <td>0.628281</td>\n",
              "      <td>0.627188</td>\n",
              "      <td>0.617188</td>\n",
              "      <td>0.623281</td>\n",
              "      <td>0.630000</td>\n",
              "      <td>0.625188</td>\n",
              "      <td>0.004569</td>\n",
              "    </tr>\n",
              "    <tr>\n",
              "      <th>3</th>\n",
              "      <td>1.950000</td>\n",
              "      <td>0.138065</td>\n",
              "      <td>1.138891</td>\n",
              "      <td>0.087787</td>\n",
              "      <td>10</td>\n",
              "      <td>0.01</td>\n",
              "      <td>{'C': 10, 'gamma': 0.01}</td>\n",
              "      <td>0.957500</td>\n",
              "      <td>0.960938</td>\n",
              "      <td>0.962812</td>\n",
              "      <td>0.957187</td>\n",
              "      <td>0.961250</td>\n",
              "      <td>0.959937</td>\n",
              "      <td>0.002213</td>\n",
              "      <td>3</td>\n",
              "      <td>0.984922</td>\n",
              "      <td>0.986172</td>\n",
              "      <td>0.984766</td>\n",
              "      <td>0.984922</td>\n",
              "      <td>0.986172</td>\n",
              "      <td>0.985391</td>\n",
              "      <td>0.000640</td>\n",
              "    </tr>\n",
              "    <tr>\n",
              "      <th>4</th>\n",
              "      <td>2.281543</td>\n",
              "      <td>0.147028</td>\n",
              "      <td>1.555660</td>\n",
              "      <td>0.019537</td>\n",
              "      <td>10</td>\n",
              "      <td>0.001</td>\n",
              "      <td>{'C': 10, 'gamma': 0.001}</td>\n",
              "      <td>0.869062</td>\n",
              "      <td>0.858750</td>\n",
              "      <td>0.875938</td>\n",
              "      <td>0.866563</td>\n",
              "      <td>0.870625</td>\n",
              "      <td>0.868188</td>\n",
              "      <td>0.005630</td>\n",
              "      <td>7</td>\n",
              "      <td>0.883203</td>\n",
              "      <td>0.881875</td>\n",
              "      <td>0.881250</td>\n",
              "      <td>0.880859</td>\n",
              "      <td>0.881328</td>\n",
              "      <td>0.881703</td>\n",
              "      <td>0.000817</td>\n",
              "    </tr>\n",
              "    <tr>\n",
              "      <th>5</th>\n",
              "      <td>4.201679</td>\n",
              "      <td>0.315382</td>\n",
              "      <td>2.274428</td>\n",
              "      <td>0.163094</td>\n",
              "      <td>10</td>\n",
              "      <td>0.0001</td>\n",
              "      <td>{'C': 10, 'gamma': 0.0001}</td>\n",
              "      <td>0.779062</td>\n",
              "      <td>0.757812</td>\n",
              "      <td>0.788125</td>\n",
              "      <td>0.778125</td>\n",
              "      <td>0.771250</td>\n",
              "      <td>0.774875</td>\n",
              "      <td>0.010079</td>\n",
              "      <td>11</td>\n",
              "      <td>0.780703</td>\n",
              "      <td>0.789141</td>\n",
              "      <td>0.781484</td>\n",
              "      <td>0.775547</td>\n",
              "      <td>0.781484</td>\n",
              "      <td>0.781672</td>\n",
              "      <td>0.004343</td>\n",
              "    </tr>\n",
              "    <tr>\n",
              "      <th>6</th>\n",
              "      <td>2.008356</td>\n",
              "      <td>0.117968</td>\n",
              "      <td>1.064914</td>\n",
              "      <td>0.077437</td>\n",
              "      <td>100</td>\n",
              "      <td>0.01</td>\n",
              "      <td>{'C': 100, 'gamma': 0.01}</td>\n",
              "      <td>0.958438</td>\n",
              "      <td>0.964688</td>\n",
              "      <td>0.967812</td>\n",
              "      <td>0.964063</td>\n",
              "      <td>0.964063</td>\n",
              "      <td>0.963812</td>\n",
              "      <td>0.003026</td>\n",
              "      <td>1</td>\n",
              "      <td>0.998828</td>\n",
              "      <td>0.998437</td>\n",
              "      <td>0.998359</td>\n",
              "      <td>0.998125</td>\n",
              "      <td>0.998594</td>\n",
              "      <td>0.998469</td>\n",
              "      <td>0.000235</td>\n",
              "    </tr>\n",
              "    <tr>\n",
              "      <th>7</th>\n",
              "      <td>2.308817</td>\n",
              "      <td>0.162535</td>\n",
              "      <td>1.145424</td>\n",
              "      <td>0.081505</td>\n",
              "      <td>100</td>\n",
              "      <td>0.001</td>\n",
              "      <td>{'C': 100, 'gamma': 0.001}</td>\n",
              "      <td>0.922813</td>\n",
              "      <td>0.918125</td>\n",
              "      <td>0.924687</td>\n",
              "      <td>0.918438</td>\n",
              "      <td>0.925625</td>\n",
              "      <td>0.921937</td>\n",
              "      <td>0.003121</td>\n",
              "      <td>6</td>\n",
              "      <td>0.946641</td>\n",
              "      <td>0.943672</td>\n",
              "      <td>0.943672</td>\n",
              "      <td>0.946016</td>\n",
              "      <td>0.941953</td>\n",
              "      <td>0.944391</td>\n",
              "      <td>0.001713</td>\n",
              "    </tr>\n",
              "    <tr>\n",
              "      <th>8</th>\n",
              "      <td>2.411452</td>\n",
              "      <td>0.020227</td>\n",
              "      <td>1.604125</td>\n",
              "      <td>0.017451</td>\n",
              "      <td>100</td>\n",
              "      <td>0.0001</td>\n",
              "      <td>{'C': 100, 'gamma': 0.0001}</td>\n",
              "      <td>0.834688</td>\n",
              "      <td>0.814375</td>\n",
              "      <td>0.845625</td>\n",
              "      <td>0.831250</td>\n",
              "      <td>0.835938</td>\n",
              "      <td>0.832375</td>\n",
              "      <td>0.010187</td>\n",
              "      <td>9</td>\n",
              "      <td>0.842969</td>\n",
              "      <td>0.847344</td>\n",
              "      <td>0.840156</td>\n",
              "      <td>0.842344</td>\n",
              "      <td>0.841875</td>\n",
              "      <td>0.842938</td>\n",
              "      <td>0.002393</td>\n",
              "    </tr>\n",
              "    <tr>\n",
              "      <th>9</th>\n",
              "      <td>2.034715</td>\n",
              "      <td>0.135170</td>\n",
              "      <td>1.067029</td>\n",
              "      <td>0.073691</td>\n",
              "      <td>1000</td>\n",
              "      <td>0.01</td>\n",
              "      <td>{'C': 1000, 'gamma': 0.01}</td>\n",
              "      <td>0.957500</td>\n",
              "      <td>0.960938</td>\n",
              "      <td>0.965313</td>\n",
              "      <td>0.960938</td>\n",
              "      <td>0.962812</td>\n",
              "      <td>0.961500</td>\n",
              "      <td>0.002565</td>\n",
              "      <td>2</td>\n",
              "      <td>1.000000</td>\n",
              "      <td>1.000000</td>\n",
              "      <td>0.999922</td>\n",
              "      <td>1.000000</td>\n",
              "      <td>1.000000</td>\n",
              "      <td>0.999984</td>\n",
              "      <td>0.000031</td>\n",
              "    </tr>\n",
              "    <tr>\n",
              "      <th>10</th>\n",
              "      <td>2.922947</td>\n",
              "      <td>0.213164</td>\n",
              "      <td>0.894071</td>\n",
              "      <td>0.065298</td>\n",
              "      <td>1000</td>\n",
              "      <td>0.001</td>\n",
              "      <td>{'C': 1000, 'gamma': 0.001}</td>\n",
              "      <td>0.940312</td>\n",
              "      <td>0.945625</td>\n",
              "      <td>0.949688</td>\n",
              "      <td>0.946562</td>\n",
              "      <td>0.949688</td>\n",
              "      <td>0.946375</td>\n",
              "      <td>0.003444</td>\n",
              "      <td>4</td>\n",
              "      <td>0.984219</td>\n",
              "      <td>0.983437</td>\n",
              "      <td>0.984062</td>\n",
              "      <td>0.984062</td>\n",
              "      <td>0.984922</td>\n",
              "      <td>0.984141</td>\n",
              "      <td>0.000474</td>\n",
              "    </tr>\n",
              "    <tr>\n",
              "      <th>11</th>\n",
              "      <td>2.709793</td>\n",
              "      <td>0.165308</td>\n",
              "      <td>1.267705</td>\n",
              "      <td>0.080835</td>\n",
              "      <td>1000</td>\n",
              "      <td>0.0001</td>\n",
              "      <td>{'C': 1000, 'gamma': 0.0001}</td>\n",
              "      <td>0.864375</td>\n",
              "      <td>0.858125</td>\n",
              "      <td>0.870313</td>\n",
              "      <td>0.861875</td>\n",
              "      <td>0.880313</td>\n",
              "      <td>0.867000</td>\n",
              "      <td>0.007747</td>\n",
              "      <td>8</td>\n",
              "      <td>0.886406</td>\n",
              "      <td>0.888125</td>\n",
              "      <td>0.884062</td>\n",
              "      <td>0.886484</td>\n",
              "      <td>0.883125</td>\n",
              "      <td>0.885641</td>\n",
              "      <td>0.001805</td>\n",
              "    </tr>\n",
              "  </tbody>\n",
              "</table>\n",
              "</div>"
            ],
            "text/plain": [
              "    mean_fit_time  std_fit_time  mean_score_time  std_score_time param_C  \\\n",
              "0        2.305365      0.011420         1.520736        0.009551       1   \n",
              "1        4.196775      0.301444         2.344697        0.202461       1   \n",
              "2        9.228327      0.418167         2.682663        0.185656       1   \n",
              "3        1.950000      0.138065         1.138891        0.087787      10   \n",
              "4        2.281543      0.147028         1.555660        0.019537      10   \n",
              "5        4.201679      0.315382         2.274428        0.163094      10   \n",
              "6        2.008356      0.117968         1.064914        0.077437     100   \n",
              "7        2.308817      0.162535         1.145424        0.081505     100   \n",
              "8        2.411452      0.020227         1.604125        0.017451     100   \n",
              "9        2.034715      0.135170         1.067029        0.073691    1000   \n",
              "10       2.922947      0.213164         0.894071        0.065298    1000   \n",
              "11       2.709793      0.165308         1.267705        0.080835    1000   \n",
              "\n",
              "   param_gamma                        params  split0_test_score  \\\n",
              "0         0.01       {'C': 1, 'gamma': 0.01}           0.923438   \n",
              "1        0.001      {'C': 1, 'gamma': 0.001}           0.790000   \n",
              "2       0.0001     {'C': 1, 'gamma': 0.0001}           0.619375   \n",
              "3         0.01      {'C': 10, 'gamma': 0.01}           0.957500   \n",
              "4        0.001     {'C': 10, 'gamma': 0.001}           0.869062   \n",
              "5       0.0001    {'C': 10, 'gamma': 0.0001}           0.779062   \n",
              "6         0.01     {'C': 100, 'gamma': 0.01}           0.958438   \n",
              "7        0.001    {'C': 100, 'gamma': 0.001}           0.922813   \n",
              "8       0.0001   {'C': 100, 'gamma': 0.0001}           0.834688   \n",
              "9         0.01    {'C': 1000, 'gamma': 0.01}           0.957500   \n",
              "10       0.001   {'C': 1000, 'gamma': 0.001}           0.940312   \n",
              "11      0.0001  {'C': 1000, 'gamma': 0.0001}           0.864375   \n",
              "\n",
              "    split1_test_score  split2_test_score  split3_test_score  \\\n",
              "0            0.920625           0.930937           0.921250   \n",
              "1            0.770312           0.806250           0.794687   \n",
              "2            0.603125           0.621875           0.628437   \n",
              "3            0.960938           0.962812           0.957187   \n",
              "4            0.858750           0.875938           0.866563   \n",
              "5            0.757812           0.788125           0.778125   \n",
              "6            0.964688           0.967812           0.964063   \n",
              "7            0.918125           0.924687           0.918438   \n",
              "8            0.814375           0.845625           0.831250   \n",
              "9            0.960938           0.965313           0.960938   \n",
              "10           0.945625           0.949688           0.946562   \n",
              "11           0.858125           0.870313           0.861875   \n",
              "\n",
              "    split4_test_score  mean_test_score  std_test_score  rank_test_score  \\\n",
              "0            0.930625         0.925375        0.004513                5   \n",
              "1            0.790000         0.790250        0.011604               10   \n",
              "2            0.620000         0.618563        0.008361               12   \n",
              "3            0.961250         0.959937        0.002213                3   \n",
              "4            0.870625         0.868188        0.005630                7   \n",
              "5            0.771250         0.774875        0.010079               11   \n",
              "6            0.964063         0.963812        0.003026                1   \n",
              "7            0.925625         0.921937        0.003121                6   \n",
              "8            0.835938         0.832375        0.010187                9   \n",
              "9            0.962812         0.961500        0.002565                2   \n",
              "10           0.949688         0.946375        0.003444                4   \n",
              "11           0.880313         0.867000        0.007747                8   \n",
              "\n",
              "    split0_train_score  split1_train_score  split2_train_score  \\\n",
              "0             0.939609            0.938828            0.940312   \n",
              "1             0.796797            0.802891            0.796797   \n",
              "2             0.628281            0.627188            0.617188   \n",
              "3             0.984922            0.986172            0.984766   \n",
              "4             0.883203            0.881875            0.881250   \n",
              "5             0.780703            0.789141            0.781484   \n",
              "6             0.998828            0.998437            0.998359   \n",
              "7             0.946641            0.943672            0.943672   \n",
              "8             0.842969            0.847344            0.840156   \n",
              "9             1.000000            1.000000            0.999922   \n",
              "10            0.984219            0.983437            0.984062   \n",
              "11            0.886406            0.888125            0.884062   \n",
              "\n",
              "    split3_train_score  split4_train_score  mean_train_score  std_train_score  \n",
              "0             0.941172            0.939375          0.939859         0.000811  \n",
              "1             0.797031            0.799844          0.798672         0.002404  \n",
              "2             0.623281            0.630000          0.625188         0.004569  \n",
              "3             0.984922            0.986172          0.985391         0.000640  \n",
              "4             0.880859            0.881328          0.881703         0.000817  \n",
              "5             0.775547            0.781484          0.781672         0.004343  \n",
              "6             0.998125            0.998594          0.998469         0.000235  \n",
              "7             0.946016            0.941953          0.944391         0.001713  \n",
              "8             0.842344            0.841875          0.842938         0.002393  \n",
              "9             1.000000            1.000000          0.999984         0.000031  \n",
              "10            0.984062            0.984922          0.984141         0.000474  \n",
              "11            0.886484            0.883125          0.885641         0.001805  "
            ]
          },
          "metadata": {
            "tags": []
          },
          "execution_count": 53
        }
      ]
    },
    {
      "cell_type": "code",
      "metadata": {
        "colab_type": "code",
        "id": "RHRtq3gyFjwD",
        "outputId": "1b9fa68b-539d-409d-8524-5d680432abf5",
        "colab": {
          "base_uri": "https://localhost:8080/",
          "height": 408
        }
      },
      "source": [
        "# converting C to numeric type for plotting on x-axis\n",
        "cv_results['param_C'] = cv_results['param_C'].astype('int')\n",
        "\n",
        "# # plotting\n",
        "plt.figure(figsize=(16,6))\n",
        "\n",
        "# subplot 1/3\n",
        "plt.subplot(131)\n",
        "gamma_01 = cv_results[cv_results['param_gamma']==0.01]\n",
        "\n",
        "plt.plot(gamma_01[\"param_C\"], gamma_01[\"mean_test_score\"])\n",
        "plt.plot(gamma_01[\"param_C\"], gamma_01[\"mean_train_score\"])\n",
        "plt.xlabel('C')\n",
        "plt.ylabel('Accuracy')\n",
        "plt.title(\"Gamma=0.01\")\n",
        "plt.ylim([0.60, 1])\n",
        "plt.legend(['test accuracy', 'train accuracy'], loc='upper left')\n",
        "plt.xscale('log')\n",
        "\n",
        "# subplot 2/3\n",
        "plt.subplot(132)\n",
        "gamma_001 = cv_results[cv_results['param_gamma']==0.001]\n",
        "\n",
        "plt.plot(gamma_001[\"param_C\"], gamma_001[\"mean_test_score\"])\n",
        "plt.plot(gamma_001[\"param_C\"], gamma_001[\"mean_train_score\"])\n",
        "plt.xlabel('C')\n",
        "plt.ylabel('Accuracy')\n",
        "plt.title(\"Gamma=0.001\")\n",
        "plt.ylim([0.60, 1])\n",
        "plt.legend(['test accuracy', 'train accuracy'], loc='upper left')\n",
        "plt.xscale('log')\n",
        "\n",
        "\n",
        "# subplot 3/3\n",
        "plt.subplot(133)\n",
        "gamma_0001 = cv_results[cv_results['param_gamma']==0.0001]\n",
        "\n",
        "plt.plot(gamma_0001[\"param_C\"], gamma_0001[\"mean_test_score\"])\n",
        "plt.plot(gamma_0001[\"param_C\"], gamma_0001[\"mean_train_score\"])\n",
        "plt.xlabel('C')\n",
        "plt.ylabel('Accuracy')\n",
        "plt.title(\"Gamma=0.0001\")\n",
        "plt.ylim([0.60, 1])\n",
        "plt.legend(['test accuracy', 'train accuracy'], loc='upper left')\n",
        "plt.xscale('log')"
      ],
      "execution_count": 54,
      "outputs": [
        {
          "output_type": "display_data",
          "data": {
            "image/png": "[encoded data removed]",
            "text/plain": [
              "<Figure size 1152x432 with 3 Axes>"
            ]
          },
          "metadata": {
            "tags": []
          }
        }
      ]
    },
    {
      "cell_type": "markdown",
      "metadata": {
        "colab_type": "text",
        "id": "UwAdcaOsPYac"
      },
      "source": [
        "We can see that accuracy is high with gamma value  \"0.01\" . Accuarcy is increasing with increase in value of C.(100)"
      ]
    },
    {
      "cell_type": "code",
      "metadata": {
        "colab_type": "code",
        "id": "YrgP6U5ZFjRR",
        "outputId": "ffef675e-05bd-4cdc-b941-e778860ebaf4",
        "colab": {
          "base_uri": "https://localhost:8080/",
          "height": 34
        }
      },
      "source": [
        "best_score = model_cv.best_score_\n",
        "best_hyperparams = model_cv.best_params_\n",
        "print(\"The best test score is {0} corresponding to hyperparameters {1}\".format(best_score, best_hyperparams))"
      ],
      "execution_count": 55,
      "outputs": [
        {
          "output_type": "stream",
          "text": [
            "The best test score is 0.9638125 corresponding to hyperparameters {'C': 100, 'gamma': 0.01}\n"
          ],
          "name": "stdout"
        }
      ]
    },
    {
      "cell_type": "code",
      "metadata": {
        "colab_type": "code",
        "id": "-0tA8za9SAiJ",
        "outputId": "7bb5e2b8-271c-4643-f99b-1061b6f3e341",
        "colab": {
          "base_uri": "https://localhost:8080/",
          "height": 50
        }
      },
      "source": [
        "def SVM_Model(X,y):\n",
        "    X_train, X_test, y_train, y_test = split_data(X,y)\n",
        "    from sklearn.svm import SVC\n",
        "    from sklearn import metrics\n",
        "    \n",
        "    svc = SVC(random_state = 0,C=100, gamma=0.01, kernel=\"rbf\")\n",
        "    #model = SVC(C=1000, gamma=0.01, kernel=\"rbf\")\n",
        "\n",
        "    svc.fit(X_train,y_train)\n",
        "     \n",
        "    y_pred_train = svc.predict(X_train)  \n",
        "    y_pred_test = svc.predict(X_test) \n",
        "    \n",
        "    from sklearn.metrics import accuracy_score\n",
        "    print('Accuracy score for train data using SVM algorithm is:', accuracy_score(y_train,y_pred_train))\n",
        "    print('Accuracy score for test data using SVM algorithm is:', accuracy_score(y_test,y_pred_test))\n",
        "    \n",
        "    \n",
        "    return svc\n",
        "\n",
        "svc= SVM_Model(X,y)\n"
      ],
      "execution_count": 56,
      "outputs": [
        {
          "output_type": "stream",
          "text": [
            "Accuracy score for train data using SVM algorithm is: 0.9985714285714286\n",
            "Accuracy score for test data using SVM algorithm is: 0.9608333333333333\n"
          ],
          "name": "stdout"
        }
      ]
    },
    {
      "cell_type": "markdown",
      "metadata": {
        "id": "Yv217DsY3k1A",
        "colab_type": "text"
      },
      "source": [
        "<a id=section6_7></a>"
      ]
    },
    {
      "cell_type": "markdown",
      "metadata": {
        "colab_type": "text",
        "id": "5ER8NImd26fG"
      },
      "source": [
        "### 6.7 Naive Bayes Model over train and test data "
      ]
    },
    {
      "cell_type": "code",
      "metadata": {
        "colab_type": "code",
        "id": "mhykAR_126fH",
        "outputId": "62710360-9e8c-405f-b17d-5f0c8c405c71",
        "colab": {
          "base_uri": "https://localhost:8080/",
          "height": 50
        }
      },
      "source": [
        "\n",
        "# Naive Bayes\n",
        "def NBModel(X,y):\n",
        "    X_train, X_test, y_train, y_test = split_data(X,y)\n",
        "    from sklearn.naive_bayes import GaussianNB\n",
        "    nb_model = GaussianNB()\n",
        "    nb_model.fit(X_train, y_train)\n",
        "    \n",
        "\n",
        "    y_pred_train = nb_model.predict(X_train)  \n",
        "    y_pred_test = nb_model.predict(X_test) \n",
        "    \n",
        "    from sklearn.metrics import accuracy_score\n",
        "    print('Accuracy score for train data using Naive Bayes algorithm is:', accuracy_score(y_train,y_pred_train))\n",
        "    print('Accuracy score for test data using Naive Bayes algorithm is:', accuracy_score(y_test,y_pred_test))\n",
        "        \n",
        "    \n",
        "    return nb_model\n",
        "\n",
        "nb_model= NBModel(X,y)"
      ],
      "execution_count": 57,
      "outputs": [
        {
          "output_type": "stream",
          "text": [
            "Accuracy score for train data using Naive Bayes algorithm is: 0.6586607142857143\n",
            "Accuracy score for test data using Naive Bayes algorithm is: 0.6529166666666667\n"
          ],
          "name": "stdout"
        }
      ]
    },
    {
      "cell_type": "markdown",
      "metadata": {
        "colab_type": "text",
        "id": "Qnoe5MNZ26fJ"
      },
      "source": [
        "We get a accuracy of 47.1 % using Naive Bayes algorithm."
      ]
    },
    {
      "cell_type": "markdown",
      "metadata": {
        "id": "ak5bP38Y3k1D",
        "colab_type": "text"
      },
      "source": [
        "<a id=section6_8></a>"
      ]
    },
    {
      "cell_type": "markdown",
      "metadata": {
        "id": "8kedpy-C3k1D",
        "colab_type": "text"
      },
      "source": [
        "### 6.8 EnsembleVoteClassifier"
      ]
    },
    {
      "cell_type": "code",
      "metadata": {
        "colab_type": "code",
        "id": "1E5FiRDsWw3x",
        "outputId": "e8584f7e-1321-4104-9ece-5a9b813bd894",
        "colab": {
          "base_uri": "https://localhost:8080/",
          "height": 134
        }
      },
      "source": [
        "from sklearn.svm import SVC\n",
        "from sklearn.neighbors import KNeighborsClassifier\n",
        "from sklearn.ensemble import RandomForestClassifier\n",
        "from sklearn import metrics\n",
        "from mlxtend.classifier import EnsembleVoteClassifier\n",
        "import warnings\n",
        "from xgboost import XGBClassifier, plot_importance\n",
        "from sklearn.ensemble import AdaBoostClassifier, GradientBoostingClassifier\n",
        "\n",
        "\n",
        "svc = SVC(random_state = 0,C=100, gamma=0.01, kernel=\"rbf\")\n",
        "knn_model_ = KNeighborsClassifier(n_neighbors=1,metric=\"manhattan\",leaf_size = 128,algorithm=\"ball_tree\")\n",
        "RF=RandomForestClassifier(random_state = 0,\n",
        "                            bootstrap= True,\n",
        "                            criterion= 'gini',\n",
        "                            max_depth= 16,\n",
        "                            max_features= 'log2',\n",
        "                            min_samples_leaf= 3,\n",
        "                            min_samples_split= 7,\n",
        "                            n_estimators= 700)\n",
        "\n",
        "\n",
        "grad_boost = GradientBoostingClassifier()\n",
        "xgb_boost = XGBClassifier()\n",
        "\n",
        "boost_array = [svc,knn_model_,RF, grad_boost, xgb_boost]\n",
        "\n",
        "eclf = EnsembleVoteClassifier(clfs=[svc,knn_model_,RF, grad_boost, xgb_boost], voting='hard')\n",
        "\n",
        "labels = ['SVC','KNN model','RandomForest', 'Grad Boost', 'XG Boost', 'Ensemble']\n",
        "start= time.time()\n",
        "for clf, label in zip([svc,knn_model_,RF, grad_boost, xgb_boost, eclf], labels):\n",
        "    scores = cross_val_score(clf, X, y, cv=10, scoring='accuracy')\n",
        "    print(\"Mean: {0:.3f}, std: (+/-) {1:.3f} [{2}]\".format(scores.mean(), scores.std(), label))\n",
        "end= time.time()\n",
        "print(\"time taken\",end-start)"
      ],
      "execution_count": 58,
      "outputs": [
        {
          "output_type": "stream",
          "text": [
            "Mean: 0.966, std: (+/-) 0.005 [SVC]\n",
            "Mean: 0.956, std: (+/-) 0.006 [KNN model]\n",
            "Mean: 0.944, std: (+/-) 0.006 [RandomForest]\n",
            "Mean: 0.915, std: (+/-) 0.009 [Grad Boost]\n",
            "Mean: 0.879, std: (+/-) 0.008 [XG Boost]\n",
            "Mean: 0.954, std: (+/-) 0.006 [Ensemble]\n",
            "time taken 1538.524906873703\n"
          ],
          "name": "stdout"
        }
      ]
    },
    {
      "cell_type": "markdown",
      "metadata": {
        "colab_type": "text",
        "id": "ILIodKfzgg1x"
      },
      "source": [
        "SVC is giving better score than the ensemble model. We will use Support Vector Classifier to predict."
      ]
    },
    {
      "cell_type": "code",
      "metadata": {
        "colab_type": "code",
        "id": "p2eQraJSggAX",
        "outputId": "d2cbf582-b2c8-4e7d-9bf6-77db34f0530f",
        "colab": {
          "base_uri": "https://localhost:8080/",
          "height": 50
        }
      },
      "source": [
        "\n",
        "def SVM_Model(X,y):\n",
        "    X_train, X_test, y_train, y_test = split_data(X,y)\n",
        "    from sklearn.svm import SVC\n",
        "    from sklearn import metrics\n",
        "    \n",
        "    svc = SVC(random_state = 0,C=100, gamma=0.01, kernel=\"rbf\")\n",
        "    #model = SVC(C=1000, gamma=0.01, kernel=\"rbf\")\n",
        "\n",
        "    svc.fit(X_train,y_train)\n",
        "     \n",
        "    y_pred_train = svc.predict(X_train)  \n",
        "    y_pred_test = svc.predict(X_test) \n",
        "    y_testpredict=svc.predict(test)\n",
        "    \n",
        "    from sklearn.metrics import accuracy_score\n",
        "    print('Accuracy score for train data using SVM algorithm is:', accuracy_score(y_train,y_pred_train))\n",
        "    print('Accuracy score for test data using SVM algorithm is:', accuracy_score(y_test,y_pred_test))\n",
        "    \n",
        "    \n",
        "    return svc,y_testpredict\n",
        "\n",
        "svc,y_testpredict= SVM_Model(X,y)\n"
      ],
      "execution_count": 59,
      "outputs": [
        {
          "output_type": "stream",
          "text": [
            "Accuracy score for train data using SVM algorithm is: 0.9985714285714286\n",
            "Accuracy score for test data using SVM algorithm is: 0.9608333333333333\n"
          ],
          "name": "stdout"
        }
      ]
    },
    {
      "cell_type": "code",
      "metadata": {
        "colab_type": "code",
        "id": "LHZeT5-pmi18",
        "colab": {}
      },
      "source": [
        ""
      ],
      "execution_count": 0,
      "outputs": []
    },
    {
      "cell_type": "code",
      "metadata": {
        "colab_type": "code",
        "id": "1Ry7LhnZm9aw",
        "outputId": "9671ae72-0781-4d85-d1ca-0829855a843a",
        "colab": {
          "base_uri": "https://localhost:8080/",
          "height": 34
        }
      },
      "source": [
        "\n",
        "test11 = pd.read_csv('https://raw.githubusercontent.com/insaid2018/Term-4/master/Projects/LetterRecognition_test.csv')\n",
        "submit=test11[['id']]\n",
        "print(type(submit))\n",
        "submit['letter'] = y_testpredict\n",
        "\n",
        "submit.to_csv('submit_csvfile_SVC.csv', index=False)"
      ],
      "execution_count": 60,
      "outputs": [
        {
          "output_type": "stream",
          "text": [
            "<class 'pandas.core.frame.DataFrame'>\n"
          ],
          "name": "stdout"
        }
      ]
    },
    {
      "cell_type": "markdown",
      "metadata": {
        "colab_type": "text",
        "id": "iAaqcqXT26fJ"
      },
      "source": [
        "<a id=section6_8></a>"
      ]
    },
    {
      "cell_type": "markdown",
      "metadata": {
        "colab_type": "text",
        "id": "oNNtM49N26gS"
      },
      "source": [
        "## Conclusion Note\n",
        "\n",
        "Also __Support Vector Classifer__ is giving the highest accuracy compared to other models with  score of \"__96 %__\"  hence we choose the algorithm for letter prediction.\n",
        "\n",
        "__Hyperparameters used__\n",
        "C=1000\n",
        "\n",
        "gamma=0.01\n",
        "\n",
        "kernel=\"rbf\""
      ]
    }
  ]
}